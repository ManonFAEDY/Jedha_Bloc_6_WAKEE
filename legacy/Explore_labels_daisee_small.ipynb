{
 "cells": [
  {
   "cell_type": "markdown",
   "id": "38af6486",
   "metadata": {},
   "source": [
    "# 0/ Import"
   ]
  },
  {
   "cell_type": "code",
   "execution_count": null,
   "id": "e4e474f2",
   "metadata": {},
   "outputs": [],
   "source": [
    "import pandas as pd\n",
    "import plotly.express as px"
   ]
  },
  {
   "cell_type": "markdown",
   "id": "8232d0f1",
   "metadata": {},
   "source": [
    "# I/ Import labels file"
   ]
  },
  {
   "cell_type": "code",
   "execution_count": null,
   "id": "7852dd57",
   "metadata": {},
   "outputs": [
    {
     "data": {
      "text/html": [
       "<div>\n",
       "<style scoped>\n",
       "    .dataframe tbody tr th:only-of-type {\n",
       "        vertical-align: middle;\n",
       "    }\n",
       "\n",
       "    .dataframe tbody tr th {\n",
       "        vertical-align: top;\n",
       "    }\n",
       "\n",
       "    .dataframe thead th {\n",
       "        text-align: right;\n",
       "    }\n",
       "</style>\n",
       "<table border=\"1\" class=\"dataframe\">\n",
       "  <thead>\n",
       "    <tr style=\"text-align: right;\">\n",
       "      <th></th>\n",
       "      <th>image_path</th>\n",
       "      <th>boredom</th>\n",
       "      <th>engagement</th>\n",
       "      <th>confusion</th>\n",
       "      <th>frustration</th>\n",
       "      <th>split</th>\n",
       "    </tr>\n",
       "  </thead>\n",
       "  <tbody>\n",
       "    <tr>\n",
       "      <th>0</th>\n",
       "      <td>Train/110001/1100011002/1100011002.jpg</td>\n",
       "      <td>0</td>\n",
       "      <td>2</td>\n",
       "      <td>0</td>\n",
       "      <td>0</td>\n",
       "      <td>train</td>\n",
       "    </tr>\n",
       "    <tr>\n",
       "      <th>1</th>\n",
       "      <td>Train/110001/1100011003/1100011003.jpg</td>\n",
       "      <td>0</td>\n",
       "      <td>2</td>\n",
       "      <td>0</td>\n",
       "      <td>0</td>\n",
       "      <td>train</td>\n",
       "    </tr>\n",
       "    <tr>\n",
       "      <th>2</th>\n",
       "      <td>Train/110001/1100011004/1100011004.jpg</td>\n",
       "      <td>0</td>\n",
       "      <td>3</td>\n",
       "      <td>0</td>\n",
       "      <td>0</td>\n",
       "      <td>train</td>\n",
       "    </tr>\n",
       "    <tr>\n",
       "      <th>3</th>\n",
       "      <td>Train/110001/1100011005/1100011005.jpg</td>\n",
       "      <td>0</td>\n",
       "      <td>3</td>\n",
       "      <td>0</td>\n",
       "      <td>0</td>\n",
       "      <td>train</td>\n",
       "    </tr>\n",
       "    <tr>\n",
       "      <th>4</th>\n",
       "      <td>Train/110001/1100011006/1100011006.jpg</td>\n",
       "      <td>0</td>\n",
       "      <td>3</td>\n",
       "      <td>0</td>\n",
       "      <td>0</td>\n",
       "      <td>train</td>\n",
       "    </tr>\n",
       "    <tr>\n",
       "      <th>...</th>\n",
       "      <td>...</td>\n",
       "      <td>...</td>\n",
       "      <td>...</td>\n",
       "      <td>...</td>\n",
       "      <td>...</td>\n",
       "      <td>...</td>\n",
       "    </tr>\n",
       "    <tr>\n",
       "      <th>7914</th>\n",
       "      <td>Test/987736/987736029/987736029.jpg</td>\n",
       "      <td>0</td>\n",
       "      <td>3</td>\n",
       "      <td>0</td>\n",
       "      <td>0</td>\n",
       "      <td>test</td>\n",
       "    </tr>\n",
       "    <tr>\n",
       "      <th>7915</th>\n",
       "      <td>Test/998826/998826011/998826011.jpg</td>\n",
       "      <td>0</td>\n",
       "      <td>3</td>\n",
       "      <td>0</td>\n",
       "      <td>0</td>\n",
       "      <td>test</td>\n",
       "    </tr>\n",
       "    <tr>\n",
       "      <th>7916</th>\n",
       "      <td>Test/998826/9988260112/9988260112.jpg</td>\n",
       "      <td>0</td>\n",
       "      <td>3</td>\n",
       "      <td>0</td>\n",
       "      <td>0</td>\n",
       "      <td>test</td>\n",
       "    </tr>\n",
       "    <tr>\n",
       "      <th>7917</th>\n",
       "      <td>Test/998826/9988260115/9988260115.jpg</td>\n",
       "      <td>0</td>\n",
       "      <td>3</td>\n",
       "      <td>0</td>\n",
       "      <td>0</td>\n",
       "      <td>test</td>\n",
       "    </tr>\n",
       "    <tr>\n",
       "      <th>7918</th>\n",
       "      <td>Test/998826/9988260119/9988260119.jpg</td>\n",
       "      <td>1</td>\n",
       "      <td>2</td>\n",
       "      <td>0</td>\n",
       "      <td>0</td>\n",
       "      <td>test</td>\n",
       "    </tr>\n",
       "  </tbody>\n",
       "</table>\n",
       "<p>7919 rows × 6 columns</p>\n",
       "</div>"
      ],
      "text/plain": [
       "                                  image_path  boredom  engagement  confusion  \\\n",
       "0     Train/110001/1100011002/1100011002.jpg        0           2          0   \n",
       "1     Train/110001/1100011003/1100011003.jpg        0           2          0   \n",
       "2     Train/110001/1100011004/1100011004.jpg        0           3          0   \n",
       "3     Train/110001/1100011005/1100011005.jpg        0           3          0   \n",
       "4     Train/110001/1100011006/1100011006.jpg        0           3          0   \n",
       "...                                      ...      ...         ...        ...   \n",
       "7914     Test/987736/987736029/987736029.jpg        0           3          0   \n",
       "7915     Test/998826/998826011/998826011.jpg        0           3          0   \n",
       "7916   Test/998826/9988260112/9988260112.jpg        0           3          0   \n",
       "7917   Test/998826/9988260115/9988260115.jpg        0           3          0   \n",
       "7918   Test/998826/9988260119/9988260119.jpg        1           2          0   \n",
       "\n",
       "      frustration  split  \n",
       "0               0  train  \n",
       "1               0  train  \n",
       "2               0  train  \n",
       "3               0  train  \n",
       "4               0  train  \n",
       "...           ...    ...  \n",
       "7914            0   test  \n",
       "7915            0   test  \n",
       "7916            0   test  \n",
       "7917            0   test  \n",
       "7918            0   test  \n",
       "\n",
       "[7919 rows x 6 columns]"
      ]
     },
     "execution_count": 7,
     "metadata": {},
     "output_type": "execute_result"
    }
   ],
   "source": [
    "df_continous = pd.read_csv(r'C:\\Users\\alber\\Desktop\\visual_studio_code\\dossier_jedha\\Jedha_Full_stack\\00_Final_Project\\set\\DAiSEE_small\\final_df_multi.csv')\n",
    "df_continous.head()"
   ]
  },
  {
   "cell_type": "markdown",
   "id": "3f6f2a9c",
   "metadata": {},
   "source": [
    "# II/EDA"
   ]
  },
  {
   "cell_type": "code",
   "execution_count": 8,
   "id": "2eed512e",
   "metadata": {},
   "outputs": [
    {
     "data": {
      "text/html": [
       "<div>\n",
       "<style scoped>\n",
       "    .dataframe tbody tr th:only-of-type {\n",
       "        vertical-align: middle;\n",
       "    }\n",
       "\n",
       "    .dataframe tbody tr th {\n",
       "        vertical-align: top;\n",
       "    }\n",
       "\n",
       "    .dataframe thead th {\n",
       "        text-align: right;\n",
       "    }\n",
       "</style>\n",
       "<table border=\"1\" class=\"dataframe\">\n",
       "  <thead>\n",
       "    <tr style=\"text-align: right;\">\n",
       "      <th></th>\n",
       "      <th>boredom</th>\n",
       "      <th>engagement</th>\n",
       "      <th>confusion</th>\n",
       "      <th>frustration</th>\n",
       "    </tr>\n",
       "  </thead>\n",
       "  <tbody>\n",
       "    <tr>\n",
       "      <th>count</th>\n",
       "      <td>7919.000000</td>\n",
       "      <td>7919.000000</td>\n",
       "      <td>7919.000000</td>\n",
       "      <td>7919.000000</td>\n",
       "    </tr>\n",
       "    <tr>\n",
       "      <th>mean</th>\n",
       "      <td>0.887991</td>\n",
       "      <td>2.347645</td>\n",
       "      <td>0.424549</td>\n",
       "      <td>0.287536</td>\n",
       "    </tr>\n",
       "    <tr>\n",
       "      <th>std</th>\n",
       "      <td>0.898741</td>\n",
       "      <td>0.616144</td>\n",
       "      <td>0.694462</td>\n",
       "      <td>0.590217</td>\n",
       "    </tr>\n",
       "    <tr>\n",
       "      <th>min</th>\n",
       "      <td>0.000000</td>\n",
       "      <td>0.000000</td>\n",
       "      <td>0.000000</td>\n",
       "      <td>0.000000</td>\n",
       "    </tr>\n",
       "    <tr>\n",
       "      <th>25%</th>\n",
       "      <td>0.000000</td>\n",
       "      <td>2.000000</td>\n",
       "      <td>0.000000</td>\n",
       "      <td>0.000000</td>\n",
       "    </tr>\n",
       "    <tr>\n",
       "      <th>50%</th>\n",
       "      <td>1.000000</td>\n",
       "      <td>2.000000</td>\n",
       "      <td>0.000000</td>\n",
       "      <td>0.000000</td>\n",
       "    </tr>\n",
       "    <tr>\n",
       "      <th>75%</th>\n",
       "      <td>2.000000</td>\n",
       "      <td>3.000000</td>\n",
       "      <td>1.000000</td>\n",
       "      <td>0.000000</td>\n",
       "    </tr>\n",
       "    <tr>\n",
       "      <th>max</th>\n",
       "      <td>3.000000</td>\n",
       "      <td>3.000000</td>\n",
       "      <td>3.000000</td>\n",
       "      <td>3.000000</td>\n",
       "    </tr>\n",
       "  </tbody>\n",
       "</table>\n",
       "</div>"
      ],
      "text/plain": [
       "           boredom   engagement    confusion  frustration\n",
       "count  7919.000000  7919.000000  7919.000000  7919.000000\n",
       "mean      0.887991     2.347645     0.424549     0.287536\n",
       "std       0.898741     0.616144     0.694462     0.590217\n",
       "min       0.000000     0.000000     0.000000     0.000000\n",
       "25%       0.000000     2.000000     0.000000     0.000000\n",
       "50%       1.000000     2.000000     0.000000     0.000000\n",
       "75%       2.000000     3.000000     1.000000     0.000000\n",
       "max       3.000000     3.000000     3.000000     3.000000"
      ]
     },
     "execution_count": 8,
     "metadata": {},
     "output_type": "execute_result"
    }
   ],
   "source": [
    "df_continous.describe()"
   ]
  },
  {
   "cell_type": "markdown",
   "id": "8535f55c",
   "metadata": {},
   "source": [
    "## Plotting distributions"
   ]
  },
  {
   "cell_type": "code",
   "execution_count": null,
   "id": "7e9b1225",
   "metadata": {},
   "outputs": [
    {
     "data": {
      "application/vnd.plotly.v1+json": {
       "config": {
        "plotlyServerURL": "https://plot.ly"
       },
       "data": [
        {
         "bingroup": "x",
         "hovertemplate": "boredom=%{x}<br>count=%{y}<extra></extra>",
         "legendgroup": "",
         "marker": {
          "color": "#636efa",
          "pattern": {
           "shape": ""
          }
         },
         "name": "",
         "orientation": "v",
         "showlegend": false,
         "type": "histogram",
         "x": {
          "bdata": "AAAAAAABAAAAAAAAAAAAAAAAAAAAAAAAAAAAAAAAAAAAAQAAAQAAAAEAAAAAAQAAAQAAAAEAAAAAAAAAAAAAAAAAAAAAAAAAAAAAAAAAAAAAAQAAAAEAAAAAAAAAAAAAAAAAAAAAAAABAAAAAAAAAAAAAAACAAEAAQADAgICAgICAgABAAEDAAEAAAAAAQEAAAEAAAAAAAEBAAAAAgACAgACAgIAAAAAAAICAgIAAAADAgECAAACAQEAAQICAQICAgICAQECAQICAgECAgECAgICAgICAQICAgICAgECAAEAAgIAAQECAgABAgACAgICAwIBAAIAAAIBAgEAAAMBAQECAgIBAQEAAQICAQICAQIAAgEDAAEDAgMBAAEAAAEDAAIAAAACAAEAAAAAAAABAAAAAAAAAAAAAAIAAgEAAAAAAAAAAAAAAAEAAAIAAQACAgEDAgICAgIDAAIBAgABAgIAAwACAQIBAgICAgICAgIAAAACAQEAAQICAgICAgICAgADAgIBAQACAgICAgICAgIAAgIAAQECAgEAAgIAAAICAAAAAgIAAgICAAEAAAACAAACAAACAQICAAAAAgICAAAAAQIAAgICAQICAgEBAQACAgICAQIAAgAAAgIBAgICAgABAAIBAQIBAQICAwIAAgACAQIBAAIAAAEAAAAAAQACAQAAAQAAAAEBAgAAAgEAAQAAAQIAAQECAAAAAQAAAQEAAAEAAAEAAAEAAAIAAAEAAQACAAEAAAEAAgIAAAAAAQAAAAEAAQEBAQABAQABAAAAAQEAAQACAQABAAICAgACAAACAAAAAAEAAAAAAAIAAAABAAABAQAAAQAAAQABAAEAAAACAAEAAAECAQAAAAEAAAABAAAAAAABAgAAAQAAAQECAAAAAAEAAgAAAgABAAEAAQEAAgICAQIAAQMCAgABAQIBAAEAAwECAQICAQACAgICAgAAAAIBAgICAAECAQMCAQECAQICAQABAgAAAAABAAAAAAICAAABAQICAgAAAAABAQECAQECAQACAAACAgEBAgABAQEBAgAAAAIAAAECAAICAAIAAgEBAAEBAAIAAQACAAEAAQABAgABAgACAQIBAQEBAAIAAQECAAACAgIAAgAAAQABAQACAAACAgICAgACAgABAQACAQICAAIBAQMBAAEAAAMCAQEAAQACAQICAAECAgIAAQECAAEAAQEAAQEAAAACAAACAAAAAgEAAAEBAAACAgACAAABAAABAQIAAAECAgAAAAICAgACAQECAQEAAAAAAAABAgACAgEBAAIBAQEAAwMDAwIDAgIAAgIBAgADAwMCAgIBAwIAAgACAQEBAQIAAAIBAQAAAQACAQEAAAEAAgEAAwAAAgIBAgACAwICAAIDAgABAAABAgIAAAEBAQABAQEAAAEBAQEBAgIBAQEBAQEBAQEBAQEBAQEBAQEBAQABAQABAQABAwEAAAEBAQEAAQABAQAAAQEBAQEBAAEBAAABAQAAAAAAAAEAAAIAAAEAAAEBAAABAQIBAAEBAQEAAQAAAAABAQAAAAEAAAABAQAAAwECAAECAAECAAAAAAABAgEBAAAAAAEAAAAAAQABAAAAAQEBAAICAQACAAABAAICAgACAAABAwMDAgAAAgAAAAAAAAEBAQABAAICAgIBAQIBAgECAQABAAAAAAABAgMAAgIBAAEAAwEDAQICAQEBAAIBAAICAgIAAAABAgACAgICAgIBAAIBAgECAQEAAgECAQIBAgAAAQICAAABAgAAAAIAAAABAAIAAAABAgIAAAAAAAECAAEAAAECAAABAgABAgAAAQIBAAIAAAAAAAABAgIAAAEAAAAAAgEAAAACAAAAAgEAAAAAAQABAQAAAQMBAQEAAAAAAAEBAAEBAgAAAAEBAAEBAAABAQEBAQEBAAIBAQEBAQMBAQEBAAMAAAEAAQAAAQEAAgEBAQEAAQEBAQEBAQABAAABAgIBAAEAAQEBAAEAAQEDAAEBAgAAAAAAAgAAAQACAAAAAAICAQABAAIAAAAAAAIAAAAAAgAAAAAAAgAAAQABAAEBAAACAQAAAQABAAACAAEAAQECAAACAAEAAQAAAQAAAAAAAgIAAAAAAQIBAAEAAQMBAQAAAQABAQABAQICAQIAAAEBAQIAAAEBAAEAAQIAAQAAAAEBAAICAQEAAQAAAQAAAQABAgAAAAAAAQEBAQEAAAAAAgICAAAAAQIBAQABAgIDAQAAAAEAAAIBAAAAAAICAQAAAQAAAAEAAAABAAAAAAEAAAABAAAAAQAAAAEAAAAAAAAAAAAAAAABAAAAAAEAAAAAAAAAAAABAAABAAAAAAAAAAEAAAABAQABAgEBAQEBAQAAAgACAAMBAAEAAAEAAQAAAQAAAAAAAQABAAAAAAAAAQIAAAEAAAEAAAEBAAAAAAMBAAMCAAAAAAABAAICAQECAgAAAQEAAgIAAgABAwEAAAEAAAICAAEBAQICAgICAgAAAgICAAACAAAAAAAAAAIBAQABAQEAAAEAAgECAAIBAgACAAECAQIBAQECAAABAgIBAAEBAAACAAIAAAEBAAIAAgIAAgECAgEBAAAAAQAAAAAAAAAAAAABAAEAAAEAAAAAAQAAAAAAAAABAAABAAAAAQACAAEAAAAAAAEAAgACAAEBAQACAAIAAgIAAQAAAAABAAEBAAIBAAEAAQEAAgIDAQEAAQEBAQIBAAIBAgIBAQICAwIBAgEAAQAAAgICAQIDAQIAAgACAQECAgEAAAECAwEBAgAAAQEBAgIBAAAAAAABAQIBAAAAAQECAgEAAQICAQAAAAACAQACAgICAgECAAABAQACAAICAgICAAECAgACAgACAgIAAgECAQECAAEAAQIBAgACAAAAAAICAAECAgABAAEBAAAAAQICAQEBAAEBAAMCAgEBAQACAgIBAAIBAAECAgEBAQACAQAAAQIBAQACAgIAAQIDAwEDAwMDAwMDAwICAQABAAAAAAAAAAABAgABAAEAAQEAAAAAAAAAAQIAAAECAAECAAABAQECAAAAAAABAgABAgACAAEAAAAAAQABAAAAAAAAAQAAAAAAAQEAAAEBAQEAAAAAAQEBAAACAAIAAAAAAAEAAAEAAAACAAEAAgAAAAIAAQAAAAIBAAIBAgMBAgACAQIBAAABAAAAAAIAAAECAAEAAgEAAAMAAAEAAAAAAAAAAQEAAQEBAgABAAACAAABAQIAAQIAAQIBAAAAAgIBAAECAQICAAECAAEBAQIBAgICAAIAAQICAQICAQACAQMBAQABAgECAgICAAEBAQICAQEBAAAAAQAAAAEAAAICAAAAAgABAAMBAQEBAgABAQIAAQAAAAABAAIAAAAAAQAAAgEAAAABAAAAAQEBAgEAAAABAAACAAICAQEBAAAAAAAAAAAAAAEAAQAAAQIBAQABAAIBAAAAAQEAAQAAAAACAAEBAgABAAAAAgABAAABAgMBAQIBAQIBAQIBAgECAQICAgIDAwIBAAEAAgEDAgIDAwMCAQEBAQECAgMCAAIBAAAAAAAAAQAAAQEAAAAAAAAAAQAAAAAAAAAAAAEBAQEAAAAAAAEAAAABAAEBAAEAAQECAQABAAEBAQEDAAMAAAAAAAECAAEBAAEBAAABAQEBAQEBAgEBAAABAAEBAQABAQIBAQEBAAEBAAECAgABAQABAQEBAQAAAQABAQABAAEBAAEBAQAAAQAAAQABAAAAAAIAAQAAAAAAAQAAAAABAQEAAAAAAQAAAAAAAAABAQAAAAAAAAABAAEBAQAAAgIAAgEAAAABAAEBAAACAAEBAAAAAAAAAAEAAQAAAQAAAAAAAAAAAAABAgEBAAAAAAAAAQAAAAAAAQABAAEAAQAAAQACAAAAAAAAAQABAQAAAAAAAgABAAAAAAAAAAAAAgEAAgAAAgICAgICAQACAQIBAAAAAQACAgICAQEBAQICAAACAQIAAgICAgIBAAEAAgAAAAIBAgEBAQABAQICAAIAAQABAgECAgABAQECAgECAQIBAgEBAQEBAQMCAQEDAAICAQICAQICAgABAgMCAgICAgABAAABAQACAgEAAgMAAAAAAAEAAgAAAAEAAQICAAIAAAEBAgEBAgECAAEAAQIDAgAAAAACAQAAAQAAAgECAgICAAEBAgIAAQABAAACAQIAAQECAQECAQIBAgECAQAAAgEBAQEAAAEBAQECAQAAAAEAAAABAQABAAAAAQECAQAAAAIAAQIAAQACAQAAAAAAAAAAAAAAAAAAAAACAQAAAQABAAAAAAEBAAAAAAABAQACAAAAAQEAAAAAAAAAAAEAAQAAAAICAAAAAAAAAAAAAAAAAAAAAAAAAAABAAAAAAAAAAAAAAAAAAAAAAAAAAAAAAAAAAAAAAAAAAAAAgAAAAAAAAAAAAAAAAAAAAAAAQAAAAAAAAAAAAEAAgABAAABAAEAAAIBAQIAAgABAAAAAAEAAAAAAAAAAAAAAAEAAAAAAAAAAQACAAAAAAAAAAEBAQAAAAAAAAABAAAAAAAAAAAAAAAAAQIAAAEAAAABAwEAAAEBAQABAQAAAAEAAAABAAACAAABAgACAQEBAgEAAQAAAgEAAgIAAgMBAAIBAgIAAgMBAAIAAAABAAIAAAIBAgIAAgICAAECAgMCAQEAAAAAAQECAAECAQIBAAIAAgICAgIAAQIDAAABAQEBAgIBAgICAgEAAgECAgIAAAICAQACAgICAwICAgICAgMDAgIBAQEBAgADAAMAAQIBAAABAAIAAgIDAAICAgICAgIAAAAAAQMBAgECAgICAgIAAAECAAEBAQIBAQIAAgEBAQEBAgIBAwACAgEAAAEBAQAAAAABAAABAQEAAAACAgABAQAAAAAAAAEAAgAAAAICAAABAgEBAQEAAAIAAQABAAAAAAABAAEBAQACAAAAAQEAAAAAAQIAAQAAAAACAAEAAgABAgABAAAAAQABAAAAAAAAAAEAAAAAAAACAAAAAAAAAAAAAQAAAAAAAQAAAAAAAQAAAAEAAAABAAAAAAAAAAABAAAAAAABAQAAAQMAAQAAAAABAAEBAAIAAQEAAgABAAEAAQEAAAAAAAEBAAAAAQABAAEAAAEBAwIBAAIAAAIAAQECAAAAAAACAAAAAQIAAAABAAEAAQICAQEAAQIAAAEAAAAAAQEAAAEBAAAAAQABAQEBAgAAAQACAQIAAgAAAAACAAABAAIBAgEBAQIAAQACAQACAQICAgAAAgEAAAIAAQIBAgABAAIAAAAAAAACAQABAQEAAQAAAAICAgIBAAAAAAECAAECAAABAAAAAAACAQMAAAAAAgAAAAIBAAADAAMCAgEDAQAAAAACAAEDAgIAAAAAAQACAAAAAAABAgECAgAAAAEAAAEBAgEAAgIAAAABAAECAQEBAQABAQMBAAICAAMBAQEBAQEBAAEBAQABAQIBAgACAAABAgEBAQIBAQEBAAECAAACAAEBAQEBAQIBAQEAAQABAQEBAgEBAQIBAgEBAwEAAgABAgABAgECAQECAgEBAgMAAQIAAQABAAEAAQABAQAAAAEBAAEAAQEAAAIAAAABAQABAAAAAQABAQABAAEBAQABAAEBAAABAQABAAEBAAEAAAABAQAAAQAAAAEBAAABAAAAAQEBAQEBAQEBAAABAQABAgAAAAEAAgAAAAABAQAAAQEAAQEAAQAAAQABAQEBAQEBAQAAAQABAAAAAAEBAQAAAAEBAQABAQEBAgEBAAAAAAABAQEAAQAAAAABAgAAAAAAAAIAAAAAAAAAAAAAAgEAAQIAAAEBAAABAQABAAACAAEBAAEAAQECAwECAQIAAgMAAAIAAAECAgEDAAAAAQEBAgAAAQEBAQICAAIBAQAAAQEAAAICAAECAgIAAQIBAQIBAQEAAAAAAAACAQEBAQABAgAAAgAAAgEDAgAAAQEBAQAAAQIBAgICAAEAAQIAAAACAQAAAQIBAgEAAgIAAQICAgICAgMDAwAAAwACAgIDAQMDAwMDAwICAQIDAgMCAgIDAwIDAwICAgICAgICAgABAgMCAAACAgIDAgICAgIAAgAAAgABAQMCAQIBAgICAgICAgECAwECAgEBAAEBAQEDAgIAAgIAAQIDAwIAAwAAAAECAwICAwMDAgIDAQIAAgEAAAACAAMCAgMCAQACAQICAQICAQADAgIDAAAAAwACAAIAAAIAAAEAAAAAAAABAAECAQEBAQEBAAEAAAACAAEAAgEAAgECAQEBAgECAQEBAAEBAAABAAAAAgEBAQICAAECAAEBAQEBAQABAgAAAQABAQEBAAEAAgEBAgEBAAEAAAEAAQEBAAABAQEBAQEBAQEBAAEBAQABAQABAQAAAQIAAQAAAQIAAQEAAAEAAQEDAQECAQACAgEBAAMAAQEAAQAAAAEAAQEAAAACAgEBAQEAAAEAAQABAQACAgIDAgMAAAADAQICAwECAwADAAIBAwIAAgIAAgICAAICAgIBAgMCAQICAgMDAAACAgABAQICAgABAAABAQAAAAEAAAABAAEAAQEAAAEAAAAAAAEAAAAAAAACAAAAAgAAAAEAAAAAAQICAAECAQICAwICAQICAwEBAwAAAgECAgAAAAADAAMAAQAAAwAAAAAAAAMAAAECAQADAAECAAAAAgMDAwIDAwAAAAMDAAAAAAAAAAAAAAIBAgAAAQEAAQABAAAAAQACAgABAQEAAQEAAAIAAAACAQABAQACAgAAAAABAAEAAQEAAAIAAAABAQEAAAICAQEAAQEBAQAAAgIAAAIAAQIAAQAAAQAAAAECAgECAwIBAAADAgABAAIBAgEBAgECAwMCAQICAQMCAwMCAgICAgICAgICAgICAAIBAgMCAgICAwIAAgICAAIAAwIDAwMCAAICAgICAgICAwIDAgMCAQEDAgMDAAECAAICAQIAAgABAgEAAQADAgACAAAAAQABAAAAAAMAAwMCAgEAAAICAwABAgEBAAIAAAACAQEAAQAAAAABAQAAAAEAAgABAQICAgABAAAAAAIAAAIAAgABAgACAgIBAQIDAgECAQEBAAEAAQICAAECAgECAgIBAAABAAAAAgEAAAIBAAEBAAEBAAACAAIAAAABAAACAgIBAgIDAgIBAQIDAwMDAgICAgMAAQADAAMCAgMCAgIAAQIAAQIDAwMCAgMCAgICAQMDAwMDAgIDAgMDAwMCAgMBAQACAgIAAgACAwICAwICAgIDAgIBAgACAAIDAQACAgIDAgECAQICAAICAQMBAgMCAwADAgICAAICAQIAAAEAAgAAAAIAAAIAAAEDAQIAAQIAAQIAAQEBAgICAAIBAgECAAEAAgACAQICAgIBAQMBAwICAQIBAgIDAgECAgEBAAIBAQACAgIBAAICAgACAgABAAACAAACAQABAAECAQAAAQICAAIDAgEAAAICAgEAAQICAgAAAgEBAgEAAQACAgECAAMCAgICAgICAQIBAAICAgIDAAICAgECAQICAwEBAgIBAwICAgICAQICAgICAQIAAAABAQAAAQEBAQMAAAIAAQACAgICAgICAAICAAIDAwECAgIAAgICAAICAQICAQMCAgIAAgABAwICAgICAgICAgICAAIAAAIAAgACAgICAgICAgIDAQABAQACAAIBAgECAAAAAQIBAQEBAAAAAQACAQECAQIAAAAAAQEAAAAAAAEAAAEAAAAAAAABAAIAAAEAAwEDAgMDAgIAAgMCAwIDAwADAwICAgMAAAMDAQMDAQMCAgEAAAIAAQICAgEAAgABAAECAgAAAAIBAAAAAAAAAAEAAwICAgACAgIAAAECAgECAQMBAQEAAQABAAAAAQACAgMBAgIBAQEDAgECAwEBAQICAgABAgIBAgECAQACAQIBAgICAgEAAgICAgMBAQIAAAECAAEAAwACAQIBAQEAAQAAAgECAgMBAwEBAgICAgIBAgIBAgIDAQICAQICAgIBAQEAAgIAAgIAAgIBAQIDAgICAwAAAAABAAEBAQAAAAICAAEAAQICAAABAQEAAgIBAQICAgACAQEBAQEAAgEBAAICAgIBAQEAAQEBAAIBAQMCAQEBAAEAAgABAQEAAAEDAQMCAQIBAgIBAQECAQEBAgIAAQICAQAAAgIAAwIBAAEBAQEBAAABAQAAAAEAAAIBAQEAAgECAgECAQEBAAABAQEBAQAAAQABAAEAAQEAAQABAAEBAQABAQEBAAEDAAAAAQABAAEAAQABAQAAAAABAQAAAAEAAQEBAAIAAAAAAQEAAQEAAAAAAQAAAAAAAAEAAQAAAQAAAQAAAQAAAQEAAQAAAAAAAAABAQAAAQMBAQEBAAECAgICAAIBAQEAAAIBAgIAAgACAwICAAEAAgIBAAABAAEBAQACAQIBAgACAAEBAAIAAgIAAAABAAIAAgIAAQABAQABAAIAAAIAAgIAAgAAAAEAAAABAQABAAAAAAEBAgEAAQAAAQEAAAAAAAEBAQEAAQECAAAAAQACAQABAQAAAgAAAQAAAAIAAQACAAADAAIAAAIAAQACAgICAgMBAgEBAgIBAQICAgEAAQEBAAIBAgIBAgEAAAAAAwICAQABAgIAAAAAAQAAAAECAgECAAEAAAAAAAEBAQIBAAEBAAIAAgECAAABAAEBAAIBAQACAAABAAEAAAABAQECAAIBAwICAgIDAgMDAgICAQECAAIAAAEAAQIAAAEAAQABAgAAAgECAQEBAAICAgEBAgICAgEAAQIAAQEAAAAAAAACAgAAAQABAAIAAQEBAQAAAQABAAICAQAAAwIBAgACAAABAgACAAMAAAAAAAAAAAABAgIBAQAAAQECAAEBAAAAAAECAAAAAAAAAQECAQEAAAAAAAAAAAAAAAAAAQAAAAABAAACAAAAAAAAAQAAAQEBAAABAQAAAAABAAEBAQABAgICAgIBAQACAgIDAAIAAAAAAAECAgIBAQEAAQACAAEBAgACAgMCAAIAAAAAAQABAgICAAIAAgICAgIBAgIBAgMCAwMDAwICAwICAgIBAgIBAgIBAgEBAgICAgEAAgIAAgICAQIAAAABAQACAgICAgACAgACAgACAAEAAQECAgEBAAICAAAAAAACAAAAAAAAAAABAgICAAEAAAEBAQABAAICAQICAAMBAAEAAQAAAAEAAAAAAQAAAAAAAQAAAAEBAAABAQAAAgAAAAAAAgEAAAAAAAECAQAAAAAAAAECAAAAAAABAAMAAAABAAACAAIAAAEAAAAAAAAAAQACAAEBAgAAAAABAQEAAAAAAAABAAAAAAAAAAAAAAAAAAAAAAAAAAAAAAAAAAABAgEAAQEAAAAAAAAAAAEAAQAAAAAAAAAAAAICAgIAAAICAAAAAAAAAgIAAQEDAAEBAgICAQECAQEBAAAAAgABAAIBAAAAAQECAQABAgIAAAMCAAABAQEAAgEBAQABAAIAAgEBAAAAAgACAAICAAIAAgECAAECAgECAAACAgECAQECAQICAgIAAgIBAQEBAgIBAAAAAQEAAAAAAgABAgAAAgACAAICAQABAAACAgEAAQEBAgEAAQECAAIBAAAAAAEAAgAAAAEBAgIAAgAAAAECAgECAQIBAAIBAQABAAICAAABAQEBAAEBAQAAAAEBAAACAQAAAQAAAAEAAQIAAQACAQEBAAEAAgEBAgIBAAAAAAAAAAABAAAAAAAAAQAAAAEBAQAAAAABAAABAAEAAQABAAABAAEAAQEAAQEAAAAAAQACAAIBAQAAAAEBAAABAAABAAAAAAEAAAAAAAAAAAAAAAAAAQAAAQICAAEAAAAAAAAAAAIAAAEAAgABAwEAAAABAgAAAAAAAgAAAgABAAEAAAEBAAIAAAABAAAAAAEAAAAAAAEAAgAAAAAAAQIAAAEAAAICAgEAAQABAQEAAQACAAECAgAAAAABAgAAAAABAAEAAAAAAQAAAAABAAACAAABAAICAQABAgEBAQABAgICAQAAAAABAAAAAQACAgACAAAAAgAAAgIAAAECAAEBAQEBAAAAAQABAAABAAAAAQEAAQAAAQECAAICAAAAAAACAAABAQEBAgEBAgIBAQEBAgECAQIBAAIBAAECAgIBAAMBAwABAAECAQECAQIBAgEBAAIBAQIBAQEBAAICAQMDAgIDAgIDAAMDAgICAgIBAQEAAgECAQEBAQIBAAAAAQEAAQABAAEBAQABAQEAAQACAwEBAAEAAgABAAEBAAABAQEAAAEAAQABAAABAAAAAQEAAAEAAAEAAAAAAQMAAAAAAAACAQEBAgMBAQAAAAIBAQAAAAEBAQABAAABAQIBAQABAAABAQAAAQMBAAABAQAAAQAAAAEBAQAAAAAAAAABAQEAAAAAAAABAQABAQAAAQEBAAABAQEAAQEBAQIBAQEBAQAAAQABAQEBAAIAAQEBAQABAAEBAAEBAgEBAQEBAAABAQEBAQAAAQABAQEBAQEBAQEAAQEBAwEAAQEBAAABAAADAAABAAEAAQEAAQAAAAAAAAE=",
          "dtype": "i1"
         },
         "xaxis": "x",
         "yaxis": "y"
        }
       ],
       "layout": {
        "barmode": "relative",
        "legend": {
         "tracegroupgap": 0
        },
        "margin": {
         "t": 60
        },
        "template": {
         "data": {
          "bar": [
           {
            "error_x": {
             "color": "#2a3f5f"
            },
            "error_y": {
             "color": "#2a3f5f"
            },
            "marker": {
             "line": {
              "color": "#E5ECF6",
              "width": 0.5
             },
             "pattern": {
              "fillmode": "overlay",
              "size": 10,
              "solidity": 0.2
             }
            },
            "type": "bar"
           }
          ],
          "barpolar": [
           {
            "marker": {
             "line": {
              "color": "#E5ECF6",
              "width": 0.5
             },
             "pattern": {
              "fillmode": "overlay",
              "size": 10,
              "solidity": 0.2
             }
            },
            "type": "barpolar"
           }
          ],
          "carpet": [
           {
            "aaxis": {
             "endlinecolor": "#2a3f5f",
             "gridcolor": "white",
             "linecolor": "white",
             "minorgridcolor": "white",
             "startlinecolor": "#2a3f5f"
            },
            "baxis": {
             "endlinecolor": "#2a3f5f",
             "gridcolor": "white",
             "linecolor": "white",
             "minorgridcolor": "white",
             "startlinecolor": "#2a3f5f"
            },
            "type": "carpet"
           }
          ],
          "choropleth": [
           {
            "colorbar": {
             "outlinewidth": 0,
             "ticks": ""
            },
            "type": "choropleth"
           }
          ],
          "contour": [
           {
            "colorbar": {
             "outlinewidth": 0,
             "ticks": ""
            },
            "colorscale": [
             [
              0,
              "#0d0887"
             ],
             [
              0.1111111111111111,
              "#46039f"
             ],
             [
              0.2222222222222222,
              "#7201a8"
             ],
             [
              0.3333333333333333,
              "#9c179e"
             ],
             [
              0.4444444444444444,
              "#bd3786"
             ],
             [
              0.5555555555555556,
              "#d8576b"
             ],
             [
              0.6666666666666666,
              "#ed7953"
             ],
             [
              0.7777777777777778,
              "#fb9f3a"
             ],
             [
              0.8888888888888888,
              "#fdca26"
             ],
             [
              1,
              "#f0f921"
             ]
            ],
            "type": "contour"
           }
          ],
          "contourcarpet": [
           {
            "colorbar": {
             "outlinewidth": 0,
             "ticks": ""
            },
            "type": "contourcarpet"
           }
          ],
          "heatmap": [
           {
            "colorbar": {
             "outlinewidth": 0,
             "ticks": ""
            },
            "colorscale": [
             [
              0,
              "#0d0887"
             ],
             [
              0.1111111111111111,
              "#46039f"
             ],
             [
              0.2222222222222222,
              "#7201a8"
             ],
             [
              0.3333333333333333,
              "#9c179e"
             ],
             [
              0.4444444444444444,
              "#bd3786"
             ],
             [
              0.5555555555555556,
              "#d8576b"
             ],
             [
              0.6666666666666666,
              "#ed7953"
             ],
             [
              0.7777777777777778,
              "#fb9f3a"
             ],
             [
              0.8888888888888888,
              "#fdca26"
             ],
             [
              1,
              "#f0f921"
             ]
            ],
            "type": "heatmap"
           }
          ],
          "histogram": [
           {
            "marker": {
             "pattern": {
              "fillmode": "overlay",
              "size": 10,
              "solidity": 0.2
             }
            },
            "type": "histogram"
           }
          ],
          "histogram2d": [
           {
            "colorbar": {
             "outlinewidth": 0,
             "ticks": ""
            },
            "colorscale": [
             [
              0,
              "#0d0887"
             ],
             [
              0.1111111111111111,
              "#46039f"
             ],
             [
              0.2222222222222222,
              "#7201a8"
             ],
             [
              0.3333333333333333,
              "#9c179e"
             ],
             [
              0.4444444444444444,
              "#bd3786"
             ],
             [
              0.5555555555555556,
              "#d8576b"
             ],
             [
              0.6666666666666666,
              "#ed7953"
             ],
             [
              0.7777777777777778,
              "#fb9f3a"
             ],
             [
              0.8888888888888888,
              "#fdca26"
             ],
             [
              1,
              "#f0f921"
             ]
            ],
            "type": "histogram2d"
           }
          ],
          "histogram2dcontour": [
           {
            "colorbar": {
             "outlinewidth": 0,
             "ticks": ""
            },
            "colorscale": [
             [
              0,
              "#0d0887"
             ],
             [
              0.1111111111111111,
              "#46039f"
             ],
             [
              0.2222222222222222,
              "#7201a8"
             ],
             [
              0.3333333333333333,
              "#9c179e"
             ],
             [
              0.4444444444444444,
              "#bd3786"
             ],
             [
              0.5555555555555556,
              "#d8576b"
             ],
             [
              0.6666666666666666,
              "#ed7953"
             ],
             [
              0.7777777777777778,
              "#fb9f3a"
             ],
             [
              0.8888888888888888,
              "#fdca26"
             ],
             [
              1,
              "#f0f921"
             ]
            ],
            "type": "histogram2dcontour"
           }
          ],
          "mesh3d": [
           {
            "colorbar": {
             "outlinewidth": 0,
             "ticks": ""
            },
            "type": "mesh3d"
           }
          ],
          "parcoords": [
           {
            "line": {
             "colorbar": {
              "outlinewidth": 0,
              "ticks": ""
             }
            },
            "type": "parcoords"
           }
          ],
          "pie": [
           {
            "automargin": true,
            "type": "pie"
           }
          ],
          "scatter": [
           {
            "fillpattern": {
             "fillmode": "overlay",
             "size": 10,
             "solidity": 0.2
            },
            "type": "scatter"
           }
          ],
          "scatter3d": [
           {
            "line": {
             "colorbar": {
              "outlinewidth": 0,
              "ticks": ""
             }
            },
            "marker": {
             "colorbar": {
              "outlinewidth": 0,
              "ticks": ""
             }
            },
            "type": "scatter3d"
           }
          ],
          "scattercarpet": [
           {
            "marker": {
             "colorbar": {
              "outlinewidth": 0,
              "ticks": ""
             }
            },
            "type": "scattercarpet"
           }
          ],
          "scattergeo": [
           {
            "marker": {
             "colorbar": {
              "outlinewidth": 0,
              "ticks": ""
             }
            },
            "type": "scattergeo"
           }
          ],
          "scattergl": [
           {
            "marker": {
             "colorbar": {
              "outlinewidth": 0,
              "ticks": ""
             }
            },
            "type": "scattergl"
           }
          ],
          "scattermap": [
           {
            "marker": {
             "colorbar": {
              "outlinewidth": 0,
              "ticks": ""
             }
            },
            "type": "scattermap"
           }
          ],
          "scattermapbox": [
           {
            "marker": {
             "colorbar": {
              "outlinewidth": 0,
              "ticks": ""
             }
            },
            "type": "scattermapbox"
           }
          ],
          "scatterpolar": [
           {
            "marker": {
             "colorbar": {
              "outlinewidth": 0,
              "ticks": ""
             }
            },
            "type": "scatterpolar"
           }
          ],
          "scatterpolargl": [
           {
            "marker": {
             "colorbar": {
              "outlinewidth": 0,
              "ticks": ""
             }
            },
            "type": "scatterpolargl"
           }
          ],
          "scatterternary": [
           {
            "marker": {
             "colorbar": {
              "outlinewidth": 0,
              "ticks": ""
             }
            },
            "type": "scatterternary"
           }
          ],
          "surface": [
           {
            "colorbar": {
             "outlinewidth": 0,
             "ticks": ""
            },
            "colorscale": [
             [
              0,
              "#0d0887"
             ],
             [
              0.1111111111111111,
              "#46039f"
             ],
             [
              0.2222222222222222,
              "#7201a8"
             ],
             [
              0.3333333333333333,
              "#9c179e"
             ],
             [
              0.4444444444444444,
              "#bd3786"
             ],
             [
              0.5555555555555556,
              "#d8576b"
             ],
             [
              0.6666666666666666,
              "#ed7953"
             ],
             [
              0.7777777777777778,
              "#fb9f3a"
             ],
             [
              0.8888888888888888,
              "#fdca26"
             ],
             [
              1,
              "#f0f921"
             ]
            ],
            "type": "surface"
           }
          ],
          "table": [
           {
            "cells": {
             "fill": {
              "color": "#EBF0F8"
             },
             "line": {
              "color": "white"
             }
            },
            "header": {
             "fill": {
              "color": "#C8D4E3"
             },
             "line": {
              "color": "white"
             }
            },
            "type": "table"
           }
          ]
         },
         "layout": {
          "annotationdefaults": {
           "arrowcolor": "#2a3f5f",
           "arrowhead": 0,
           "arrowwidth": 1
          },
          "autotypenumbers": "strict",
          "coloraxis": {
           "colorbar": {
            "outlinewidth": 0,
            "ticks": ""
           }
          },
          "colorscale": {
           "diverging": [
            [
             0,
             "#8e0152"
            ],
            [
             0.1,
             "#c51b7d"
            ],
            [
             0.2,
             "#de77ae"
            ],
            [
             0.3,
             "#f1b6da"
            ],
            [
             0.4,
             "#fde0ef"
            ],
            [
             0.5,
             "#f7f7f7"
            ],
            [
             0.6,
             "#e6f5d0"
            ],
            [
             0.7,
             "#b8e186"
            ],
            [
             0.8,
             "#7fbc41"
            ],
            [
             0.9,
             "#4d9221"
            ],
            [
             1,
             "#276419"
            ]
           ],
           "sequential": [
            [
             0,
             "#0d0887"
            ],
            [
             0.1111111111111111,
             "#46039f"
            ],
            [
             0.2222222222222222,
             "#7201a8"
            ],
            [
             0.3333333333333333,
             "#9c179e"
            ],
            [
             0.4444444444444444,
             "#bd3786"
            ],
            [
             0.5555555555555556,
             "#d8576b"
            ],
            [
             0.6666666666666666,
             "#ed7953"
            ],
            [
             0.7777777777777778,
             "#fb9f3a"
            ],
            [
             0.8888888888888888,
             "#fdca26"
            ],
            [
             1,
             "#f0f921"
            ]
           ],
           "sequentialminus": [
            [
             0,
             "#0d0887"
            ],
            [
             0.1111111111111111,
             "#46039f"
            ],
            [
             0.2222222222222222,
             "#7201a8"
            ],
            [
             0.3333333333333333,
             "#9c179e"
            ],
            [
             0.4444444444444444,
             "#bd3786"
            ],
            [
             0.5555555555555556,
             "#d8576b"
            ],
            [
             0.6666666666666666,
             "#ed7953"
            ],
            [
             0.7777777777777778,
             "#fb9f3a"
            ],
            [
             0.8888888888888888,
             "#fdca26"
            ],
            [
             1,
             "#f0f921"
            ]
           ]
          },
          "colorway": [
           "#636efa",
           "#EF553B",
           "#00cc96",
           "#ab63fa",
           "#FFA15A",
           "#19d3f3",
           "#FF6692",
           "#B6E880",
           "#FF97FF",
           "#FECB52"
          ],
          "font": {
           "color": "#2a3f5f"
          },
          "geo": {
           "bgcolor": "white",
           "lakecolor": "white",
           "landcolor": "#E5ECF6",
           "showlakes": true,
           "showland": true,
           "subunitcolor": "white"
          },
          "hoverlabel": {
           "align": "left"
          },
          "hovermode": "closest",
          "mapbox": {
           "style": "light"
          },
          "paper_bgcolor": "white",
          "plot_bgcolor": "#E5ECF6",
          "polar": {
           "angularaxis": {
            "gridcolor": "white",
            "linecolor": "white",
            "ticks": ""
           },
           "bgcolor": "#E5ECF6",
           "radialaxis": {
            "gridcolor": "white",
            "linecolor": "white",
            "ticks": ""
           }
          },
          "scene": {
           "xaxis": {
            "backgroundcolor": "#E5ECF6",
            "gridcolor": "white",
            "gridwidth": 2,
            "linecolor": "white",
            "showbackground": true,
            "ticks": "",
            "zerolinecolor": "white"
           },
           "yaxis": {
            "backgroundcolor": "#E5ECF6",
            "gridcolor": "white",
            "gridwidth": 2,
            "linecolor": "white",
            "showbackground": true,
            "ticks": "",
            "zerolinecolor": "white"
           },
           "zaxis": {
            "backgroundcolor": "#E5ECF6",
            "gridcolor": "white",
            "gridwidth": 2,
            "linecolor": "white",
            "showbackground": true,
            "ticks": "",
            "zerolinecolor": "white"
           }
          },
          "shapedefaults": {
           "line": {
            "color": "#2a3f5f"
           }
          },
          "ternary": {
           "aaxis": {
            "gridcolor": "white",
            "linecolor": "white",
            "ticks": ""
           },
           "baxis": {
            "gridcolor": "white",
            "linecolor": "white",
            "ticks": ""
           },
           "bgcolor": "#E5ECF6",
           "caxis": {
            "gridcolor": "white",
            "linecolor": "white",
            "ticks": ""
           }
          },
          "title": {
           "x": 0.05
          },
          "xaxis": {
           "automargin": true,
           "gridcolor": "white",
           "linecolor": "white",
           "ticks": "",
           "title": {
            "standoff": 15
           },
           "zerolinecolor": "white",
           "zerolinewidth": 2
          },
          "yaxis": {
           "automargin": true,
           "gridcolor": "white",
           "linecolor": "white",
           "ticks": "",
           "title": {
            "standoff": 15
           },
           "zerolinecolor": "white",
           "zerolinewidth": 2
          }
         }
        },
        "xaxis": {
         "anchor": "y",
         "domain": [
          0,
          1
         ],
         "title": {
          "text": "boredom"
         }
        },
        "yaxis": {
         "anchor": "x",
         "domain": [
          0,
          1
         ],
         "title": {
          "text": "count"
         }
        }
       }
      }
     },
     "metadata": {},
     "output_type": "display_data"
    }
   ],
   "source": [
    "px.histogram(df_continous,'boredom')"
   ]
  },
  {
   "cell_type": "code",
   "execution_count": null,
   "id": "b0d4574c",
   "metadata": {},
   "outputs": [
    {
     "data": {
      "application/vnd.plotly.v1+json": {
       "config": {
        "plotlyServerURL": "https://plot.ly"
       },
       "data": [
        {
         "bingroup": "x",
         "hovertemplate": "engagement=%{x}<br>count=%{y}<extra></extra>",
         "legendgroup": "",
         "marker": {
          "color": "#636efa",
          "pattern": {
           "shape": ""
          }
         },
         "name": "",
         "orientation": "v",
         "showlegend": false,
         "type": "histogram",
         "x": {
          "bdata": "AgIDAwMCAwIDAwIDAwMDAwMDAwMDAwMDAwMDAwMDAwMDAgMDAgMDAwMDAwMDAwMDAwMDAwMDAwMDAwMDAwMCAwMDAwMDAwMDAwMDAwMDAwMDAgMDAwMDAwMDAwMDAwMDAgIDAgMDAwMDAwMDAwMDAwMDAgECAgIDAwMBAwIDAwECAwMDAgICAwMDAwMCAwMDAwMCAgMCAgICAwIDAwMCAgICAgIDAgIDAgICAgICAwMBAgIBAwIDAgIDAgICAgICAQICAgICAgECAwICAgICAgICAgEBAwICAgICAgMCAgMCAgIDAgIBAgICAwMCAwMCAwMDAwICAwICAgIDAgECAgICAwICAgICAgICAgMCAgICAgICAwICAwICAwMDAgMCAgICAwICAwICAgIDAgIDAwIDAwMCAwMDAgIDAgICAwMDAwMDAgICAgMDAwEDAgMCAgICAgIBAgECAwICAgICAgICAwMCAgIDAwICAgMCAgIDAgMCAwICAgIDAgICAgICAgMDAgIDAgICAwICAwICAgICAwICAwIDAgICAwIDAwICAwIDAgICAgICAwMDAwMCAwMCAgICAwIDAwICAgICAgMCAgICAgIDAwICAgICAgIDAgMCAgIDAwICAgIDAgICAgMCAwICAgICAgIDAgIDAwICAgMCAgICAgIDAwMDAgICAwMCAgIDAgICAgICAgICAwMCAwIDAgIBAwMBAwMDAgIDAgIDAwMDAgIDAgIDAwMCAwMCAwICAwICAgMCAwMDAgMCAwMCAgIDAgMDAwIDAwMDAwMDAwMCAwMCAgMCAgMCAwICAwIDAwICAwMDAgMCAwMCAwICAgMCAgICAwMDAgMDAwMDAgIDAwMCAgMCAgMDAgMCAwMDAwICAgIDAwIDAgIBAwIDAwMDAAMDAgMDAgIDAgIDAgIBAgIDAgICAgMBAgICAgICAgICAwICAgMCAgICAgMDAgIDAgICAgICAwICAgICAgMCAgIDAgMCAgMBAwMCAwICAgMDAgICAgMDAwICAgIDAwICAQICAwICAgICAgMDAgICAgMCAwMCAgMDAgICAwICAwMCAwECAgIDAgICAgEDAgIBAwMCAgICAwECAwICAgICAgICAQICAgICAAIDAwMCAgMCAwMCAgICAgICAgMDAwICAgIDAQECAgECAgACAgACAgMCAgICAgIDAgICAgIDAwMCAgICAgMCAQMDAwICAwIDAgMCAgIDAwICAgICAQICAgIBAwICAgICAwIBAQMCAgIBAwIBAwICAwIDAwMCAgMCAwMCAgIDAwMCAgIDAgIAAQIBAgIDAQIDAgICAgABAwEDAAIDAgICAwECAgACAwMCAwICAQMDAgICAgIDAgEDAgMDAgMCAgECAgICAwIDAgICAwIDAgICAwIDAwICAgMCAwMDAgMCAgACAgMCAgICAgIDAwMDAwMCAgIDAgMCAgICAwMCAQEDAwMCAgMDAwMDAgIDAgICAwICAwIDAwMDAwMDAwMDAwIDAwIDAwMDAwICAwMDAwMDAgMCAgMCAwMDAgMDAgMDAwIDAwMCAgICAgIDAgICAgICAwMCAwICAgIDAgMDAwICAgIDAgICAwICAgECAwMCAgMBAwMDAgIDAwIDAwMDAgIBAgMDAgMDAwMDAwICAwICAwICAwIDAgIDAgIDAwMCAwIDAwMCAgICAgMCAwMCAgICAwICAgIDAgIDAwMDAgICAQMDAgMCAgICAgECAgICAgICAgICAQICAgICAgICAwMCAwICAgMDAwMCAwMCAwIDAwMCAgICAgIDAwICAgMCAgICAwMCAwMCAgICAgICAwMDAgMCAgMDAgICAgICAwMCAgIDAwMDAwIDAgMCAwIDAgMCAgMCAgICAgICAwMDAwICAwACAgMDAgICAwMCAgMDAgICAwMCAgMCAwIDAgIBAwMDAwMDAwIDAgMDAgICAgICAwMDAgIDAwMCAwIDAwMCAwMCAgMDAwICAwIDAwIDAgMCAgMDAgICAgMDAgICAgMCAwICAwMCAwIDAwIDAwECAwMDAwIDAwMDAgMDAgICAwMDAgMDAgMDAgMDAwICAwMDAgICAwICAwICAQMDAgMDAwMDAQIDAwMDAgICAgMDAgIDAgICAgICAgMCAgEDAgIDAgIDAgICAwICAgICAgICAgICAwICAgICAgIDAgMCAwIDAgIDAgIDAgMCAgICAgMCAgMDAwIDAgICAgICAgICAgICAwICAgIDAwICAgICAwICAgIDAgMDAwICAwMDAgMDAgIDAwMCAwMCAgMDAgICAwMCAgMCAwMDAwMCAwIDAwIBAwIDAwIDAgMCAgMDAwICAgIDAwMDAwMCAwMCAgIDAgICAgICAQMCAgACAwMDAwMCAgIDAgIDAgMCAgMCAwMCAwMDAgIDAwMDAgMDAwIDAwMCAgACAwECAwICAgMDAwIDAgIDAgIDAgECAgECAgICAQICAgIDAwICAwICAwMCAwICAgICAwIDAwMCAgICAwICAwIDAgICAgICAwICAgICAwICAgMCAwICAwMDAwMCAwMDAgICAgIDAgMCAwEDAwICAwMCAwIBAgICAgICAgMDAgIDAwMDAgMCAwMCAgMDAwIDAwICAwMDAwIDAwMCAwIDAwMDAgMCAwMDAwIDAwMDAQIBAgIDAgICAwMDAgICAwICAgMDAgICAwICAwMDAgMCAQIBAwICAgMCAgICAgECAQICAgICAgICAgECAwMDAQMDAgMBAgICAgMCAgICAQICAwICAgICAwICAwMDAgMCAgMCAwIDAwIDAwMDAgIBAgMCAgICAgICAwICAgMCAwICAgIDAwMDAwIDAwECAgICAwIDAgICAQMCAgICAwICAwMCAwMDAwECAgMCAgMCAgICAwMCAgICAgICAgMDAwMCAgMDAgICAgICAgICAwIDAgIDAwMCAgMCAgICAgICAgIDAwECAgMCAgIDAgIAAwIAAAAAAAEAAwICAwMDAwMDAwMCAgMCAgMCAwIDAgICAgMDAwICAgMCAwIDAgEDAwIDAwMDAwMDAgMCAgMDAwMDAwMDAwMDAwMDAgMDAwIDAwMDAgMCAgMDAwIDAwMCAwMCAwIDAwIDAwMCAgICAwMCAwIDAgMCAwICAgIDAgICAgMCAwICAwMDAgICAgMCAwMBAgMCAwMBAwICAgICAgIDAgIDAwIDAwIDAwMDAwMDAgICAgIDAgMCAwMCAwMDAgMDAwICAwICAgICAgMCAgMCAgICAwICAwICAgMCAwICAgIDAgICAgIAAgMCAgMDAwIDAgMCAgICAgMDAgMCAgMDAwMCAgIDAwMDAwICAgIDAgMDAwECAgIDAwMCAgMDAgMCAgMCAwIDAwIDAgMDAgIDAgMCAwMDAgIDAgICAwMCAgMCAwMCAgIDAwEDAwMDAwMDAwMDAgIDAgMCAgMCAwMCAgMCAwMDAwMDAgMDAwMDAwICAwMDAgICAgMCAwIDAgICAgICAwICAgICAgICAwICAgMCAgMDAQICAgICAgECAwIDAgIBAgICAgMCAwMDAgMDAgMDAwIDAwMDAwMDAwMDAwMDAwMDAgMDAgIDAwMDAgMDAwMCAwICAwMDAwIBAgIDAwICAgICAgIDAwMBAwIDAwICAgIDAwMDAgICAgICAgICAgMDAwICAgMDAgIDAgMCAgIDAwICAgMDAgMDAwMCAwMDAwMDAwICAgICAwMCAgMCAwMDAgMDAgMDAgMDAwICAgIDAwIDAwMCAwIDAgIBAwMDAgMDAwMDAwICAwMDAwMCAgMDAgMDAgMDAgMDAwICAgMCAgICAwMCAwMDAwMCAwMDAgMCAwIDAwIDAgMDAwMDAgICAwIDAgIDAwIDAwMDAgMDAwMDAgIDAwIDAgMCAwMDAgMCAwMCAgIDAgMCAwIDAwMCAwIDAgMDAwMCAgEBAQICAQMCAgIBAwMDAgMCAQMDAgIDAgICAgICAgMCAgECAgICAwIDAQMCAgICAgIDAgICAwICAwICAgICAgMCAwICAgICAgIDAgIDAwICAwICAwICAgIBAwIDAwIDAgICAgMDAQEBAQIDAgICAwIDAgICAgICAgICAgICAgIDAgIDAgMCAgECAgICAgICAwIDAwICAwICAgICAwMDAgIBAgMDAgIDAgICAQICAwICAgICAgMCAwICAwICAwICAwMDAgICAgICAgMCAgICAgICAgIDAwEDAwMDAgMDAwMCAwICAwICAgICAwIDAgICAgMCAgMCAgIDAwICAgICAwIDAwMDAwMCAwMDAgMDAQMCAgICAwMDAwIDAwMCAgIDAwIDAwMDAgMDAwMDAwMDAwICAgMDAgMDAwMDAwMDAwMCAwMCAgMCAgMCAwMDAwMCAgMCAwMDAwMDAwMDAwMDAwMDAwIDAwMDAgICAgICAwMCAwMCAwICAwMCAwMCAwMDAwIDAgMCAgMCAgICAgIDAwICAwIDAwICAwMDAgICAwMDAwMDAwMDAwICAwIDAwMDAgMDAwIDAwMCAgICAwMDAwMDAgMBAgMDAwMCAwIDAwMCAgICAgIDAwMCAgIDAgIDAgMCAgMDAgICAwMCAwICAgICAgICAgIDAQMDAgICAgMDAgICAQABAwADAQICAgIDAQMCAgMCAgIDAgICAgIDAgMDAgICAwEBAgICAgIDAgICAwIDAgICAgIDAgICAgICAgIBAwICAwMCAQICAgICAQIDAgIBAgIDAwICAwMCAgECAwEDAgECAgMCAgICAgEDAQIBAgICAgICAwMCAwMDAgICAgICAwICAgICAwIBAgMCAgIBAwECAgEBAgMCAQICAwICAgICAgICAgICAgICAgICAgICAwMCAgIDAgMCAgIDAwMDAgMCAgICAgICAwICAwMCAgMDAgICAwMCAwMCAwMDAwIDAwIDAgMDAwICAwMCAgMDAwMDAwICAgICAQIDAwMDAwMCAwICAgMCAQIDAQMDAgMCAgMCAwMDAwMDAwMDAgIBAwIDAwMCAwMDAwMDAwMDAgMCAwMDAgICAwICAgMDAwMDAwMCAwMDAgMCAwMCAwMDAwIDAwMDAwMCAwICAwMCAgIDAgMDAwMDAwIDAgIDAwIDAwIDAwMBAwICAgMCAgMCAgMDAwIDAwMDAwIDAgMCAgMCAgEDAwMCAgMCAgICAgMCAgICAgICAwICAgICAwICAwICAgICAgMCAgMCAgICAgICAgIDAgIBAwMCAgICAgICAgIDAwICAgICAwICAgMDAgICAgIDAgICAgMCAwIDAgIDAgMDAgMDAgIDAgICAgICAQICAgMCAwIBAwIBAAMDAwIBAgICAwICAgEDAwACAgECAwAAAgECAgMAAwMDAwMCAwEAAgIDAgMCAgMCAwMCAgICAgICAwMDAgMDAgICAgMCAgIDAwMDAgIDAgMDAgMCAwIDAwECAwECAgICAgMCAwMCAgMDAgICAgMBAwICAwICAwMCAgICAwICAwMCAwICAwIDAgEDAwMDAgMCAgMCAgICAwIDAwMDAwMCAgMCAgMCAwICAwICAgIDAgIDAwICAQMDAwEDAgMCAgMDAwIDAwEDAgIDAwIDAwMCAgMDAgICAgMCAgICAwMBAwMCAwMDAwMCAwIDAwICAgMDAwICAwIDAwMCAwMCAwIDAgMDAgMDAwMDAgMCAwMDAwMDAgMDAwMDAgMDAwICAgMDAwMDAgMDAwMDAwIDAgIDAwMCAwMDAgMCAwMDAgMDAwMDAwIDAwMDAwMCAQIDAAMDAwMDAgIDAgMDAwMDAwMDAwMCAwMDAwMDAgMDAwMDAgMDAwIDAwMDAwMCAwMDAgMCAwICAwIDAQICAQICAgICAgIDAwECAgIDAwIDAwIDAgMCAgMDAgICAwMCAwICAgMDAgICAwICAwICAgIDAgICAwICAgICAgMCAwMCAgIDAgMDAgMDAgIDAgMCAgMCAgICAwIDAgECAgICAwMDAwICAwICAgICAgMDAgIDAgICAQEBAgICAgIBAQADAgMCAQEBAgACAQECAgICAgECAQEAAgIDAQMDAgICAwIBAgEDAgMCAAICAgIDAgICAQMBAgICAgICAgICAwMCAgICAgMCAgICAgMCAQIBAgMCAgMCAgMBAgEDAgICAgICAQICAgMDAwIBAgMCAwICAgECAwICAgMDAwMDAgECAQICAwECAgECAgICAgMCAgECAwMDAgMCAgIDAwMDAwMDAwMDAwMCAgMDAgMDAgIDAwMDAwMCAwMDAQMDAgMBAwMDAwIDAwMCAwMDAwMCAwMDAQMCAgEBAwIDAwMCAgMDAwMDAgMDAwICAwICAwIDAwIDAwMCAwMDAwMDAwMDAgMBAgMDAwIDAgMCAwIDAwMDAwMDAgIDAgMCAwMDAQIDAwMDAwMDAgMDAwMDAgMDAwIDAwMDAgMDAwMDAwMDAwIDAQMDAwMCAwIDAwIDAwIDAgMCAgICAgIDAwICAgICAgECAwICAwMCAgICAgIDAgMCAwICAgIBAAIBAwMCAQICAgMCAgMCAgICAwMCAgMDAgIDAwICAwMCAgICAgIDAwICAwMCAgICAwIDAwMCAgMCAwMCAgIDAwICAgICAgMBAgICAQECAgEAAgICAgICAgIBAwMDAgIAAAIDAgMDAwMAAwIDAwEDAgIBAgICAgECAgMCAQEBAgIAAgMDAgICAgIDAwMDAgMDAwICAgMDAgIDAwMCAgICAwMCAgMCAgIDAwMCAgIDAwICAgMCAgICAgMCAgICAgMCAgICAwIDAgICAgIDAgMCAgMCAwMCAgMDAwIDAwICAgIDAgIDAgMDAwICAgMCAwIDAwIBAgIDAwICAQICAgICAwMCAgICAgMCAgADAgICAQICAgICAgICAgICAwIBAQICAwEBAgICAwIDAAIDAAEDAgICAgICAgICAgIDAgECAgIBAgICAwIBAgMCAgIDAgMCAgIDAgMCAwMCAwMDAgMDAwMCAgEDAQICAwEDAgMBAgICAgMDAgIDAwIDAgIAAwICAwMCAwMCAwIDAwICAgICAgMDAwICAgIBAwMDAgMDAgMCAgICAgIDAgMCAQICAgMDAgMBAwICAgICAgICAgICAwIDAgECAgICAwIDAwMCAQMBAwMCAwIBAwMCAgEDAgICAgICAgIAAQIBAgICAgIDAgICAQICAQICAgIDAwEDAgICAgMBAgICAQECAQMBAQECAgEBAgIBAQICAQICAQICAQICAwMCAAICAQICAgIBAgICAgMCAwICAwICAgICAgICAwIDAgICAgEDAgICAQMBAwIDAwMCAgIDAwICAQMDAgIDAgMCAgICAgICAgMCAQEDAgICAgMCAgIBAgIBAgIDAQMCAgECAgICAgIBAwECAQICAgIBAAICAgICAwIDAgICAgICAgIBAgMCAgICAwICAwICAgECAgICAgICAgMCAgICAwMCAgICAgMDAwECAQIDAQIDAwIDAgMCAgMCAgICAwICAgICAQICAgICAwICAQICAgIBAgICAgMCAgICAAIBAgIBAwICAgICAwICAgIBAgIDAgMCAwMDAwIDAgICAwICAQICAgIDAgIBAQICAQICAgICAgIBAgICAQECAQICAQICAgECAgICAgICAgICAwICAwMCAQECAgIBAgIBAQIBAgICAgICAgIDAgIDAgICAgIDAgICAwIDAwMBAgICAgICAgIDAgIDAgMDAwICAgMDAgMCAwIDAwIDAgIDAQMBAgECAgIDAQACAAEAAAICAQMCAgICAwEAAgIAAQMCAwECAwIDAgIBAwICAgMCAQICAwMDAwMDAgMDAgIDAwIDAQEBAgMDAgMCAgMCAgECAgICAgIDAgMDAwIDAwICAgICAwICAgIDAgMCAgIDAgMDAQICAwICAgMCAwMDAgMCAwICAQIDAgICAQECAQIDAwICAwIDAwICAgICAgICAwICAgMCAgMCAgICAgICAgICAgICAQIDAgIDAwICAgIDAwMBAgICAgIBAgICAgICAgICAgMDAgMCAgMDAwICAwICAgMDAwIDAAMDAwMCAQICAwEBAgECAQICAwIDAgICAwEBAwMDAgIDAwICAwEDAgECAwIDAwICAQMDAQMDAwICAwIDAwEDAgMDAwECAwMCAQMCAwMCAwIDAgIDAgMCAwIDAgMCAgMDAgMDAgIDAwICAwIDAwMDAwMDAQICAgMCAwIDAgMBAgMDAwEDAwEDAAMDAgMCAgICAwIDAgICAwIDAwMCAwMDAwMDAgMDAAMCAwMCAwMDAgIDAwECAwIDAwMDAgICAwMCAwMDAwMDAwMCAgMCAwMDAwMDAwMDAgIDAgMDAgMDAwIDAwIDAwMCAgICAgICAgICAwICAgICAwIDAwIDAQMCAgICAgMCAwMDAwICAgIDAgICAgIDAgMBAgMCAgICAQICAwMDAwICAgICAgMCAwICAgIDAgICAwIDAgMDAgMDAwMCAwMCAgICAgIDAwIDAwMCAgMDAwMCAwMDAgMCAgICAgMCAgMCAgMCAwMDAgMDAgIDAgICAwIDAgMCAwIDAwIDAgICAgIBAQICAgEBAgICAgMCAQICAQICAwICAgEBAgICAgMCAgIDAgMDAgIDAwMDAgIDAwICAgICAwIDAwMDAwICAgICAwMCAwMDAgICAgMCAgICAgMCAgMDAwICAgICAwICAgMCAwIDAgIDAgICAQIBAQIBAwICAgICAwIDAgICAwMCAgMCAwMDAwICAgMCAgICAgMDAwICAgMCAgICAgIDAgMDAgICAgICAQICAwMCAgICAwIDAgMCAgICAQIDAgIDAgMCAwICAwICAwECAwMCAgMDAgMCAgIDAgMCAgMCAwMDAwMDAwECAgIDAgICAgICAwIDAgMDAwMDAwMCAwIDAgMDAwMCAwICAgIDAwIDAgMDAgICAwMCAgMCAwIDAwMCAgMCAgICAgMCAwICAgIDAwICAwIDAwICAwICAwICAgMCAQIDAwMDAwICAwIDAwMDAwMDAQMDAgMDAwIDAgICAgMCAwABAQIBAgICAQICAgEBAQICAgICAwECAgICAgACAgIDAwMCAgIDAgEDAgIDAwMCAgICAgMCAgMCAwICAwICAgMCAwIBAwMCAwMCAgICAgMDAgIBAgMDAgICAwEDAgICAgICAgMCAwICAwIDAwMCAgICAwICAgMDAwMDAwMDAgMCAwMDAwIDAwMCAgICAgICAwMDAwICAwICAgMDAgMDAwICAwICAgIDAwICAgMDAwMCAwIDAwICAwIDAgICAgICAgIDAgIDAwMDAwIDAwMCAwMDAwMDAgMDAgIDAgIDAgMDAgMDAgIDAgMDAgMDAwICAwMDAwMDAgIDAgMDAwICAgICAgICAgIDAwICAgMCAgIDAwEDAwICAwICAgECAgMCAgIBAwMCAgICAgIDAgIDAwICAgMCAgEDAgMCAgMCAwICAgIBAgMDAgMCAgICAgIDAgMDAgICAwICAwICAwIDAgICAwICAgICAgICAgEBAwICAgIDAgMDAgICAwIDAwICAwIDAwIDAgMDAwMCAwICAgICAwMCAgIDAgMDAgICAgMCAwMCAwIDAgIDAgMDAwMDAgIDAgMCAgICAwICAgMCAwICAgMDAgMCAgICAgMCAwMCAwICAwICAwICAwMCAgMCAwIDAwICAgIDAgICAwICAwICAgICAwMDAwMDAwMCAwMCAwMDAgMDAgIDAgMCAwMCAwIDAwMDAgMCAwMDAgMCAwIDAwICAwMDAQMDAgICAgMDAwICAwIDAwMCAgMDAwIDAgMDAgMDAwMDAwMCAgICAQIDAgICAwIDAgICAwMCAgMCAgICAgICAgMCAwIDAgICAgIDAgMCAwMCAgMCAgMDAwICAwICAQICAwMCAwICAgICAwICAgIDAgMDAgICAwMCAgIDAgICAgIDAgICAgMCAwIDAgICAwMCAgIDAwIDAgMDAgICAgICAwMCAgICAwIDAgICAwIDAgMCAgMDAwMCAgIDAgMCAgICAwICAgMDAgIDAgICAgICAQICAwIDAwMCAgICAwMDAgIDAgICAwICAwICAwICAQICAgMCAgIDAQMDAQICAQICAgEBAgICAwIDAwMCAQECAgMDAQICAgIBAwMDAwMCAwIDAwMCAwECAwIBAwACAgECAwIBAgEBAwIBAQEBAQMBAgMDAQIBAQICAgEDAwMDAgICAwICAwMCAgECAgECAwMDAQICAwMDAgMCAwIDAwMCAwMDAwMDAwMCAwMDAwMDAwMDAwIDAwIDAwMDAwIDAwMDAwMCAwMDAQMDAwMDAwMCAwMDAwMDAgMCAwICAgIDAwMCAgMDAgMDAwIDAwMDAgICAgMCAwMCAgIDAwMDAgMCAgMDAwMDAwMDAQMCAwMDAgMDAgIBAgMDAwIDAgMCAAMCAgMDAwMDAwIDAwIDAQMDAwIDAwMDAQIDAQIDAgMCAwMCAwMCAwMCAwICAwMDAwMCAgMDAwMDAgMDAgMDAwICAwMBAgIDAwMDAQIDAgIDAwMDAwI=",
          "dtype": "i1"
         },
         "xaxis": "x",
         "yaxis": "y"
        }
       ],
       "layout": {
        "barmode": "relative",
        "legend": {
         "tracegroupgap": 0
        },
        "margin": {
         "t": 60
        },
        "template": {
         "data": {
          "bar": [
           {
            "error_x": {
             "color": "#2a3f5f"
            },
            "error_y": {
             "color": "#2a3f5f"
            },
            "marker": {
             "line": {
              "color": "#E5ECF6",
              "width": 0.5
             },
             "pattern": {
              "fillmode": "overlay",
              "size": 10,
              "solidity": 0.2
             }
            },
            "type": "bar"
           }
          ],
          "barpolar": [
           {
            "marker": {
             "line": {
              "color": "#E5ECF6",
              "width": 0.5
             },
             "pattern": {
              "fillmode": "overlay",
              "size": 10,
              "solidity": 0.2
             }
            },
            "type": "barpolar"
           }
          ],
          "carpet": [
           {
            "aaxis": {
             "endlinecolor": "#2a3f5f",
             "gridcolor": "white",
             "linecolor": "white",
             "minorgridcolor": "white",
             "startlinecolor": "#2a3f5f"
            },
            "baxis": {
             "endlinecolor": "#2a3f5f",
             "gridcolor": "white",
             "linecolor": "white",
             "minorgridcolor": "white",
             "startlinecolor": "#2a3f5f"
            },
            "type": "carpet"
           }
          ],
          "choropleth": [
           {
            "colorbar": {
             "outlinewidth": 0,
             "ticks": ""
            },
            "type": "choropleth"
           }
          ],
          "contour": [
           {
            "colorbar": {
             "outlinewidth": 0,
             "ticks": ""
            },
            "colorscale": [
             [
              0,
              "#0d0887"
             ],
             [
              0.1111111111111111,
              "#46039f"
             ],
             [
              0.2222222222222222,
              "#7201a8"
             ],
             [
              0.3333333333333333,
              "#9c179e"
             ],
             [
              0.4444444444444444,
              "#bd3786"
             ],
             [
              0.5555555555555556,
              "#d8576b"
             ],
             [
              0.6666666666666666,
              "#ed7953"
             ],
             [
              0.7777777777777778,
              "#fb9f3a"
             ],
             [
              0.8888888888888888,
              "#fdca26"
             ],
             [
              1,
              "#f0f921"
             ]
            ],
            "type": "contour"
           }
          ],
          "contourcarpet": [
           {
            "colorbar": {
             "outlinewidth": 0,
             "ticks": ""
            },
            "type": "contourcarpet"
           }
          ],
          "heatmap": [
           {
            "colorbar": {
             "outlinewidth": 0,
             "ticks": ""
            },
            "colorscale": [
             [
              0,
              "#0d0887"
             ],
             [
              0.1111111111111111,
              "#46039f"
             ],
             [
              0.2222222222222222,
              "#7201a8"
             ],
             [
              0.3333333333333333,
              "#9c179e"
             ],
             [
              0.4444444444444444,
              "#bd3786"
             ],
             [
              0.5555555555555556,
              "#d8576b"
             ],
             [
              0.6666666666666666,
              "#ed7953"
             ],
             [
              0.7777777777777778,
              "#fb9f3a"
             ],
             [
              0.8888888888888888,
              "#fdca26"
             ],
             [
              1,
              "#f0f921"
             ]
            ],
            "type": "heatmap"
           }
          ],
          "histogram": [
           {
            "marker": {
             "pattern": {
              "fillmode": "overlay",
              "size": 10,
              "solidity": 0.2
             }
            },
            "type": "histogram"
           }
          ],
          "histogram2d": [
           {
            "colorbar": {
             "outlinewidth": 0,
             "ticks": ""
            },
            "colorscale": [
             [
              0,
              "#0d0887"
             ],
             [
              0.1111111111111111,
              "#46039f"
             ],
             [
              0.2222222222222222,
              "#7201a8"
             ],
             [
              0.3333333333333333,
              "#9c179e"
             ],
             [
              0.4444444444444444,
              "#bd3786"
             ],
             [
              0.5555555555555556,
              "#d8576b"
             ],
             [
              0.6666666666666666,
              "#ed7953"
             ],
             [
              0.7777777777777778,
              "#fb9f3a"
             ],
             [
              0.8888888888888888,
              "#fdca26"
             ],
             [
              1,
              "#f0f921"
             ]
            ],
            "type": "histogram2d"
           }
          ],
          "histogram2dcontour": [
           {
            "colorbar": {
             "outlinewidth": 0,
             "ticks": ""
            },
            "colorscale": [
             [
              0,
              "#0d0887"
             ],
             [
              0.1111111111111111,
              "#46039f"
             ],
             [
              0.2222222222222222,
              "#7201a8"
             ],
             [
              0.3333333333333333,
              "#9c179e"
             ],
             [
              0.4444444444444444,
              "#bd3786"
             ],
             [
              0.5555555555555556,
              "#d8576b"
             ],
             [
              0.6666666666666666,
              "#ed7953"
             ],
             [
              0.7777777777777778,
              "#fb9f3a"
             ],
             [
              0.8888888888888888,
              "#fdca26"
             ],
             [
              1,
              "#f0f921"
             ]
            ],
            "type": "histogram2dcontour"
           }
          ],
          "mesh3d": [
           {
            "colorbar": {
             "outlinewidth": 0,
             "ticks": ""
            },
            "type": "mesh3d"
           }
          ],
          "parcoords": [
           {
            "line": {
             "colorbar": {
              "outlinewidth": 0,
              "ticks": ""
             }
            },
            "type": "parcoords"
           }
          ],
          "pie": [
           {
            "automargin": true,
            "type": "pie"
           }
          ],
          "scatter": [
           {
            "fillpattern": {
             "fillmode": "overlay",
             "size": 10,
             "solidity": 0.2
            },
            "type": "scatter"
           }
          ],
          "scatter3d": [
           {
            "line": {
             "colorbar": {
              "outlinewidth": 0,
              "ticks": ""
             }
            },
            "marker": {
             "colorbar": {
              "outlinewidth": 0,
              "ticks": ""
             }
            },
            "type": "scatter3d"
           }
          ],
          "scattercarpet": [
           {
            "marker": {
             "colorbar": {
              "outlinewidth": 0,
              "ticks": ""
             }
            },
            "type": "scattercarpet"
           }
          ],
          "scattergeo": [
           {
            "marker": {
             "colorbar": {
              "outlinewidth": 0,
              "ticks": ""
             }
            },
            "type": "scattergeo"
           }
          ],
          "scattergl": [
           {
            "marker": {
             "colorbar": {
              "outlinewidth": 0,
              "ticks": ""
             }
            },
            "type": "scattergl"
           }
          ],
          "scattermap": [
           {
            "marker": {
             "colorbar": {
              "outlinewidth": 0,
              "ticks": ""
             }
            },
            "type": "scattermap"
           }
          ],
          "scattermapbox": [
           {
            "marker": {
             "colorbar": {
              "outlinewidth": 0,
              "ticks": ""
             }
            },
            "type": "scattermapbox"
           }
          ],
          "scatterpolar": [
           {
            "marker": {
             "colorbar": {
              "outlinewidth": 0,
              "ticks": ""
             }
            },
            "type": "scatterpolar"
           }
          ],
          "scatterpolargl": [
           {
            "marker": {
             "colorbar": {
              "outlinewidth": 0,
              "ticks": ""
             }
            },
            "type": "scatterpolargl"
           }
          ],
          "scatterternary": [
           {
            "marker": {
             "colorbar": {
              "outlinewidth": 0,
              "ticks": ""
             }
            },
            "type": "scatterternary"
           }
          ],
          "surface": [
           {
            "colorbar": {
             "outlinewidth": 0,
             "ticks": ""
            },
            "colorscale": [
             [
              0,
              "#0d0887"
             ],
             [
              0.1111111111111111,
              "#46039f"
             ],
             [
              0.2222222222222222,
              "#7201a8"
             ],
             [
              0.3333333333333333,
              "#9c179e"
             ],
             [
              0.4444444444444444,
              "#bd3786"
             ],
             [
              0.5555555555555556,
              "#d8576b"
             ],
             [
              0.6666666666666666,
              "#ed7953"
             ],
             [
              0.7777777777777778,
              "#fb9f3a"
             ],
             [
              0.8888888888888888,
              "#fdca26"
             ],
             [
              1,
              "#f0f921"
             ]
            ],
            "type": "surface"
           }
          ],
          "table": [
           {
            "cells": {
             "fill": {
              "color": "#EBF0F8"
             },
             "line": {
              "color": "white"
             }
            },
            "header": {
             "fill": {
              "color": "#C8D4E3"
             },
             "line": {
              "color": "white"
             }
            },
            "type": "table"
           }
          ]
         },
         "layout": {
          "annotationdefaults": {
           "arrowcolor": "#2a3f5f",
           "arrowhead": 0,
           "arrowwidth": 1
          },
          "autotypenumbers": "strict",
          "coloraxis": {
           "colorbar": {
            "outlinewidth": 0,
            "ticks": ""
           }
          },
          "colorscale": {
           "diverging": [
            [
             0,
             "#8e0152"
            ],
            [
             0.1,
             "#c51b7d"
            ],
            [
             0.2,
             "#de77ae"
            ],
            [
             0.3,
             "#f1b6da"
            ],
            [
             0.4,
             "#fde0ef"
            ],
            [
             0.5,
             "#f7f7f7"
            ],
            [
             0.6,
             "#e6f5d0"
            ],
            [
             0.7,
             "#b8e186"
            ],
            [
             0.8,
             "#7fbc41"
            ],
            [
             0.9,
             "#4d9221"
            ],
            [
             1,
             "#276419"
            ]
           ],
           "sequential": [
            [
             0,
             "#0d0887"
            ],
            [
             0.1111111111111111,
             "#46039f"
            ],
            [
             0.2222222222222222,
             "#7201a8"
            ],
            [
             0.3333333333333333,
             "#9c179e"
            ],
            [
             0.4444444444444444,
             "#bd3786"
            ],
            [
             0.5555555555555556,
             "#d8576b"
            ],
            [
             0.6666666666666666,
             "#ed7953"
            ],
            [
             0.7777777777777778,
             "#fb9f3a"
            ],
            [
             0.8888888888888888,
             "#fdca26"
            ],
            [
             1,
             "#f0f921"
            ]
           ],
           "sequentialminus": [
            [
             0,
             "#0d0887"
            ],
            [
             0.1111111111111111,
             "#46039f"
            ],
            [
             0.2222222222222222,
             "#7201a8"
            ],
            [
             0.3333333333333333,
             "#9c179e"
            ],
            [
             0.4444444444444444,
             "#bd3786"
            ],
            [
             0.5555555555555556,
             "#d8576b"
            ],
            [
             0.6666666666666666,
             "#ed7953"
            ],
            [
             0.7777777777777778,
             "#fb9f3a"
            ],
            [
             0.8888888888888888,
             "#fdca26"
            ],
            [
             1,
             "#f0f921"
            ]
           ]
          },
          "colorway": [
           "#636efa",
           "#EF553B",
           "#00cc96",
           "#ab63fa",
           "#FFA15A",
           "#19d3f3",
           "#FF6692",
           "#B6E880",
           "#FF97FF",
           "#FECB52"
          ],
          "font": {
           "color": "#2a3f5f"
          },
          "geo": {
           "bgcolor": "white",
           "lakecolor": "white",
           "landcolor": "#E5ECF6",
           "showlakes": true,
           "showland": true,
           "subunitcolor": "white"
          },
          "hoverlabel": {
           "align": "left"
          },
          "hovermode": "closest",
          "mapbox": {
           "style": "light"
          },
          "paper_bgcolor": "white",
          "plot_bgcolor": "#E5ECF6",
          "polar": {
           "angularaxis": {
            "gridcolor": "white",
            "linecolor": "white",
            "ticks": ""
           },
           "bgcolor": "#E5ECF6",
           "radialaxis": {
            "gridcolor": "white",
            "linecolor": "white",
            "ticks": ""
           }
          },
          "scene": {
           "xaxis": {
            "backgroundcolor": "#E5ECF6",
            "gridcolor": "white",
            "gridwidth": 2,
            "linecolor": "white",
            "showbackground": true,
            "ticks": "",
            "zerolinecolor": "white"
           },
           "yaxis": {
            "backgroundcolor": "#E5ECF6",
            "gridcolor": "white",
            "gridwidth": 2,
            "linecolor": "white",
            "showbackground": true,
            "ticks": "",
            "zerolinecolor": "white"
           },
           "zaxis": {
            "backgroundcolor": "#E5ECF6",
            "gridcolor": "white",
            "gridwidth": 2,
            "linecolor": "white",
            "showbackground": true,
            "ticks": "",
            "zerolinecolor": "white"
           }
          },
          "shapedefaults": {
           "line": {
            "color": "#2a3f5f"
           }
          },
          "ternary": {
           "aaxis": {
            "gridcolor": "white",
            "linecolor": "white",
            "ticks": ""
           },
           "baxis": {
            "gridcolor": "white",
            "linecolor": "white",
            "ticks": ""
           },
           "bgcolor": "#E5ECF6",
           "caxis": {
            "gridcolor": "white",
            "linecolor": "white",
            "ticks": ""
           }
          },
          "title": {
           "x": 0.05
          },
          "xaxis": {
           "automargin": true,
           "gridcolor": "white",
           "linecolor": "white",
           "ticks": "",
           "title": {
            "standoff": 15
           },
           "zerolinecolor": "white",
           "zerolinewidth": 2
          },
          "yaxis": {
           "automargin": true,
           "gridcolor": "white",
           "linecolor": "white",
           "ticks": "",
           "title": {
            "standoff": 15
           },
           "zerolinecolor": "white",
           "zerolinewidth": 2
          }
         }
        },
        "xaxis": {
         "anchor": "y",
         "domain": [
          0,
          1
         ],
         "title": {
          "text": "engagement"
         }
        },
        "yaxis": {
         "anchor": "x",
         "domain": [
          0,
          1
         ],
         "title": {
          "text": "count"
         }
        }
       }
      }
     },
     "metadata": {},
     "output_type": "display_data"
    }
   ],
   "source": [
    "px.histogram(df_continous,'engagement')"
   ]
  },
  {
   "cell_type": "code",
   "execution_count": null,
   "id": "44d4e7ee",
   "metadata": {},
   "outputs": [
    {
     "data": {
      "application/vnd.plotly.v1+json": {
       "config": {
        "plotlyServerURL": "https://plot.ly"
       },
       "data": [
        {
         "bingroup": "x",
         "hovertemplate": "confusion=%{x}<br>count=%{y}<extra></extra>",
         "legendgroup": "",
         "marker": {
          "color": "#636efa",
          "pattern": {
           "shape": ""
          }
         },
         "name": "",
         "orientation": "v",
         "showlegend": false,
         "type": "histogram",
         "x": {
          "bdata": "AAAAAAAAAAEAAAIAAAAAAAAAAAAAAAAAAAAAAAAAAAAAAAAAAQAAAQAAAAAAAAABAQAAAAAAAAAAAAAAAAAAAAAAAAAAAAAAAAMAAAAAAAEAAAAAAAAAAAAAAAAAAAAAAAAAAAAAAQABAAAAAAAAAQAAAAAAAAIAAAAAAQABAAABAAEBAAEAAAEAAAEBAQAAAAMCAwMCAgAAAAAAAAAAAAAAAgAAAAAAAAEAAQAAAAABAQABAQECAAAAAgAAAAMBAgIAAAAAAAIBAQECAAABAgEAAAAAAQACAQIAAgACAAEAAAAAAAEAAAABAgEAAgAAAgIBAAAAAAABAAEAAAABAAAAAAEAAAAAAAAAAAEAAAAAAgAAAAEAAAIAAAAAAAAAAAAAAAAAAAAAAAAAAAAAAAAAAAAAAAAAAAAAAAAAAAEAAAAAAAAAAAACAQEAAAAAAQEAAAABAAIAAAAAAAAAAAAAAAABAAABAQAAAAAAAAAAAAACAAAAAAAAAAAAAAAAAAAAAQABAAAAAAABAgEAAAAAAAAAAQEAAAEBAAAAAAAAAQEAAAAAAAAAAQAAAAAAAAAAAAAAAAAAAAAAAAAAAAAAAAAAAAAAAAAAAAEBAAABAAAAAAAAAAAAAQAAAAAAAAABAQAAAAABAAAAAAAAAAAAAAAAAAACAAAAAQAAAQAAAAACAAAAAAABAAAAAAAAAAAAAQEAAAAAAAAAAAAAAAIAAAAAAAAAAQAAAAAAAAAAAAAAAAAAAAAAAQAAAAAAAAAAAAAAAQEAAQAAAAAAAAAAAAAAAAAAAgAAAQAAAgAAAAEAAAAAAAEAAAAAAAEBAAAAAAEAAAAAAAAAAAABAAAAAAAAAAAAAAAAAAEAAAAAAAABAAAAAAAAAAABAAAAAAAAAAAAAAAAAAAAAgAAAAEAAAAAAAIAAQAAAQACAgAAAAABAgACAAABAgAAAAEAAQIAAQAAAQEAAQAAAAAAAgAAAAABAAEAAQEAAgAAAAAAAAAAAAEAAAAAAAABAgAAAAAAAQAAAQAAAQAAAAABAAIAAAABAgABAAAAAgAAAAAAAQAAAAECAAAAAAAAAAAAAAAAAAAAAgAAAAACAAAAAAAAAAABAAAAAQEDAAAAAAAAAwEAAAEAAAAAAAAAAQAAAgAAAwAAAQIDAAAAAAIAAAABAAAAAAABAQAAAAABAAECAQACAgABAAECAgABAAEAAAEAAAAAAQABAAAAAAEAAgAAAAEBAAAAAQEAAgAAAAAAAAAAAQAAAAAAAQAAAQEAAAAAAAAAAAAAAAABAAABAAAAAAIBAgAAAAABAAMCAQACAQEAAgICAAIAAQEAAAEAAQIAAAMAAAEDAgEAAgECAQABAAEBAgIAAQAAAQICAgIDAwECAQICAgMDAAIAAQICAAEBAQAAAQAAAAEBAAEBAAEBAgAAAQEBAQAAAAABAQABAQEBAAABAQEBAAAAAAEAAAEBAQEBAQABAQABAAIBAQEBAAEAAAABAAAAAAAAAAEAAAEAAAEAAAEAAAABAAEAAAEAAQEBAAAAAAAAAQAAAAAAAQAAAQAAAAAAAAEAAAAAAAAAAAAAAAACAAAAAQAAAAEAAAAAAAAAAAABAAABAAAAAAIAAgIAAAAAAAABAgEBAAAAAgAAAAABAAIBAQACAAAAAQAAAAABAAEBAAABAAAAAAAAAAAAAQAAAAAAAAEAAAIAAAEAAAAAAAABAAAAAAEAAAEAAQACAAAAAAEAAQAAAAAAAAAAAAMAAAAAAAABAAAAAAEAAQAAAAABAAEAAAEBAQAAAAEAAAAAAAAAAAAAAgIBAQABAQIAAAAAAAAAAAAAAAIAAQAAAAAAAAAAAAACAAAAAAEAAgABAAAAAAAAAQAAAAMBAAECAAAAAQAAAAEBAAEAAQEBAAIBAQABAQEBAQEBAQICAQICAQICAAABAQIBAAIBAQICAQEAAQABAQIBAgMAAAECAgIBAQECAQEDAQICAQMAAQEAAAEAAQEAAAAAAAAAAQAAAQEAAAEAAAIAAAACAgAAAAAAAAEAAAACAQEAAAAAAAAAAAIBAQEAAAAAAAAAAQAAAAAAAAAAAAIAAAAAAAAAAQAAAAAAAAAAAAABAAAAAAEAAAAAAQABAQAAAQABAQAAAAIAAQIAAAEAAAEAAAAAAAAAAQABAAAAAAABAAAAAQAAAAAAAQAAAAACAAAAAQAAAQEAAAAAAAAAAAEAAAABAAABAAAAAgEBAgEAAAEAAAAAAAABAAIAAQAAAAEAAAEBAAABAAEAAQAAAAAAAAIBAAAAAgAAAAIAAAAAAQEAAAACAAIAAQACAAAAAgABAAABAQACAAEBAQEBAAEAAAACAQIAAAEAAQABAAACAAIAAAMBAAAAAAAAAAAAAAAAAAABAAABAAACAAAAAQEAAAAAAAAAAAEAAAAAAgICAAICAAABAAAAAAEAAgAAAAAAAAACAgAAAgICAAACAQAAAAABAgAAAAEAAAAAAQACAAAAAAAAAgEAAAEDAAIBAgABAQEAAAABAgABAQADAAAAAAABAQABAgICAAABAQIAAQIAAgEAAAIAAAICAAEBAgABAAAAAQEAAAAAAQAAAAAAAAAAAQAAAAEAAAEAAAEAAAAAAAEAAQAAAAAAAAAAAAAAAAAAAAAAAAAAAgABAQAAAAAAAAAAAAIAAAEBAAAAAQIBAQABAAMAAQABAgAAAAABAAABAAAAAAAAAQEAAAAAAAAAAQAAAAAAAAAAAAABAAEAAQAAAAAAAQAAAAAAAAABAAAAAAAAAAAAAAAAAAAAAAEBAAAAAAEAAAAAAQAAAQAAAAEBAwAAAQAAAAAAAAAAAAEAAAABAAEBAAEAAAAAAQAAAAIAAAAAAQACAAAAAAEBAQAAAAAAAAAAAAAAAAAAAQAAAAAAAAAAAQEAAAAAAAAAAAACAAABAAAAAAABAAAAAAAAAAAAAAAAAAAAAAICAAEAAAAAAAAAAAEAAAAAAQAAAAAAAAAAAAIAAAAAAAAAAQAAAQAAAAABAAEAAgEAAAAAAQAAAAAAAAEAAAIAAAAAAAAAAAAAAAIAAAAAAQABAAABAAAAAAEAAAIAAQAAAAAAAAAAAQAAAAEBAQABAAAAAAAAAAAAAAAAAAAAAgAAAAAAAAAAAAAAAAABAAEAAQEAAgACAAAAAQAAAAACAAABAAAAAgAAAAABAAAAAAEAAAAAAAAAAAEAAAABAAEAAgECAAAAAQAAAAAAAAECAAABAAEBAAICAAMAAgABAAABAAACAAEAAAEAAAAAAgEBAAAAAAIAAAABAAACAAAAAAAAAAABAQABAAAAAQAAAAACAAIAAAAAAAACAAAAAQAAAAABAQAAAAAAAAAAAgAAAQAAAQAAAAABAgIAAAAAAQEAAAIAAQAAAAACAwACAQABAAIBAAAAAwEAAAAAAAIAAQABAgACAAICAQABAAEAAQIBAAABAAECAgIAAAAAAgABAgADAQABAQIBAgEAAAABAAEBAAEBAQACAQEBAAEAAAEAAAEAAQACAAEAAgMAAQEBAQECAAAAAAAAAQEBAQABAQABAAEAAQMBAgAAAAABAAICAQEAAAAAAAAAAAAAAAIBAAEBAQEBAQEBAAEAAAABAAABAAAAAgEAAQECAAAAAAAAAAABAQEBAQECAQAAAQIAAQABAAEAAAEBAgEAAAIAAQEBAQABAAEAAQAAAAEBAQABAQEBAQAAAQABAgMBAgABAAAAAAIAAAEAAQABAQAAAAEAAQIAAgACAQAAAAAAAgACAgABAAAAAAICAQAAAQECAgIAAgAAAAACAgIDAgMCAAIBAAEAAAACAAAAAgAAAQAAAAAAAAAAAAAAAgECAAAAAQEAAQAAAAAAAQABAAAAAAABAAEAAAAAAQAAAAABAQAAAAAAAQAAAAAAAAAAAAAAAAABAAAAAQIBAAEAAAABAAAAAgACAQACAAAAAAEBAAAAAAAAAQAAAQABAAAAAAACAAAAAAAAAAEAAgAAAAEAAAEAAAAAAAEAAQADAAIAAAABAAEAAgIAAQIAAAABAAEAAAAAAQABAAAAAgAAAAACAAEAAQIAAgAAAgAAAAEAAQAAAAAAAQEAAAEAAAAAAAABAAAAAwEAAQABAAAAAQEAAAAAAAAAAAAAAQAAAAAAAAAAAQAAAAAAAAAAAAAAAAABAgAAAAECAAAAAQEAAAAAAAAAAAAAAAEAAAAAAQAAAAAAAAAAAAABAAAAAAAAAAECAAAAAQIAAAAAAAAAAAAAAAAAAAAAAAAAAAABAAAAAAAAAQABAQAAAAAAAAAAAAAAAQEAAAAAAQAAAAAAAAABAAAAAQAAAAAAAAAAAAAAAAAAAQIBAAAAAAAAAAAAAAAAAAAAAAAAAAAAAAAAAAAAAAABAAAAAAAAAAAAAAAAAAAAAAAAAAABAQAAAAAAAAAAAAAAAQAAAAAAAAEAAAAAAAIDAQAAAAIBAQAAAwABAAAAAAAAAAAAAAAAAAAAAAAAAAAAAQACAQABAAABAAAAAAAAAAAAAAAAAAAAAAAAAAAAAAAAAAABAAEAAQAAAAAAAAAAAQAAAAAAAAAAAQAAAAAAAAAAAAAAAQAAAgAAAgAAAAAAAQAAAAEAAQAAAAAAAAAAAAEAAAAAAAAAAAAAAAAAAAEAAAAAAAAAAAABAAAAAAAAAQAAAAABAAAAAAEAAQMBAgAAAAAAAAAAAAEAAAEAAgAAAQAAAAAAAAAAAQAAAAAAAAAAAAAAAAAAAAAAAQAAAAABAAAAAAAAAAEAAAEAAAEAAgABAAIAAgIBAQIAAAAAAAAAAAEBAAEBAQECAAECAgIAAgAAAAAAAAMBAAIAAAEBAgABAQAAAAEAAQAAAAAAAQAAAAEAAAACAAEBAAEAAAEAAAAAAQAAAAAAAAAAAgACAAAAAAAAAAACAAAAAAABAAAAAAIBAAAAAQAAAAACAAAAAQAAAAABAAAAAAAAAAEAAAEAAAABAAABAAAAAAAAAAAAAAACAAICAAAAAAAAAAAAAQAAAAAAAgAAAAAAAAEAAAAAAAIAAQEBAAAAAQAAAAABAQAAAQAAAAAAAAAAAAAAAAAAAAIAAAIBAAEAAAIAAAAAAAECAAAAAAECAgAAAAAAAAAAAAAAAAAAAgAAAAAAAAAAAQAAAAEAAAABAAAAAAEAAQAAAAAAAAAAAAAAAAAAAQEAAAAAAAABAQAAAAEBAQAAAAEAAAAAAAEBAAAAAAAAAAEAAQAAAAADAQIAAAAAAAAAAgAAAAMAAAAAAAAAAAAAAQAAAAACAAABAQAAAAAAAAMBAQAAAAIAAAEBAQAAAAAAAAAAAAAAAAAAAAAAAgAAAAAAAAAAAAEAAQAAAAABAAAAAAIAAAAAAAABAAABAAAAAAAAAAAAAQAAAAEAAAAAAQAAAQAAAAEAAQEBAgEBAgABAQEBAQEBAQIBAQEBAQAAAwEBAQAAAQABAQAAAgEAAQEBAQEAAAACAAAAAAABAAEBAQABAQIBAQICAgEDAQABAQAAAAIBAgICAwABAgIBAgACAwABAwEBAQEDAgMCAwMBAgEAAAEAAAAAAQABAQEAAAEAAAAAAQAAAAEBAAEAAAAAAQACAQAAAAEBAQEAAAEBAAABAQEBAAABAQEAAAABAAEAAQAAAAAAAAEAAAAAAQABAQEBAQABAAACAQABAQAAAQEBAQEAAAABAQAAAQEAAQAAAQAAAAMAAQEAAAEBAAAAAQABAAAAAAAAAAAAAAEAAAAAAQAAAQABAgABAAABAQAAAAAAAAEAAAAAAAEAAQAAAAAAAAAAAAEAAQAAAAEAAAABAAAAAAAAAQABAAAAAAAAAQABAAEAAAIAAQACAQICAgABAgEAAAAAAgIAAQAAAAEBAQIAAAABAQAAAgAAAAAAAAAAAgAAAAIBAAAAAAAAAgAAAAAAAAAAAQAAAAAAAAAAAAEAAAICAAAAAAAAAAAAAQAAAAAAAAEAAAABAAAAAAACAQAAAQAAAAAAAQACAwMAAQABAgAAAAEBAQAAAAIAAQIAAAMBAAIBAQMAAgMBAAACAAAAAAEAAgAAAgIAAAIBAgAAAgABAQICAQAAAAABAAAAAAABAAABAAIAAQEAAgACAgEBAAEAAAEBAAAAAAAAAAEAAQEAAQAAAAAAAgABAAAAAAIAAAAAAQABAAAAAAACAAAAAAAAAAEBAAAAAAACAgIAAAAAAAABAQAAAAEAAAEAAAAAAAAAAAEAAAEAAQEBAAAAAgABAAABAAEAAAABAQAAAAEBAQAAAAEAAAABAAAAAAEBAAAAAAEBAAEAAAAAAAABAQAAAAAAAAEBAAEAAQIAAAAAAAAAAAEAAQEAAAIAAQEBAQEBAAEBAAAAAQAAAAEAAQIAAAEBAgECAQEBAAAAAAEAAQEBAAAAAQABAAAAAAEAAQAAAQAAAAAAAQAAAAEDAQEBAAIAAAEAAAAAAAAAAQEAAAMAAAAAAAAAAAEAAQAAAAAAAAABAAAAAAAAAAABAQAAAgAAAAABAAABAAAAAAAAAAICAAAAAAABAQAAAAEAAQAAAQEAAAAAAgAAAAABAAAAAAAAAAAAAAAAAAEAAAEAAAAAAAAAAAAAAAABAAEAAAAAAAAAAAAAAQAAAQAAAAIAAAAAAAAAAAAAAAEAAAAAAAABAAAAAAAAAAAAAAAAAAABAAAAAAAAAAAAAAABAAAAAAIBAAAAAQEAAAAAAAAAAAAAAQABAAAAAAAAAAAAAAIAAgABAAAAAgEAAAAAAAABAAIAAAEAAAAAAAEAAAAAAAAAAAEAAQAAAAIAAgAAAAECAAAAAAAAAAAAAgICAQABAAACAAABAAAAAgIDAAECAAIAAgIBAAABAAECAAAAAAIAAAABAAABAAAAAAABAAABAAAAAQIAAAAAAAEAAwAAAQEAAwEAAgEAAAAAAgEAAAABAgAAAAABAAAAAAAAAQABAQEAAAAAAQAAAAAAAAAAAAACAAAAAQAAAQIAAAACAQABAAAAAAAAAAIBAAAAAQAAAAEAAQABAQIAAQAAAAEAAQAAAAAAAQEAAAEAAAEAAAABAAABAgAAAgAAAgAAAAACAAIAAAAAAgAAAgABAQIBAAIAAgECAgIBAAABAgABAAAAAAACAQIBAAAAAgABAgIAAgAAAAACAAEAAAAAAgIBAQACAAAAAwEAAQAAAQAAAAIAAAICAAICAgAAAQEBAAABAAACAgABAgMAAgAAAQAAAAAAAQACAAABAAAAAAICAgAAAAAAAAAAAAEBAAABAAEAAAAAAAIBAAAAAgAAAAABAAAAAAAAAAAAAAAAAQEAAAAAAQAAAAIAAQEAAQAAAAIAAAEAAAABAAAAAAAAAQAAAQAAAAEBAAAAAAABAAABAAIBAAIAAgEAAgIAAAACAQACAgIBAQIBAQEBAQIBAgEBAQEBAQABAwABAgICAgEBAAIBAAAAAAABAQAAAAIBAQABAQAAAAIAAAABAAACAQECAAECAAICAQAAAAAAAgIBAAICAQABAAAAAwECAAACAAICAgAAAQEAAQICAQMDAAECAAEAAAEBAAIAAQAAAAAAAAECAgAAAAEAAAAAAAACAQIAAAACAQEAAAABAAAAAAAAAAAAAgIAAAEDAQABAAAAAAAAAAAAAQAAAQECAAABAAECAAAAAAAAAAAAAAABAAAAAQAAAAAAAAEAAAAAAAEAAQEAAAAAAQAAAAAAAAAAAAAAAgAAAAABAAAAAAAAAAABAAAAAAIAAQAAAAIAAAACAAAAAQAAAAAAAAAAAAAAAQABAAAAAQABAAAAAAAAAAAAAAAAAAAAAAAAAAAAAAAAAAACAAAAAAAAAQEAAAAAAAEAAQAAAAAAAAACAAABAgIAAAAAAQABAAAAAgACAAAAAAABAAAAAAAAAAABAAAAAAABAAAAAQAAAAAAAAAAAAEAAAEAAQABAAAAAAAAAAAAAAAAAAAAAQAAAAABAgEAAQAAAgAAAQAAAAAAAAABAAAAAAAAAAAAAAABAAAAAAAAAAAAAAAAAAAAAAAAAAECAQEAAAEBAAAAAAEAAQEAAAABAAABAQEBAAEAAAABAAEAAAABAQEAAgEBAAEAAAAAAAEAAAEBAQAAAQAAAAACAAACAAAAAQAAAAAAAAABAAAAAQEAAQIAAgEAAQEAAAEAAQEBAQAAAQIAAgACAQACAAEAAQECAQECAQEBAAEBAAABAAIBAgEBAQEBAgAAAQEAAAEDAQEBAQEBAgEBAAIBAQECAAEAAQABAAAAAAABAAABAAABAQEAAAABAQAAAAEAAAABAAAAAAEAAQAAAAEBAAAAAQEAAAABAAAAAAEAAQAAAAAAAQAAAQIAAAAAAQEAAAAAAQAAAAAAAAEBAAEAAAEAAQAAAAAAAgEAAAABAAAAAAAAAQAAAQAAAAAAAAAAAAABAAAAAAAAAQIAAQEAAAABAAAAAAAAAAAAAAAAAAAAAAEAAAAAAAABAAAAAAAAAgACAAEAAAEAAAAAAAAAAAEAAAAAAAAAAQABAAEBAAAAAAAAAAAAAQAAAgAAAAAAAAIAAAAAAAAAAAEAAQABAAAAAgABAAEAAAAAAQEAAAEAAAABAAAAAAAAAAAAAAAAAAEAAAAAAAAAAAABAAEBAAEAAAAAAAEAAQABAAAAAAEAAAABAAEAAQEAAAIAAAAAAAAAAAIAAAEAAQACAAIAAAAAAAAAAgAAAgIBAQAAAAEAAAIBAAAAAAEAAAEAAAEAAAAAAAAAAQACAgEBAAAAAgEDAgAAAAEAAAAAAAEAAAAAAgAAAAAAAAIAAAAAAAACAAAAAAAAAQAAAAAAAAABAAAAAAAAAAEAAAABAAABAQAAAAAAAAABAAEAAAEBAAAAAAAAAAAAAAMCAAEAAAAAAAAAAAAAAAAAAQAAAAAAAAIBAAAAAAAAAAAAAAEBAAAAAAAAAAAAAAABAAAAAAAAAAAAAAACAAAAAAAAAAAAAAAAAAABAAEAAAAAAAAAAAAAAAEAAAAAAAAAAAABAAAAAAAAAQAAAAAAAQABAAIAAQEBAAADAgAAAAAAAAABAAAAAAEAAAEAAAAAAQAAAQABAAAAAAAAAgACAAACAgABAAAAAAAAAAEAAQACAAEAAAAAAAAAAQAAAAAAAAAAAAAAAAIAAAEAAAABAAABAAAAAAEAAQECAAAAAAEBAwAAAAAAAAAAAAAAAAACAAAAAAAAAAEAAQAAAAAAAAEAAAAAAAAAAAAAAAAAAAEAAQAAAAAAAAIAAAAAAAABAAAAAAAAAAAAAQAAAAABAQABAQAAAAABAAAAAQAAAAAAAAAAAAAAAAAAAAABAAAAAAAAAAAAAgAAAAAAAQAAAAAAAAAAAAAAAAAAAAAAAAAAAAAAAAEAAQAAAAAAAAAAAQAAAAEAAAEAAAEAAAAAAAABAAABAAAAAAAAAQAAAAAAAAAAAAABAQAAAQAAAAEBAAIAAAAAAQAAAAEAAQEAAAEDAQEAAAIAAAAAAQIBAAAAAAAAAAAAAgABAQEAAAAAAAAAAAAAAAAAAQAAAAEBAQAAAAAAAQEAAgAAAQAAAQAAAAAAAAABAAAAAAAAAQABAQEAAAAAAAABAAAAAQAAAAEAAAABAAABAAABAAABAQAAAAABAQABAAAAAAAAAQACAAAAAAEAAAEAAAAAAAAAAAAAAQACAQEAAAABAAAAAAEAAQACAAABAAAAAQAAAAAAAAAAAAAAAQAAAAAAAAABAAAAAAAAAAEAAAABAAAAAAAAAAAAAAAAAAAAAgEAAAEAAQAAAAAAAAAAAAAAAQAAAAAAAQAAAQAAAQAAAAAAAgIAAgIAAAEAAQAAAgAAAAABAAEAAAACAAMAAAECAAIBAAAAAgIBAQEBAAEAAgACAAIAAgEDAAAAAAMAAAAAAAEBAAEAAAAAAwADAAAAAQIDAAICAgABAAEAAAACAAIBAQAAAAMBAQICAAACAgEAAgIAAgIAAAABAwAAAAABAgACAAIAAgECAQIBAAECAgECAQEAAwIBAgACAAAAAAEDAQICAQABAAEAAAEAAgIBAAEAAQABAQAAAAAAAAIAAAACAQICAAACAAEAAAAAAQAAAQECAQEAAQEBAAABAAEAAQIBAAEBAAABAQEAAQABAAABAAIAAQABAAAAAAEAAQACAgECAQIBAAEAAgEBAQAAAQAAAAAAAgEAAQEBAQEAAAIBAAEBAQAAAgEAAQEAAAEBAAIBAQABAQABAAEAAAEBAQAAAQABAAACAAABAAEAAQAAAgABAAEAAAAAAAEAAAEAAAEAAQEAAQIAAAAAAAABAQAAAQEBAQAAAAEBAAAAAAABAgABAAIAAAAAAAAAAQAAAQAAAQEAAAMAAAEAAAABAAAAAAAAAAEAAQAAAQAAAAAAAAAAAAABAAAAAQEBAQABAAEAAQABAAAAAQABAQABAQADAQMBAwAAAAAAAAEAAAABAAABAgAAAQABAAAAAQEAAQAAAgABAQIAAQABAAEAAAABAQEBAQAAAAEAAAAAAQABAAAAAQIAAQEAAAAAAAA=",
          "dtype": "i1"
         },
         "xaxis": "x",
         "yaxis": "y"
        }
       ],
       "layout": {
        "barmode": "relative",
        "legend": {
         "tracegroupgap": 0
        },
        "margin": {
         "t": 60
        },
        "template": {
         "data": {
          "bar": [
           {
            "error_x": {
             "color": "#2a3f5f"
            },
            "error_y": {
             "color": "#2a3f5f"
            },
            "marker": {
             "line": {
              "color": "#E5ECF6",
              "width": 0.5
             },
             "pattern": {
              "fillmode": "overlay",
              "size": 10,
              "solidity": 0.2
             }
            },
            "type": "bar"
           }
          ],
          "barpolar": [
           {
            "marker": {
             "line": {
              "color": "#E5ECF6",
              "width": 0.5
             },
             "pattern": {
              "fillmode": "overlay",
              "size": 10,
              "solidity": 0.2
             }
            },
            "type": "barpolar"
           }
          ],
          "carpet": [
           {
            "aaxis": {
             "endlinecolor": "#2a3f5f",
             "gridcolor": "white",
             "linecolor": "white",
             "minorgridcolor": "white",
             "startlinecolor": "#2a3f5f"
            },
            "baxis": {
             "endlinecolor": "#2a3f5f",
             "gridcolor": "white",
             "linecolor": "white",
             "minorgridcolor": "white",
             "startlinecolor": "#2a3f5f"
            },
            "type": "carpet"
           }
          ],
          "choropleth": [
           {
            "colorbar": {
             "outlinewidth": 0,
             "ticks": ""
            },
            "type": "choropleth"
           }
          ],
          "contour": [
           {
            "colorbar": {
             "outlinewidth": 0,
             "ticks": ""
            },
            "colorscale": [
             [
              0,
              "#0d0887"
             ],
             [
              0.1111111111111111,
              "#46039f"
             ],
             [
              0.2222222222222222,
              "#7201a8"
             ],
             [
              0.3333333333333333,
              "#9c179e"
             ],
             [
              0.4444444444444444,
              "#bd3786"
             ],
             [
              0.5555555555555556,
              "#d8576b"
             ],
             [
              0.6666666666666666,
              "#ed7953"
             ],
             [
              0.7777777777777778,
              "#fb9f3a"
             ],
             [
              0.8888888888888888,
              "#fdca26"
             ],
             [
              1,
              "#f0f921"
             ]
            ],
            "type": "contour"
           }
          ],
          "contourcarpet": [
           {
            "colorbar": {
             "outlinewidth": 0,
             "ticks": ""
            },
            "type": "contourcarpet"
           }
          ],
          "heatmap": [
           {
            "colorbar": {
             "outlinewidth": 0,
             "ticks": ""
            },
            "colorscale": [
             [
              0,
              "#0d0887"
             ],
             [
              0.1111111111111111,
              "#46039f"
             ],
             [
              0.2222222222222222,
              "#7201a8"
             ],
             [
              0.3333333333333333,
              "#9c179e"
             ],
             [
              0.4444444444444444,
              "#bd3786"
             ],
             [
              0.5555555555555556,
              "#d8576b"
             ],
             [
              0.6666666666666666,
              "#ed7953"
             ],
             [
              0.7777777777777778,
              "#fb9f3a"
             ],
             [
              0.8888888888888888,
              "#fdca26"
             ],
             [
              1,
              "#f0f921"
             ]
            ],
            "type": "heatmap"
           }
          ],
          "histogram": [
           {
            "marker": {
             "pattern": {
              "fillmode": "overlay",
              "size": 10,
              "solidity": 0.2
             }
            },
            "type": "histogram"
           }
          ],
          "histogram2d": [
           {
            "colorbar": {
             "outlinewidth": 0,
             "ticks": ""
            },
            "colorscale": [
             [
              0,
              "#0d0887"
             ],
             [
              0.1111111111111111,
              "#46039f"
             ],
             [
              0.2222222222222222,
              "#7201a8"
             ],
             [
              0.3333333333333333,
              "#9c179e"
             ],
             [
              0.4444444444444444,
              "#bd3786"
             ],
             [
              0.5555555555555556,
              "#d8576b"
             ],
             [
              0.6666666666666666,
              "#ed7953"
             ],
             [
              0.7777777777777778,
              "#fb9f3a"
             ],
             [
              0.8888888888888888,
              "#fdca26"
             ],
             [
              1,
              "#f0f921"
             ]
            ],
            "type": "histogram2d"
           }
          ],
          "histogram2dcontour": [
           {
            "colorbar": {
             "outlinewidth": 0,
             "ticks": ""
            },
            "colorscale": [
             [
              0,
              "#0d0887"
             ],
             [
              0.1111111111111111,
              "#46039f"
             ],
             [
              0.2222222222222222,
              "#7201a8"
             ],
             [
              0.3333333333333333,
              "#9c179e"
             ],
             [
              0.4444444444444444,
              "#bd3786"
             ],
             [
              0.5555555555555556,
              "#d8576b"
             ],
             [
              0.6666666666666666,
              "#ed7953"
             ],
             [
              0.7777777777777778,
              "#fb9f3a"
             ],
             [
              0.8888888888888888,
              "#fdca26"
             ],
             [
              1,
              "#f0f921"
             ]
            ],
            "type": "histogram2dcontour"
           }
          ],
          "mesh3d": [
           {
            "colorbar": {
             "outlinewidth": 0,
             "ticks": ""
            },
            "type": "mesh3d"
           }
          ],
          "parcoords": [
           {
            "line": {
             "colorbar": {
              "outlinewidth": 0,
              "ticks": ""
             }
            },
            "type": "parcoords"
           }
          ],
          "pie": [
           {
            "automargin": true,
            "type": "pie"
           }
          ],
          "scatter": [
           {
            "fillpattern": {
             "fillmode": "overlay",
             "size": 10,
             "solidity": 0.2
            },
            "type": "scatter"
           }
          ],
          "scatter3d": [
           {
            "line": {
             "colorbar": {
              "outlinewidth": 0,
              "ticks": ""
             }
            },
            "marker": {
             "colorbar": {
              "outlinewidth": 0,
              "ticks": ""
             }
            },
            "type": "scatter3d"
           }
          ],
          "scattercarpet": [
           {
            "marker": {
             "colorbar": {
              "outlinewidth": 0,
              "ticks": ""
             }
            },
            "type": "scattercarpet"
           }
          ],
          "scattergeo": [
           {
            "marker": {
             "colorbar": {
              "outlinewidth": 0,
              "ticks": ""
             }
            },
            "type": "scattergeo"
           }
          ],
          "scattergl": [
           {
            "marker": {
             "colorbar": {
              "outlinewidth": 0,
              "ticks": ""
             }
            },
            "type": "scattergl"
           }
          ],
          "scattermap": [
           {
            "marker": {
             "colorbar": {
              "outlinewidth": 0,
              "ticks": ""
             }
            },
            "type": "scattermap"
           }
          ],
          "scattermapbox": [
           {
            "marker": {
             "colorbar": {
              "outlinewidth": 0,
              "ticks": ""
             }
            },
            "type": "scattermapbox"
           }
          ],
          "scatterpolar": [
           {
            "marker": {
             "colorbar": {
              "outlinewidth": 0,
              "ticks": ""
             }
            },
            "type": "scatterpolar"
           }
          ],
          "scatterpolargl": [
           {
            "marker": {
             "colorbar": {
              "outlinewidth": 0,
              "ticks": ""
             }
            },
            "type": "scatterpolargl"
           }
          ],
          "scatterternary": [
           {
            "marker": {
             "colorbar": {
              "outlinewidth": 0,
              "ticks": ""
             }
            },
            "type": "scatterternary"
           }
          ],
          "surface": [
           {
            "colorbar": {
             "outlinewidth": 0,
             "ticks": ""
            },
            "colorscale": [
             [
              0,
              "#0d0887"
             ],
             [
              0.1111111111111111,
              "#46039f"
             ],
             [
              0.2222222222222222,
              "#7201a8"
             ],
             [
              0.3333333333333333,
              "#9c179e"
             ],
             [
              0.4444444444444444,
              "#bd3786"
             ],
             [
              0.5555555555555556,
              "#d8576b"
             ],
             [
              0.6666666666666666,
              "#ed7953"
             ],
             [
              0.7777777777777778,
              "#fb9f3a"
             ],
             [
              0.8888888888888888,
              "#fdca26"
             ],
             [
              1,
              "#f0f921"
             ]
            ],
            "type": "surface"
           }
          ],
          "table": [
           {
            "cells": {
             "fill": {
              "color": "#EBF0F8"
             },
             "line": {
              "color": "white"
             }
            },
            "header": {
             "fill": {
              "color": "#C8D4E3"
             },
             "line": {
              "color": "white"
             }
            },
            "type": "table"
           }
          ]
         },
         "layout": {
          "annotationdefaults": {
           "arrowcolor": "#2a3f5f",
           "arrowhead": 0,
           "arrowwidth": 1
          },
          "autotypenumbers": "strict",
          "coloraxis": {
           "colorbar": {
            "outlinewidth": 0,
            "ticks": ""
           }
          },
          "colorscale": {
           "diverging": [
            [
             0,
             "#8e0152"
            ],
            [
             0.1,
             "#c51b7d"
            ],
            [
             0.2,
             "#de77ae"
            ],
            [
             0.3,
             "#f1b6da"
            ],
            [
             0.4,
             "#fde0ef"
            ],
            [
             0.5,
             "#f7f7f7"
            ],
            [
             0.6,
             "#e6f5d0"
            ],
            [
             0.7,
             "#b8e186"
            ],
            [
             0.8,
             "#7fbc41"
            ],
            [
             0.9,
             "#4d9221"
            ],
            [
             1,
             "#276419"
            ]
           ],
           "sequential": [
            [
             0,
             "#0d0887"
            ],
            [
             0.1111111111111111,
             "#46039f"
            ],
            [
             0.2222222222222222,
             "#7201a8"
            ],
            [
             0.3333333333333333,
             "#9c179e"
            ],
            [
             0.4444444444444444,
             "#bd3786"
            ],
            [
             0.5555555555555556,
             "#d8576b"
            ],
            [
             0.6666666666666666,
             "#ed7953"
            ],
            [
             0.7777777777777778,
             "#fb9f3a"
            ],
            [
             0.8888888888888888,
             "#fdca26"
            ],
            [
             1,
             "#f0f921"
            ]
           ],
           "sequentialminus": [
            [
             0,
             "#0d0887"
            ],
            [
             0.1111111111111111,
             "#46039f"
            ],
            [
             0.2222222222222222,
             "#7201a8"
            ],
            [
             0.3333333333333333,
             "#9c179e"
            ],
            [
             0.4444444444444444,
             "#bd3786"
            ],
            [
             0.5555555555555556,
             "#d8576b"
            ],
            [
             0.6666666666666666,
             "#ed7953"
            ],
            [
             0.7777777777777778,
             "#fb9f3a"
            ],
            [
             0.8888888888888888,
             "#fdca26"
            ],
            [
             1,
             "#f0f921"
            ]
           ]
          },
          "colorway": [
           "#636efa",
           "#EF553B",
           "#00cc96",
           "#ab63fa",
           "#FFA15A",
           "#19d3f3",
           "#FF6692",
           "#B6E880",
           "#FF97FF",
           "#FECB52"
          ],
          "font": {
           "color": "#2a3f5f"
          },
          "geo": {
           "bgcolor": "white",
           "lakecolor": "white",
           "landcolor": "#E5ECF6",
           "showlakes": true,
           "showland": true,
           "subunitcolor": "white"
          },
          "hoverlabel": {
           "align": "left"
          },
          "hovermode": "closest",
          "mapbox": {
           "style": "light"
          },
          "paper_bgcolor": "white",
          "plot_bgcolor": "#E5ECF6",
          "polar": {
           "angularaxis": {
            "gridcolor": "white",
            "linecolor": "white",
            "ticks": ""
           },
           "bgcolor": "#E5ECF6",
           "radialaxis": {
            "gridcolor": "white",
            "linecolor": "white",
            "ticks": ""
           }
          },
          "scene": {
           "xaxis": {
            "backgroundcolor": "#E5ECF6",
            "gridcolor": "white",
            "gridwidth": 2,
            "linecolor": "white",
            "showbackground": true,
            "ticks": "",
            "zerolinecolor": "white"
           },
           "yaxis": {
            "backgroundcolor": "#E5ECF6",
            "gridcolor": "white",
            "gridwidth": 2,
            "linecolor": "white",
            "showbackground": true,
            "ticks": "",
            "zerolinecolor": "white"
           },
           "zaxis": {
            "backgroundcolor": "#E5ECF6",
            "gridcolor": "white",
            "gridwidth": 2,
            "linecolor": "white",
            "showbackground": true,
            "ticks": "",
            "zerolinecolor": "white"
           }
          },
          "shapedefaults": {
           "line": {
            "color": "#2a3f5f"
           }
          },
          "ternary": {
           "aaxis": {
            "gridcolor": "white",
            "linecolor": "white",
            "ticks": ""
           },
           "baxis": {
            "gridcolor": "white",
            "linecolor": "white",
            "ticks": ""
           },
           "bgcolor": "#E5ECF6",
           "caxis": {
            "gridcolor": "white",
            "linecolor": "white",
            "ticks": ""
           }
          },
          "title": {
           "x": 0.05
          },
          "xaxis": {
           "automargin": true,
           "gridcolor": "white",
           "linecolor": "white",
           "ticks": "",
           "title": {
            "standoff": 15
           },
           "zerolinecolor": "white",
           "zerolinewidth": 2
          },
          "yaxis": {
           "automargin": true,
           "gridcolor": "white",
           "linecolor": "white",
           "ticks": "",
           "title": {
            "standoff": 15
           },
           "zerolinecolor": "white",
           "zerolinewidth": 2
          }
         }
        },
        "xaxis": {
         "anchor": "y",
         "domain": [
          0,
          1
         ],
         "title": {
          "text": "confusion"
         }
        },
        "yaxis": {
         "anchor": "x",
         "domain": [
          0,
          1
         ],
         "title": {
          "text": "count"
         }
        }
       }
      }
     },
     "metadata": {},
     "output_type": "display_data"
    }
   ],
   "source": [
    "px.histogram(df_continous,'confusion')"
   ]
  },
  {
   "cell_type": "code",
   "execution_count": null,
   "id": "73eb70e3",
   "metadata": {},
   "outputs": [
    {
     "data": {
      "application/vnd.plotly.v1+json": {
       "config": {
        "plotlyServerURL": "https://plot.ly"
       },
       "data": [
        {
         "bingroup": "x",
         "hovertemplate": "frustration=%{x}<br>count=%{y}<extra></extra>",
         "legendgroup": "",
         "marker": {
          "color": "#636efa",
          "pattern": {
           "shape": ""
          }
         },
         "name": "",
         "orientation": "v",
         "showlegend": false,
         "type": "histogram",
         "x": {
          "bdata": "AAAAAAAAAAAAAAAAAAAAAAAAAAAAAAAAAAAAAAAAAAAAAAAAAQAAAAEAAAAAAAAAAQAAAAAAAAAAAAAAAAAAAAAAAAAAAAEAAAABAAAAAAAAAAAAAAAAAAAAAAAAAAAAAAAAAAAAAAABAAAAAAAAAQAAAAABAAIAAQIAAQABAQABAAABAAABAAEAAAEAAQEAAAAAAAEAAQAAAAAAAAACAAAAAQAAAAAAAAEAAQAAAAAAAAAAAAAAAAAAAAEAAAEBAQAAAAAAAAACAAAAAAABAAAAAAAAAAAAAAECAwAAAAAAAAAAAAEAAAEBAAAAAAAAAAEAAAABAAEAAAAAAAABAAAAAAAAAQAAAQAAAAAAAAAAAwAAAAEBAAABAAAAAAAAAAAAAAAAAAAAAAAAAAAAAAAAAAAAAAAAAAAAAQAAAAAAAAAAAAAAAAACAAIAAAAAAAAAAAAAAAAAAAEBAAAAAAAAAAAAAAABAgAAAAAAAAAAAAACAAEAAAAAAAAAAQAAAAABAAAAAAAAAAAAAQAAAAAAAAAAAQEAAAEAAAAAAAAAAAAAAAAAAAAAAAAAAAAAAAAAAAAAAAAAAAAAAQAAAAAAAAAAAAAAAAAAAAEBAAAAAAAAAAAAAAAAAQAAAAAAAAABAAAAAAABAAAAAAAAAAEAAAAAAAABAAEAAQAAAQEDAAAAAAAAAAABAgAAAAAAAAAAAQAAAAAAAAAAAAAAAAAAAAAAAAAAAQAAAAAAAAAAAAAAAAAAAAAAAQAAAAAAAAAAAAAAAAAAAAAAAAAAAAAAAAAAAAAAAAACAAAAAgAAAAAAAAABAAAAAAAAAAAAAAAAAAAAAQAAAAAAAAABAAAAAAEAAAAAAAAAAAEAAAAAAAAAAAAAAAAAAAEAAAAAAAABAAAAAAAAAAAAAgAAAAAAAAAAAQABAQAAAAEBAAABAgACAAEBAQIAAAEBAAIAAAEAAAAAAgEAAQEAAAEAAQAAAAABAQABAgAAAAAAAAAAAAAAAAAAAAAAAAAAAAAAAAABAQAAAQEAAgIAAAACAAAAAgAAAQEBAAAAAAAAAAAAAQAAAAAAAAAAAAAAAAAAAAAAAAAAAQABAAABAAAAAAAAAgABAAEAAAEBAAABAAAAAAAAAAAAAAAAAAAAAQAAAgAAAgAAAAABAAAAAAEAAAAAAAAAAAAAAAAAAAAAAAEAAQADAQAAAAEAAAAAAAAAAAAAAAAAAQAAAAAAAAEAAQAAAAEAAAAAAQEAAQAAAAAAAAAAAQAAAAAAAAACAQAAAAAAAAAAAAABAwAAAAABAgIAAQAAAAAAAAACAQECAgIBAQABAAIAAwMCAgAAAgACAAIBAgIAAAIBAwIBAgABAAACAQAAAAIBAwAAAwADAwMDAwACAgICAgEBAAABAgADAAAAAAAAAQAAAAABAAAAAAADAAAAAAAAAQEAAAABAAAAAAAAAQABAAEBAAAAAQEAAAEAAAAAAAAAAAAAAAAAAAEAAAEAAAAAAAAAAAAAAAAAAAAAAAEAAAEAAAAAAAEAAAAAAAEAAAAAAAAAAQAAAAAAAAACAgAAAAAAAAEAAAAAAAABAAAAAAIBAAAAAAAAAAEAAQAAAAAAAAABAAEAAQAAAAEAAQABAQAAAAAAAAAAAAAAAAAAAAAAAAIAAAAAAAAAAAAAAAAAAAEBAAAAAAEAAAAAAAAAAgEAAAAAAAAAAAIAAQAAAAAAAAAAAAAAAAAAAAEAAQACAAAAAAEAAgAAAAEAAAAAAAAAAAAAAAAAAAAAAAEAAQAAAAAAAAAAAAAAAQAAAAAAAAAAAAAAAAAAAQAAAQAAAAAAAAABAAEAAQAAAAABAQAAAAAAAAAAAQEAAAAAAAAAAgABAAAAAAAAAAAAAAEAAQABAAAAAAABAAAAAAEAAQEAAQAAAQAAAAEBAQABAAAAAAEAAAIBAAEAAQEBAAMAAQAAAAEAAgAAAAABAQAAAQAAAQAAAAEAAQEBAAEBAQEAAAAAAAEAAAEAAAAAAAAAAAAAAAABAQEAAAEAAAAAAAAAAAAAAAAAAAAAAQEAAAAAAAAAAAABAAAAAAAAAAAAAAAAAAIAAAAAAQAAAAAAAAAAAAAAAAAAAAAAAAAAAAAAAAAAAQAAAAABAQAAAQABAQAAAQAAAQIAAAEAAAEAAAAAAAEAAAABAQAAAAABAAAAAQAAAAAAAQAAAAAAAAAAAAAAAAEAAAAAAAEAAAEAAAAAAAABAAAAAwIBAQAAAAEAAAAAAAABAAAAAQAAAAAAAAEAAAABAAEAAgAAAAABAAAAAAAAAAAAAAECAAAAAQAAAAABAAAAAAACAAABAQABAAACAAABAAAAAAEAAAEAAAAAAAAAAAEAAAABAgACAAABAAIBAAAAAAAAAAAAAAAAAAAAAAABAAABAAAAAQEAAAAAAAAAAAEAAAAAAAICAgEBAAAAAAACAAECAgAAAAEAAAABAAIAAAICAAACAAAAAAABAQAAAAIAAAAAAgAAAAAAAAAAAQEBAAAAAAAAAgAAAQEAAAACAAAAAAAAAgAAAAAAAQABAAEBAAEAAwEAAAAAAAABAAECAAEAAAACAAACAQEAAQAAAAAAAAAAAAAAAAAAAAAAAAAAAAAAAAAAAQAAAAEAAAABAAAAAAAAAAAAAAAAAAAAAAAAAAAAAAAAAQAAAAAAAAEAAAABAAABAAEAAAABAAAAAQACAAAAAAAAAQABAAABAAAAAQEAAAAAAAEAAQEAAAAAAwEAAAAAAAEAAQABAAEAAgAAAAEAAAAAAAAAAAAAAAAAAAAAAAAAAAEBAAAAAQEAAAAAAQAAAAAAAAIAAQAAAQAAAAAAAAAAAAAAAAEAAAEAAAAAAAAAAQAAAAAAAAAAAAEBAAAAAQABAQAAAAAAAAAAAAAAAAAAAAAAAAAAAAAAAAEAAAEAAAAAAQABAAABAAAAAAAAAAAAAQAAAAABAAAAAAAAAAABAAAAAAAAAAAAAAAAAAAAAAABAAAAAAAAAAAAAAAAAAAAAQAAAQEAAAAAAAAAAAAAAAABAAAAAAAAAAAAAAEAAAAAAAAAAAAAAAAAAAAAAQEAAAAAAAAAAAEAAAAAAQAAAAEAAAAAAAAAAAAAAAABAAAAAQAAAAAAAAEAAAAAAAEAAAAAAAAAAAAAAAAAAAAAAAEBAgABAAAAAAAAAAAAAAAAAAABAAAAAAAAAQAAAAEAAAAAAAAAAAAAAAAAAAAAAAAAAAAAAAAAAAIBAAEAAAAAAAEAAAAAAAAAAgAAAAABAAABAAEAAAAAAAAAAgEAAAAAAAIAAgABAAACAAAAAAAAAAAAAAAAAAAAAAEAAAEAAAEBAAAAAAABAAEBAAABAAAAAAAAAgAAAAAAAQAAAAAAAQAAAAAAAAAAAAAAAQAAAAAAAAAAAAABAQABAAEBAAAAAAAAAQEAAQIAAAEAAgAAAQEBAAAAAQIAAQAAAQAAAAAAAAAAAgAAAAAAAAEAAAABAQEAAQEBAQAAAQAAAQABAAEBAQAAAQEBAAEAAgADAQEAAAIBAQEBAAEBAAICAgAAAAAAAAAAAAAAAQAAAAAAAAAAAAAAAAAAAAAAAAAAAQAAAAAAAAABAAAAAAAAAAAAAAEBAQAAAAEAAAABAAAAAAAAAQAAAQAAAAEAAAAAAAAAAQEAAQABAAAAAAEAAQABAAEAAAAAAAEAAAEAAQABAQABAAEAAQAAAAAAAAABAAABAAEAAAAAAAEAAAEAAAAAAAIAAAAAAAAAAAAAAQEAAQEAAAAAAQAAAAAAAAACAQAAAAAAAAICAAEAAQAAAQEAAgEAAAAAAAEAAAICAAIBAAAAAAABAAAAAQAAAAAAAAAAAAAAAAAAAgACAAAAAQAAAQAAAAAAAgEBAAAAAAAAAAABAAEAAAAAAAAAAAAAAAAAAQAAAAABAAAAAQAAAAAAAAAAAQABAAIAAAABAAAAAAAAAAAAAAAAAAIBAAADAAAAAQAAAQAAAAAAAAAAAAAAAAAAAAIAAQAAAAAAAAEAAAAAAAAAAAAAAAAAAAAAAAAAAgEAAQAAAAABAAAAAAAAAAABAAAAAAAAAAIAAAAAAQAAAAAAAQAAAAEAAQAAAAAAAQEAAAAAAAAAAAAAAAAAAAAAAAAAAAAAAAAAAAAAAAAAAAAAAQAAAAAAAAAAAgAAAAAAAAAAAAABAAABAgAAAAEDAAAAAAAAAAAAAAAAAAAAAAAAAAAAAQEAAAAAAAAAAAABAAAAAAAAAAECAAAAAAAAAQAAAAAAAgAAAAAAAAAAAAAAAAAAAAAAAAAAAQAAAAAAAAAAAAAAAAAAAAAAAAAAAQAAAAAAAAAAAAAAAQAAAAAAAAAAAAAAAAAAAAAAAAAAAAAAAAAAAAAAAAAAAAAAAAAAAAAAAAEAAAABAAAAAAAAAAAAAAAAAAAAAAAAAAAAAAAAAAAAAAAAAAAAAAAAAAAAAAEAAQAAAAAAAQAAAAEBAAAAAAABAAAAAAAAAAAAAAAAAAAAAAAAAAEAAAAAAQABAAAAAAAAAAAAAAAAAAAAAAAAAAAAAAAAAAAAAAAAAQAAAQAAAAAAAQAAAQAAAAAAAAAAAgAAAAAAAAAAAAAAAAAAAQAAAAAAAAAAAAAAAAEBAQEBAAAAAAAAAAAAAAAAAAAAAAAAAAAAAAEAAQAAAAAAAAABAAAAAAAAAQAAAAABAAABAAEAAQEBAQAAAAECAAAAAAEAAAEAAAABAAAAAAAAAAABAAAAAAAAAQAAAAEAAAEBAAAAAQAAAAAAAAABAAAAAAEAAAEBAAEAAAABAAMBAAEBAQIAAAAAAAAAAAAAAAEBAQEBAAAAAAEAAAAAAQAAAgEBAAAAAQAAAgAAAQAAAAABAQABAAAAAAAAAQAAAAEBAAEBAAAAAAAAAAAAAAAAAAEAAAAAAQABAAAAAQAAAAABAAAAAAABAAAAAAAAAAAAAQAAAAAAAgAAAAAAAAABAAAAAAAAAAAAAAEAAAABAQAAAQABAAABAAAAAAABAgAAAAABAAAAAAAAAAAAAQABAAABAAAAAAAAAAEBAAAAAAIBAAAAAQAAAAABAAAAAQAAAAAAAAAAAAAAAAAAAAAAAQIBAAAAAQEAAAAAAAABAAAAAAABAAAAAAAAAAAAAAAAAAAAAAABAAAAAAAAAAAAAQEAAAAAAAAAAQEAAAAAAAAAAAAAAAAAAAAAAAAAAAAAAAAAAQAAAAEAAQACAAAAAAAAAAABAAAAAAAAAAEBAQIAAAABAgAAAgAAAAAAAAAAAAAAAAAAAQAAAAAAAAAAAAAAAAAAAQAAAAAAAAEAAAAAAAAAAAAAAAAAAQAAAAAAAAAAAAAAAAAAAAAAAAAAAAABAAIAAAAAAAAAAAAAAAIAAAAAAAAAAAAAAAABAAAAAAAAAQAAAAAAAAAAAAAAAQAAAAAAAQADAQABAgABAAEBAwEBAAIBAQABAQEBAAAAAQAAAAABAQAAAAEAAAECAAEAAAABAAEBAAAAAAEBAAABAQEAAAEBAQABAgABAQAAAQIAAQEBAQADAgEBAgEDAAEBAQADAQMBAQEAAwEAAwECAAEAAAAAAAAAAAEAAAEAAAAAAQEAAAAAAAAAAAAAAQAAAAABAAEAAQAAAAAAAAAAAQABAAEBAAEAAAABAAAAAQAAAAAAAAEAAAAAAAAAAQAAAAABAAAAAAAAAQAAAAEAAAEAAAAAAAAAAAAAAgEAAAAAAAAAAQAAAAAAAAAAAAABAAAAAAAAAAAAAAEAAAAAAQAAAQEAAgABAAAAAAEAAAEAAAAAAAAAAAAAAQAAAAAAAAAAAAAAAAAAAAAAAAAAAAAAAAAAAQABAAIAAAAAAQEAAQIAAAIAAQAAAQIAAAABAgEBAAAAAQAAAQAAAAEAAQAAAAABAAAAAQAAAAAAAAABAQAAAAAAAAEAAAABAAAAAAAAAAAAAQAAAAAAAgEAAAECAAABAAAAAAAAAAIBAQAAAAAAAAAAAAEAAAAAAAAAAQAAAgEAAAADAAABAAIAAQAAAQAAAAEBAQEAAAAAAQIAAAIAAAIAAQMAAAMCAAACAAABAAEAAwABAwIAAAEBAAAAAgACAAIAAAAAAAABAAABAAABAQABAgIAAAEAAAABAAADAAAAAAABAgEAAAAAAQAAAAEAAQAAAAABAAAAAAAAAQMAAAABAgABAAAAAAIBAgECAAAAAAEAAAAAAAACAAAAAAAAAAABAQAAAAAAAAAAAAAAAAABAAEBAAAAAQIBAAAAAQAAAAAAAQEAAAAAAQAAAAEAAAAAAAEAAAABAAAAAAEBAAABAAAAAAABAQAAAAABAAAAAAAAAAAAAAAAAgAAAAAAAAAAAAAAAQEAAAAAAAAAAQABAAEAAAAAAAAAAAAAAQEAAQEBAQAAAQEAAAAAAAAAAQAAAAAAAQABAAAAAAAAAQAAAAAAAAAAAAEAAQAAAQAAAAAAAAEAAAAAAAAAAQAAAQAAAAABAAAAAAEAAAAAAAABAAAAAAAAAQAAAAEBAQAAAgAAAAAAAAAAAAAAAAEAAAICAAAAAAAAAAAAAAEBAQAAAAAAAAAAAAAAAAAAAAAAAAAAAAAAAAAAAAEAAAAAAAAAAAAAAAACAAABAgABAAAAAAAAAAAAAAAAAAAAAAAAAAAAAAAAAAAAAAAAAAAAAAABAAAAAAAAAAAAAQAAAAAAAAAAAAAAAAAAAAABAAAAAAACAQAAAQAAAAAAAAAAAAAAAQAAAAAAAAEAAAAAAAEAAAICAAAAAgAAAQAAAAAAAAAAAAEAAAAAAAEAAAAAAAAAAAAAAQAAAAEAAgAAAAIAAAAAAAAAAAEAAAECAwECAAIAAAEBAAAAAQAAAAABAAEBAQIAAAABAAAAAAEAAAEAAAAAAAABAAAAAAICAQIAAAIAAAAAAAAAAAEAAAIAAQAAAgIAAgEAAAAAAgEAAAAAAgAAAAABAAAAAAAAAAABAQEAAAAAAAAAAAAAAQAAAAAAAAAAAAAAAAEAAAACAAABAAAAAAAAAAAAAAAAAQAAAAEAAAAAAAEAAAAAAAAAAQAAAAAAAQEBAQAAAAAAAAABAQABAQIAAAAAAQAAAAAAAAAAAAACAAAAAAACAAAAAAAAAgEAAQEBAAABAQABAAAAAAAAAAAAAAAAAAEBAgEAAQEBAAABAAAAAQAAAgIBAQIAAQMAAgIAAAAAAgAAAQMAAAADAQACAgAAAAEBAAEBAAAAAwMCAAIAAgACAQAAAgAAAAAAAAABAAADAAECAQABAAABAAAAAAABAAEBAAEAAgAAAgIAAAAAAgAAAAACAAAAAAAAAAEAAAAAAAAAAQEAAAAAAAICAAAAAQAAAAEAAQAAAAABAAABAAAAAAEAAAAAAAABAAEAAQACAAABAAABAAEAAAAAAAEAAAEBAQAAAgAAAQEBAAMAAAABAAABAQAAAQABAQABAQABAAAAAAEAAAEAAAACAAEAAAIAAgABAAEAAAAAAAACAAAAAAAAAAABAAMBAQABAAAAAAAAAAEDAQAAAAACAwAAAAACAQADAAAAAQAAAAEBAAMAAAAAAgAAAQIAAAIAAAACAAAAAAACAQAAAQEAAAACAAAAAAMAAAAAAgEBAQEAAQAAAAAAAAAAAQMAAQEAAAABAAAAAAEAAAAAAQAAAQABAAABAAEAAQAAAAAAAAAAAAAAAAAAAAABAAAAAAAAAAAAAAEAAAAAAAAAAQAAAAAAAAAAAAAAAAAAAAAAAAAAAQAAAAEBAAEAAAIBAAEAAAAAAAABAAAAAAAAAAABAQAAAAAAAQEAAAAAAAAAAAAAAgAAAQAAAAAAAAAAAAAAAQAAAAEAAAAAAAAAAAAAAQEAAAAAAAEAAAEAAAAAAAACAAEBAQABAAAAAQAAAAEAAwABAAAAAAAAAAAAAAEBAAABAAAAAAABAAEAAAAAAQAAAAAAAAEAAAEAAQAAAAABAAAAAAAAAAAAAQAAAgABAAABAAEAAAAAAQAAAQAAAAABAAABAAAAAAAAAAACAAABAAEAAAEAAAAAAAAAAAAAAAAAAAEAAAEAAAEAAQEAAAAAAQEAAAACAAECAQABAAAAAAABAAIAAAEAAAAAAgEAAAAAAQIAAAAAAAEAAAABAAABAAADAAABAQAAAAAAAQEAAAACAQAAAAABAAEAAQABAQEAAAEAAAAAAAAAAQEAAQAAAAAAAAEAAAEDAAEAAQEAAAAAAAAAAAAAAQABAQEAAAAAAQAAAAAAAAMBAQAAAQICAAEAAAEAAAAAAAAAAAAAAQIAAAAAAAABAAAAAAAAAAAAAAAAAAAAAAAAAAAAAAAAAAAAAAAAAQABAAAAAAAAAAAAAAAAAAAAAAABAAAAAQAAAAEAAAAAAgABAAAAAAECAAAAAAEAAAAAAAAAAAAAAAAAAAAAAAEAAQAAAQAAAAAAAQAAAAAAAAAAAAAAAAIAAQEAAAABAAEAAAAAAAAAAAAAAAAAAAEAAAABAAAAAAAAAAAAAAAAAAEAAAAAAAAAAAAAAAEAAAAAAAAAAQAAAAAAAAAAAAAAAAAAAAAAAAAAAAAAAAEAAAAAAAAAAgEAAAMAAAIAAQAAAAAAAAAAAgEAAAAAAgECAAAAAAAAAAAAAAAAAAEAAAAAAAAAAAAAAAABAAEBAAAAAAAAAQABAAAAAAAAAAAAAAABAAAAAAEAAAABAAEAAAEAAAAAAQAAAAMAAAAAAAAAAAAAAQAAAQAAAAEAAAAAAQAAAAEAAQAAAAAAAAAAAQAAAAAAAwEAAAAAAQEAAAEAAAEAAAAAAAAAAAAAAAAAAAAAAAAAAAAAAAABAAAAAAAAAAAAAAAAAAABAAAAAAAAAAEAAAAAAAABAQABAAAAAAAAAAEBAAEAAAABAAAAAAAAAAMAAAAAAAAAAAAAAAAAAAAAAAAAAAAAAAEBAAAAAAAAAAAAAAEAAAAAAAABAAAAAAAAAAAAAAAAAAEAAAABAAABAAAAAAAAAAABAQAAAAEAAAAAAAAAAAAAAAAAAAAAAAAAAAABAAAAAAAAAAEAAAAAAgABAAMAAgEBAwEDAAAAAAAAAQECAAAAAAAAAAAAAAAAAAEAAQABAAAAAAAAAQABAAAAAAABAAAAAAAAAAAAAQABAAEAAAEAAAAAAAAAAAAAAAAAAAABAAAAAAAAAAAAAAAAAAABAAEBAAABAAAAAQABAgAAAAAAAQAAAAEAAAAAAAAAAAAAAAAAAAAAAAAAAAEAAAAAAAAAAAAAAAAAAAEBAAACAAABAAAAAAAAAAAAAAAAAAAAAAAAAAAAAAAAAQAAAwAAAAAAAAAAAAAAAAAAAAAAAAAAAAAAAAAAAAAAAAAAAAAAAAAAAAAAAAABAAAAAAAAAAAAAAAAAAAAAAAAAAAAAAEAAQEAAAAAAAAAAAAAAAEAAAEAAAAAAAAAAAABAAABAAAAAAAAAAABAAAAAAAAAAABAQAAAAAAAAABAAAAAAAAAAAAAAAAAQEAAAAAAAEAAAAAAAAAAQEBAAAAAAAAAAECAAABAQAAAAECAAAAAAEBAAAAAQABAAACAQEAAAAAAAAAAQAAAQAAAAAAAQAAAAAAAAAAAAAAAAAAAgAAAAAAAAAAAAAAAAAAAAEAAAAAAAAAAAAAAAABAAAAAAABAQABAAIAAAAAAQAAAQAAAAAAAAABAAAAAAAAAAAAAAAAAQAAAQAAAAAAAAAAAQAAAAABAAAAAQAAAAAAAAAAAAAAAAAAAAAAAAAAAAAAAAAAAAIAAAAAAAABAAAAAAAAAAAAAAAAAAAAAAEAAAAAAAAAAAAAAAABAAAAAAAAAAAAAAAAAAAAAAAAAQIAAgEAAAEAAQEAAAAAAAABAAEAAgADAQADAAEBAAEDAQAAAgAAAQACAAEAAAAAAAAAAgAAAAAAAQIAAAEAAAEBAAAAAAABAwAAAAIAAgMDAAMAAQABAQEAAAABAAMBAQAAAAAAAAIAAAADAAAAAgAAAQAAAQABAgACAAABAgAAAAAAAQAAAQABAAMDAQAAAAIBAgICAAACAAAAAAECAQAAAAAAAAEAAAEAAQABAQAAAQABAAAAAAAAAAAAAAABAQMBAgAAAAAAAQAAAAABAQECAQAAAAEAAgACAAIAAAIAAAMAAAAAAQEBAgAAAAAAAAABAQIAAAEAAAEAAAAAAQEBAQEBAAEBAQIAAAIBAAABAAAAAgEAAQEBAQEAAAEAAAAAAwIBAAAAAAAAAAIAAAAAAQEAAAAAAAAAAQEBAAAAAQAAAAAAAAAAAAAAAAAAAQABAAAAAAAAAAEAAAEAAAAAAAAAAAEAAAAAAAABAAAAAQEBAAAAAAABAAAAAAAAAQAAAAABAQAAAQAAAQAAAAAAAAAAAAAAAAAAAAAAAAAAAAIAAAEAAAEBAAAAAAAAAAAAAAAAAAABAAEAAQEBAAEBAAAAAAABAAABAQAAAQAAAQAAAwEAAQAAAQEAAAIBAAABAAABAQAAAAAAAQEAAAAAAAABAAEAAAABAAEAAAABAAEBAQAAAAAAAAAAAQEAAAAAAAIAAgEAAAAAAAA=",
          "dtype": "i1"
         },
         "xaxis": "x",
         "yaxis": "y"
        }
       ],
       "layout": {
        "barmode": "relative",
        "legend": {
         "tracegroupgap": 0
        },
        "margin": {
         "t": 60
        },
        "template": {
         "data": {
          "bar": [
           {
            "error_x": {
             "color": "#2a3f5f"
            },
            "error_y": {
             "color": "#2a3f5f"
            },
            "marker": {
             "line": {
              "color": "#E5ECF6",
              "width": 0.5
             },
             "pattern": {
              "fillmode": "overlay",
              "size": 10,
              "solidity": 0.2
             }
            },
            "type": "bar"
           }
          ],
          "barpolar": [
           {
            "marker": {
             "line": {
              "color": "#E5ECF6",
              "width": 0.5
             },
             "pattern": {
              "fillmode": "overlay",
              "size": 10,
              "solidity": 0.2
             }
            },
            "type": "barpolar"
           }
          ],
          "carpet": [
           {
            "aaxis": {
             "endlinecolor": "#2a3f5f",
             "gridcolor": "white",
             "linecolor": "white",
             "minorgridcolor": "white",
             "startlinecolor": "#2a3f5f"
            },
            "baxis": {
             "endlinecolor": "#2a3f5f",
             "gridcolor": "white",
             "linecolor": "white",
             "minorgridcolor": "white",
             "startlinecolor": "#2a3f5f"
            },
            "type": "carpet"
           }
          ],
          "choropleth": [
           {
            "colorbar": {
             "outlinewidth": 0,
             "ticks": ""
            },
            "type": "choropleth"
           }
          ],
          "contour": [
           {
            "colorbar": {
             "outlinewidth": 0,
             "ticks": ""
            },
            "colorscale": [
             [
              0,
              "#0d0887"
             ],
             [
              0.1111111111111111,
              "#46039f"
             ],
             [
              0.2222222222222222,
              "#7201a8"
             ],
             [
              0.3333333333333333,
              "#9c179e"
             ],
             [
              0.4444444444444444,
              "#bd3786"
             ],
             [
              0.5555555555555556,
              "#d8576b"
             ],
             [
              0.6666666666666666,
              "#ed7953"
             ],
             [
              0.7777777777777778,
              "#fb9f3a"
             ],
             [
              0.8888888888888888,
              "#fdca26"
             ],
             [
              1,
              "#f0f921"
             ]
            ],
            "type": "contour"
           }
          ],
          "contourcarpet": [
           {
            "colorbar": {
             "outlinewidth": 0,
             "ticks": ""
            },
            "type": "contourcarpet"
           }
          ],
          "heatmap": [
           {
            "colorbar": {
             "outlinewidth": 0,
             "ticks": ""
            },
            "colorscale": [
             [
              0,
              "#0d0887"
             ],
             [
              0.1111111111111111,
              "#46039f"
             ],
             [
              0.2222222222222222,
              "#7201a8"
             ],
             [
              0.3333333333333333,
              "#9c179e"
             ],
             [
              0.4444444444444444,
              "#bd3786"
             ],
             [
              0.5555555555555556,
              "#d8576b"
             ],
             [
              0.6666666666666666,
              "#ed7953"
             ],
             [
              0.7777777777777778,
              "#fb9f3a"
             ],
             [
              0.8888888888888888,
              "#fdca26"
             ],
             [
              1,
              "#f0f921"
             ]
            ],
            "type": "heatmap"
           }
          ],
          "histogram": [
           {
            "marker": {
             "pattern": {
              "fillmode": "overlay",
              "size": 10,
              "solidity": 0.2
             }
            },
            "type": "histogram"
           }
          ],
          "histogram2d": [
           {
            "colorbar": {
             "outlinewidth": 0,
             "ticks": ""
            },
            "colorscale": [
             [
              0,
              "#0d0887"
             ],
             [
              0.1111111111111111,
              "#46039f"
             ],
             [
              0.2222222222222222,
              "#7201a8"
             ],
             [
              0.3333333333333333,
              "#9c179e"
             ],
             [
              0.4444444444444444,
              "#bd3786"
             ],
             [
              0.5555555555555556,
              "#d8576b"
             ],
             [
              0.6666666666666666,
              "#ed7953"
             ],
             [
              0.7777777777777778,
              "#fb9f3a"
             ],
             [
              0.8888888888888888,
              "#fdca26"
             ],
             [
              1,
              "#f0f921"
             ]
            ],
            "type": "histogram2d"
           }
          ],
          "histogram2dcontour": [
           {
            "colorbar": {
             "outlinewidth": 0,
             "ticks": ""
            },
            "colorscale": [
             [
              0,
              "#0d0887"
             ],
             [
              0.1111111111111111,
              "#46039f"
             ],
             [
              0.2222222222222222,
              "#7201a8"
             ],
             [
              0.3333333333333333,
              "#9c179e"
             ],
             [
              0.4444444444444444,
              "#bd3786"
             ],
             [
              0.5555555555555556,
              "#d8576b"
             ],
             [
              0.6666666666666666,
              "#ed7953"
             ],
             [
              0.7777777777777778,
              "#fb9f3a"
             ],
             [
              0.8888888888888888,
              "#fdca26"
             ],
             [
              1,
              "#f0f921"
             ]
            ],
            "type": "histogram2dcontour"
           }
          ],
          "mesh3d": [
           {
            "colorbar": {
             "outlinewidth": 0,
             "ticks": ""
            },
            "type": "mesh3d"
           }
          ],
          "parcoords": [
           {
            "line": {
             "colorbar": {
              "outlinewidth": 0,
              "ticks": ""
             }
            },
            "type": "parcoords"
           }
          ],
          "pie": [
           {
            "automargin": true,
            "type": "pie"
           }
          ],
          "scatter": [
           {
            "fillpattern": {
             "fillmode": "overlay",
             "size": 10,
             "solidity": 0.2
            },
            "type": "scatter"
           }
          ],
          "scatter3d": [
           {
            "line": {
             "colorbar": {
              "outlinewidth": 0,
              "ticks": ""
             }
            },
            "marker": {
             "colorbar": {
              "outlinewidth": 0,
              "ticks": ""
             }
            },
            "type": "scatter3d"
           }
          ],
          "scattercarpet": [
           {
            "marker": {
             "colorbar": {
              "outlinewidth": 0,
              "ticks": ""
             }
            },
            "type": "scattercarpet"
           }
          ],
          "scattergeo": [
           {
            "marker": {
             "colorbar": {
              "outlinewidth": 0,
              "ticks": ""
             }
            },
            "type": "scattergeo"
           }
          ],
          "scattergl": [
           {
            "marker": {
             "colorbar": {
              "outlinewidth": 0,
              "ticks": ""
             }
            },
            "type": "scattergl"
           }
          ],
          "scattermap": [
           {
            "marker": {
             "colorbar": {
              "outlinewidth": 0,
              "ticks": ""
             }
            },
            "type": "scattermap"
           }
          ],
          "scattermapbox": [
           {
            "marker": {
             "colorbar": {
              "outlinewidth": 0,
              "ticks": ""
             }
            },
            "type": "scattermapbox"
           }
          ],
          "scatterpolar": [
           {
            "marker": {
             "colorbar": {
              "outlinewidth": 0,
              "ticks": ""
             }
            },
            "type": "scatterpolar"
           }
          ],
          "scatterpolargl": [
           {
            "marker": {
             "colorbar": {
              "outlinewidth": 0,
              "ticks": ""
             }
            },
            "type": "scatterpolargl"
           }
          ],
          "scatterternary": [
           {
            "marker": {
             "colorbar": {
              "outlinewidth": 0,
              "ticks": ""
             }
            },
            "type": "scatterternary"
           }
          ],
          "surface": [
           {
            "colorbar": {
             "outlinewidth": 0,
             "ticks": ""
            },
            "colorscale": [
             [
              0,
              "#0d0887"
             ],
             [
              0.1111111111111111,
              "#46039f"
             ],
             [
              0.2222222222222222,
              "#7201a8"
             ],
             [
              0.3333333333333333,
              "#9c179e"
             ],
             [
              0.4444444444444444,
              "#bd3786"
             ],
             [
              0.5555555555555556,
              "#d8576b"
             ],
             [
              0.6666666666666666,
              "#ed7953"
             ],
             [
              0.7777777777777778,
              "#fb9f3a"
             ],
             [
              0.8888888888888888,
              "#fdca26"
             ],
             [
              1,
              "#f0f921"
             ]
            ],
            "type": "surface"
           }
          ],
          "table": [
           {
            "cells": {
             "fill": {
              "color": "#EBF0F8"
             },
             "line": {
              "color": "white"
             }
            },
            "header": {
             "fill": {
              "color": "#C8D4E3"
             },
             "line": {
              "color": "white"
             }
            },
            "type": "table"
           }
          ]
         },
         "layout": {
          "annotationdefaults": {
           "arrowcolor": "#2a3f5f",
           "arrowhead": 0,
           "arrowwidth": 1
          },
          "autotypenumbers": "strict",
          "coloraxis": {
           "colorbar": {
            "outlinewidth": 0,
            "ticks": ""
           }
          },
          "colorscale": {
           "diverging": [
            [
             0,
             "#8e0152"
            ],
            [
             0.1,
             "#c51b7d"
            ],
            [
             0.2,
             "#de77ae"
            ],
            [
             0.3,
             "#f1b6da"
            ],
            [
             0.4,
             "#fde0ef"
            ],
            [
             0.5,
             "#f7f7f7"
            ],
            [
             0.6,
             "#e6f5d0"
            ],
            [
             0.7,
             "#b8e186"
            ],
            [
             0.8,
             "#7fbc41"
            ],
            [
             0.9,
             "#4d9221"
            ],
            [
             1,
             "#276419"
            ]
           ],
           "sequential": [
            [
             0,
             "#0d0887"
            ],
            [
             0.1111111111111111,
             "#46039f"
            ],
            [
             0.2222222222222222,
             "#7201a8"
            ],
            [
             0.3333333333333333,
             "#9c179e"
            ],
            [
             0.4444444444444444,
             "#bd3786"
            ],
            [
             0.5555555555555556,
             "#d8576b"
            ],
            [
             0.6666666666666666,
             "#ed7953"
            ],
            [
             0.7777777777777778,
             "#fb9f3a"
            ],
            [
             0.8888888888888888,
             "#fdca26"
            ],
            [
             1,
             "#f0f921"
            ]
           ],
           "sequentialminus": [
            [
             0,
             "#0d0887"
            ],
            [
             0.1111111111111111,
             "#46039f"
            ],
            [
             0.2222222222222222,
             "#7201a8"
            ],
            [
             0.3333333333333333,
             "#9c179e"
            ],
            [
             0.4444444444444444,
             "#bd3786"
            ],
            [
             0.5555555555555556,
             "#d8576b"
            ],
            [
             0.6666666666666666,
             "#ed7953"
            ],
            [
             0.7777777777777778,
             "#fb9f3a"
            ],
            [
             0.8888888888888888,
             "#fdca26"
            ],
            [
             1,
             "#f0f921"
            ]
           ]
          },
          "colorway": [
           "#636efa",
           "#EF553B",
           "#00cc96",
           "#ab63fa",
           "#FFA15A",
           "#19d3f3",
           "#FF6692",
           "#B6E880",
           "#FF97FF",
           "#FECB52"
          ],
          "font": {
           "color": "#2a3f5f"
          },
          "geo": {
           "bgcolor": "white",
           "lakecolor": "white",
           "landcolor": "#E5ECF6",
           "showlakes": true,
           "showland": true,
           "subunitcolor": "white"
          },
          "hoverlabel": {
           "align": "left"
          },
          "hovermode": "closest",
          "mapbox": {
           "style": "light"
          },
          "paper_bgcolor": "white",
          "plot_bgcolor": "#E5ECF6",
          "polar": {
           "angularaxis": {
            "gridcolor": "white",
            "linecolor": "white",
            "ticks": ""
           },
           "bgcolor": "#E5ECF6",
           "radialaxis": {
            "gridcolor": "white",
            "linecolor": "white",
            "ticks": ""
           }
          },
          "scene": {
           "xaxis": {
            "backgroundcolor": "#E5ECF6",
            "gridcolor": "white",
            "gridwidth": 2,
            "linecolor": "white",
            "showbackground": true,
            "ticks": "",
            "zerolinecolor": "white"
           },
           "yaxis": {
            "backgroundcolor": "#E5ECF6",
            "gridcolor": "white",
            "gridwidth": 2,
            "linecolor": "white",
            "showbackground": true,
            "ticks": "",
            "zerolinecolor": "white"
           },
           "zaxis": {
            "backgroundcolor": "#E5ECF6",
            "gridcolor": "white",
            "gridwidth": 2,
            "linecolor": "white",
            "showbackground": true,
            "ticks": "",
            "zerolinecolor": "white"
           }
          },
          "shapedefaults": {
           "line": {
            "color": "#2a3f5f"
           }
          },
          "ternary": {
           "aaxis": {
            "gridcolor": "white",
            "linecolor": "white",
            "ticks": ""
           },
           "baxis": {
            "gridcolor": "white",
            "linecolor": "white",
            "ticks": ""
           },
           "bgcolor": "#E5ECF6",
           "caxis": {
            "gridcolor": "white",
            "linecolor": "white",
            "ticks": ""
           }
          },
          "title": {
           "x": 0.05
          },
          "xaxis": {
           "automargin": true,
           "gridcolor": "white",
           "linecolor": "white",
           "ticks": "",
           "title": {
            "standoff": 15
           },
           "zerolinecolor": "white",
           "zerolinewidth": 2
          },
          "yaxis": {
           "automargin": true,
           "gridcolor": "white",
           "linecolor": "white",
           "ticks": "",
           "title": {
            "standoff": 15
           },
           "zerolinecolor": "white",
           "zerolinewidth": 2
          }
         }
        },
        "xaxis": {
         "anchor": "y",
         "domain": [
          0,
          1
         ],
         "title": {
          "text": "frustration"
         }
        },
        "yaxis": {
         "anchor": "x",
         "domain": [
          0,
          1
         ],
         "title": {
          "text": "count"
         }
        }
       }
      }
     },
     "metadata": {},
     "output_type": "display_data"
    }
   ],
   "source": [
    "px.histogram(df_continous,'frustration')"
   ]
  },
  {
   "cell_type": "markdown",
   "id": "68b6625c",
   "metadata": {},
   "source": [
    "# III/ Create & save new df with updated paths"
   ]
  },
  {
   "cell_type": "code",
   "execution_count": null,
   "id": "2d0e6fca",
   "metadata": {},
   "outputs": [],
   "source": [
    "# Standardize image paths by replacing forward slashes with backslashes for Windows compatibility\n",
    "df_new = df_continous.copy(deep=True)\n",
    "df_new['image_path'] = df_new['image_path'].str.replace('/','\\\\')\n",
    "df_new.head()"
   ]
  },
  {
   "cell_type": "code",
   "execution_count": null,
   "id": "d9be48c1",
   "metadata": {},
   "outputs": [],
   "source": [
    "# Save as csv file\n",
    "# df_new.to_csv('labels_daisee_continous.csv', index=False)"
   ]
  }
 ],
 "metadata": {
  "kernelspec": {
   "display_name": "dl_project_py311",
   "language": "python",
   "name": "python3"
  },
  "language_info": {
   "codemirror_mode": {
    "name": "ipython",
    "version": 3
   },
   "file_extension": ".py",
   "mimetype": "text/x-python",
   "name": "python",
   "nbconvert_exporter": "python",
   "pygments_lexer": "ipython3",
   "version": "3.11.0"
  }
 },
 "nbformat": 4,
 "nbformat_minor": 5
}
