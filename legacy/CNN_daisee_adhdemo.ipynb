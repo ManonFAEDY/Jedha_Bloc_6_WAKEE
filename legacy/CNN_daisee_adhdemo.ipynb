{
  "cells": [
    {
      "cell_type": "markdown",
      "metadata": {},
      "source": [
        "# 0/ Import"
      ]
    },
    {
      "cell_type": "code",
      "execution_count": null,
      "metadata": {
        "id": "17t4rr1xS1ja"
      },
      "outputs": [],
      "source": [
        "import torch\n",
        "import torch.nn as nn\n",
        "import torch.optim as optim\n",
        "from torch.optim import lr_scheduler\n",
        "from torchvision import models\n",
        "import torchvision.transforms.v2 as transforms\n",
        "from torch.utils.data import Dataset, DataLoader\n",
        "import pandas as pd\n",
        "from PIL import Image\n",
        "import os\n",
        "import time\n",
        "import copy\n",
        "import onnx\n",
        "from sklearn.model_selection import train_test_split\n",
        "from sklearn.metrics import mean_squared_error, r2_score, mean_absolute_error, classification_report \n",
        "import numpy as np\n",
        "from tqdm import tqdm \n",
        "\n",
        "import matplotlib.pyplot as plt"
      ]
    },
    {
      "cell_type": "code",
      "execution_count": 2,
      "metadata": {},
      "outputs": [
        {
          "data": {
            "text/plain": [
              "'2.5.1+cu121'"
            ]
          },
          "execution_count": 2,
          "metadata": {},
          "output_type": "execute_result"
        }
      ],
      "source": [
        "torch.__version__"
      ]
    },
    {
      "cell_type": "markdown",
      "metadata": {},
      "source": [
        "# I/ Configuration and Hyperparameters"
      ]
    },
    {
      "cell_type": "code",
      "execution_count": null,
      "metadata": {
        "id": "b1KN8LGLS6gP"
      },
      "outputs": [
        {
          "name": "stdout",
          "output_type": "stream",
          "text": [
            "Utilisation du périphérique : cuda:0\n"
          ]
        }
      ],
      "source": [
        "DATA_DIR = r'**yourpath**' # Path to your dataset root folder\n",
        "CSV_FILE = os.path.join(DATA_DIR, 'labels_daisee_continous.csv') # Path to your label CSV file\n",
        "IMAGE_DIR = os.path.join(DATA_DIR, 'Dataset') # Path to the folder containing the images\n",
        "\n",
        "# Define your emotions here, in the same order as your columns in the CSV\n",
        "EMOTION_LABELS = ['boredom', \n",
        "                  'confusion',\n",
        "                  'engagement', \n",
        "                  'frustration'\n",
        "]\n",
        "\n",
        "NUM_CLASSES = len(EMOTION_LABELS)\n",
        "\n",
        "BATCH_SIZE = 32 \n",
        "NUM_EPOCHS = 20\n",
        "LEARNING_RATE = 0.001\n",
        "FREEZE_FEATURES = True # True to fine-tune only the last layer, False to fine-tune the entire model\n",
        "\n",
        "DEVICE = torch.device(\"cuda:0\" if torch.cuda.is_available() else \"cpu\")\n",
        "print(f\"Utilisation du périphérique : {DEVICE}\")"
      ]
    },
    {
      "cell_type": "markdown",
      "metadata": {},
      "source": [
        "# II/ Creating the Custom PyTorch Dataset"
      ]
    },
    {
      "cell_type": "code",
      "execution_count": null,
      "metadata": {
        "id": "7i1HiG6PTReS"
      },
      "outputs": [],
      "source": [
        "class EmotionDataset(Dataset):\n",
        "    def __init__(self, df, img_dir, emotion_cols, transform=None):\n",
        "        self.df = df\n",
        "        self.img_dir = img_dir\n",
        "        self.transform = transform\n",
        "        self.emotion_cols = emotion_cols\n",
        "\n",
        "    def __len__(self):\n",
        "        return len(self.df)\n",
        "\n",
        "    def __getitem__(self, idx):\n",
        "        row = self.df.iloc[idx]\n",
        "        img_path = os.path.join(self.img_dir, row['image_path'])\n",
        "\n",
        "        emotion_labels = row[self.emotion_cols].values.astype(float)\n",
        "        emotion_labels = torch.tensor(emotion_labels, dtype=torch.float32)\n",
        "\n",
        "        image = Image.open(img_path).convert('RGB')\n",
        "\n",
        "        if self.transform:\n",
        "            image = self.transform(image)\n",
        "\n",
        "        return image, emotion_labels"
      ]
    },
    {
      "cell_type": "markdown",
      "metadata": {},
      "source": [
        "# III/ Image transformations"
      ]
    },
    {
      "cell_type": "code",
      "execution_count": null,
      "metadata": {
        "id": "LkV1CWUbTUJB"
      },
      "outputs": [
        {
          "name": "stderr",
          "output_type": "stream",
          "text": [
            "c:\\Users\\alber\\anaconda3\\envs\\dl_project_py311\\Lib\\site-packages\\torchvision\\transforms\\v2\\_deprecated.py:42: UserWarning: The transform `ToTensor()` is deprecated and will be removed in a future release. Instead, please use `v2.Compose([v2.ToImage(), v2.ToDtype(torch.float32, scale=True)])`.Output is equivalent up to float precision.\n",
            "  warnings.warn(\n"
          ]
        }
      ],
      "source": [
        "# Transformations for training (data augmentation)\n",
        "data_transforms = {\n",
        "    'train': transforms.Compose([\n",
        "        transforms.RandomResizedCrop(224), # Random crop and resize to 224x224\n",
        "        transforms.RandomHorizontalFlip(), \n",
        "        transforms.ColorJitter(brightness=0.2, contrast=0.2, saturation=0.2, hue=0.1), \n",
        "        transforms.ToTensor(), \n",
        "        transforms.Normalize([0.485, 0.456, 0.406], [0.229, 0.224, 0.225])\n",
        "    ]),\n",
        "    # Transformations for validation/testing (just resizing and normalization)\n",
        "    'val': transforms.Compose([\n",
        "        transforms.Resize(256),\n",
        "        transforms.CenterCrop(224),\n",
        "        transforms.ToTensor(),\n",
        "        transforms.Normalize([0.485, 0.456, 0.406], [0.229, 0.224, 0.225])\n",
        "    ]),\n",
        "}"
      ]
    },
    {
      "cell_type": "markdown",
      "metadata": {},
      "source": [
        "# IV/ Data loading and Train/Val division"
      ]
    },
    {
      "cell_type": "code",
      "execution_count": null,
      "metadata": {
        "id": "-mNFgbICTrGD"
      },
      "outputs": [
        {
          "name": "stdout",
          "output_type": "stream",
          "text": [
            "Chargement des données...\n",
            "Taille du dataset d'entraînement : 6335\n",
            "Taille du dataset de validation : 1584\n"
          ]
        }
      ],
      "source": [
        "print(\"Chargement des données...\")\n",
        "full_df = pd.read_csv(CSV_FILE)\n",
        "\n",
        "# Splitting the dataset into training and validation sets\n",
        "train_df, val_df = train_test_split(full_df, test_size=0.2, random_state=42)\n",
        "\n",
        "train_dataset = EmotionDataset(df=train_df, img_dir=IMAGE_DIR, emotion_cols=EMOTION_LABELS, transform=data_transforms['train'])\n",
        "val_dataset = EmotionDataset(df=val_df, img_dir=IMAGE_DIR, emotion_cols=EMOTION_LABELS, transform=data_transforms['val'])\n",
        "\n",
        "train_loader = DataLoader(train_dataset, batch_size=BATCH_SIZE, shuffle=True)\n",
        "val_loader = DataLoader(val_dataset, batch_size=BATCH_SIZE, shuffle=False)\n",
        "\n",
        "dataloaders = {'train': train_loader, 'val': val_loader}\n",
        "dataset_sizes = {'train': len(train_dataset), 'val': len(val_dataset)}\n",
        "\n",
        "print(f\"Taille du dataset d'entraînement : {dataset_sizes['train']}\")\n",
        "print(f\"Taille du dataset de validation : {dataset_sizes['val']}\")"
      ]
    },
    {
      "cell_type": "markdown",
      "metadata": {},
      "source": [
        "# V/ Loading the pre-trained model"
      ]
    },
    {
      "cell_type": "code",
      "execution_count": null,
      "metadata": {},
      "outputs": [
        {
          "name": "stdout",
          "output_type": "stream",
          "text": [
            "Chargement et modification du modèle pré-entraîné...\n",
            "Freeze des couches convolutionnelles...\n",
            "features.7.1.block.0.1.weight\n",
            "features.7.1.block.0.1.bias\n",
            "features.7.1.block.1.0.weight\n",
            "features.7.1.block.1.1.weight\n",
            "features.7.1.block.1.1.bias\n",
            "features.7.1.block.2.fc1.weight\n",
            "features.7.1.block.2.fc1.bias\n",
            "features.7.1.block.2.fc2.weight\n",
            "features.7.1.block.2.fc2.bias\n",
            "features.7.1.block.3.0.weight\n",
            "features.7.1.block.3.1.weight\n",
            "features.7.1.block.3.1.bias\n",
            "features.8.0.weight\n",
            "features.8.1.weight\n",
            "features.8.1.bias\n",
            "classifier.1.weight\n",
            "classifier.1.bias\n",
            "Définition de la dernière couche...\n",
            "Modèle prêt ! ✅\n"
          ]
        }
      ],
      "source": [
        "print(\"Chargement et modification du modèle pré-entraîné...\")\n",
        "\n",
        "# 1. Loading the pre-trained model on ImageNet\n",
        "\n",
        "# choice 1 => Resnet18\n",
        "# model_ft = models.resnet18(weights=\"IMAGENET1K_V1\")\n",
        "\n",
        "# choice 2 => efficentnet\n",
        "model_ft = models.efficientnet_b4(weights=\"IMAGENET1K_V1\")\n",
        "\n",
        "# # choice 3 => mobile net\n",
        "# model_ft = models.mobilenet_v2(weights='IMAGENET1K_V1')\n",
        "\n",
        "# choice 4 => efficentnet\n",
        "# model_ft = models.efficientnet_b7(weights=\"IMAGENET1K_V1\")\n",
        "\n",
        "# choice 5  bis => convex_tiny \n",
        "\n",
        "\n",
        "print(\"Freeze des couches convolutionnelles...\")\n",
        "\n",
        "# 2. We freeze the feature extraction layers\n",
        "for param in model_ft.parameters():\n",
        "    param.requires_grad = False\n",
        "\n",
        "# fine_tune_at = len(list(model_ft.children())) - 10\n",
        "for name, param in list(model_ft.named_parameters())[-17:]:\n",
        "    print(name)\n",
        "    param.requires_grad = True\n",
        "\n",
        "print(\"Définition de la dernière couche...\")\n",
        "\n",
        "# 3. Replacing the final fully-connected layer\n",
        "\n",
        "# Try 1 => Resnet18\n",
        "# num_ftrs = model_ft.fc.in_features\n",
        "\n",
        "# model_ft.fc = nn.Sequential(\n",
        "#     nn.Linear(num_ftrs, 512),\n",
        "#     nn.BatchNorm1d(512),\n",
        "#     nn.ReLU(),\n",
        "#     nn.Dropout(0.1),\n",
        "#     nn.Linear(512, NUM_CLASSES)\n",
        "# )\n",
        "\n",
        "# Try 2 => Efficientnet \n",
        "num_ftrs = model_ft.classifier[1].in_features\n",
        "\n",
        "model_ft.classifier = nn.Sequential(\n",
        "    nn.Linear(num_ftrs, 512),\n",
        "    nn.BatchNorm1d(512),\n",
        "    nn.ReLU(),\n",
        "    nn.Dropout(0.4),\n",
        "    nn.Linear(512, NUM_CLASSES)\n",
        ")\n",
        "\n",
        "# 4. Sending the model to the correct device (GPU or CPU)\n",
        "model_ft = model_ft.to(DEVICE)\n",
        "\n",
        "print(\"Modèle prêt ! ✅\")\n"
      ]
    },
    {
      "cell_type": "code",
      "execution_count": 14,
      "metadata": {},
      "outputs": [
        {
          "data": {
            "text/plain": [
              "=========================================================================================================\n",
              "Layer (type:depth-idx)                                  Output Shape              Param #\n",
              "=========================================================================================================\n",
              "EfficientNet                                            [1, 4]                    --\n",
              "├─Sequential: 1-1                                       [1, 1792, 7, 7]           --\n",
              "│    └─Conv2dNormActivation: 2-1                        [1, 48, 112, 112]         --\n",
              "│    │    └─Conv2d: 3-1                                 [1, 48, 112, 112]         (1,296)\n",
              "│    │    └─BatchNorm2d: 3-2                            [1, 48, 112, 112]         (96)\n",
              "│    │    └─SiLU: 3-3                                   [1, 48, 112, 112]         --\n",
              "│    └─Sequential: 2-2                                  [1, 24, 112, 112]         --\n",
              "│    │    └─MBConv: 3-4                                 [1, 24, 112, 112]         (2,940)\n",
              "│    │    └─MBConv: 3-5                                 [1, 24, 112, 112]         (1,206)\n",
              "│    └─Sequential: 2-3                                  [1, 32, 56, 56]           --\n",
              "│    │    └─MBConv: 3-6                                 [1, 32, 56, 56]           (11,878)\n",
              "│    │    └─MBConv: 3-7                                 [1, 32, 56, 56]           (18,120)\n",
              "│    │    └─MBConv: 3-8                                 [1, 32, 56, 56]           (18,120)\n",
              "│    │    └─MBConv: 3-9                                 [1, 32, 56, 56]           (18,120)\n",
              "│    └─Sequential: 2-4                                  [1, 56, 28, 28]           --\n",
              "│    │    └─MBConv: 3-10                                [1, 56, 28, 28]           (25,848)\n",
              "│    │    └─MBConv: 3-11                                [1, 56, 28, 28]           (57,246)\n",
              "│    │    └─MBConv: 3-12                                [1, 56, 28, 28]           (57,246)\n",
              "│    │    └─MBConv: 3-13                                [1, 56, 28, 28]           (57,246)\n",
              "│    └─Sequential: 2-5                                  [1, 112, 14, 14]          --\n",
              "│    │    └─MBConv: 3-14                                [1, 112, 14, 14]          (70,798)\n",
              "│    │    └─MBConv: 3-15                                [1, 112, 14, 14]          (197,820)\n",
              "│    │    └─MBConv: 3-16                                [1, 112, 14, 14]          (197,820)\n",
              "│    │    └─MBConv: 3-17                                [1, 112, 14, 14]          (197,820)\n",
              "│    │    └─MBConv: 3-18                                [1, 112, 14, 14]          (197,820)\n",
              "│    │    └─MBConv: 3-19                                [1, 112, 14, 14]          (197,820)\n",
              "│    └─Sequential: 2-6                                  [1, 160, 14, 14]          --\n",
              "│    │    └─MBConv: 3-20                                [1, 160, 14, 14]          (240,924)\n",
              "│    │    └─MBConv: 3-21                                [1, 160, 14, 14]          (413,160)\n",
              "│    │    └─MBConv: 3-22                                [1, 160, 14, 14]          (413,160)\n",
              "│    │    └─MBConv: 3-23                                [1, 160, 14, 14]          (413,160)\n",
              "│    │    └─MBConv: 3-24                                [1, 160, 14, 14]          (413,160)\n",
              "│    │    └─MBConv: 3-25                                [1, 160, 14, 14]          (413,160)\n",
              "│    └─Sequential: 2-7                                  [1, 272, 7, 7]            --\n",
              "│    │    └─MBConv: 3-26                                [1, 272, 7, 7]            (520,904)\n",
              "│    │    └─MBConv: 3-27                                [1, 272, 7, 7]            (1,159,332)\n",
              "│    │    └─MBConv: 3-28                                [1, 272, 7, 7]            (1,159,332)\n",
              "│    │    └─MBConv: 3-29                                [1, 272, 7, 7]            (1,159,332)\n",
              "│    │    └─MBConv: 3-30                                [1, 272, 7, 7]            (1,159,332)\n",
              "│    │    └─MBConv: 3-31                                [1, 272, 7, 7]            (1,159,332)\n",
              "│    │    └─MBConv: 3-32                                [1, 272, 7, 7]            (1,159,332)\n",
              "│    │    └─MBConv: 3-33                                [1, 272, 7, 7]            (1,159,332)\n",
              "│    └─Sequential: 2-8                                  [1, 448, 7, 7]            --\n",
              "│    │    └─MBConv: 3-34                                [1, 448, 7, 7]            (1,420,804)\n",
              "│    │    └─MBConv: 3-35                                [1, 448, 7, 7]            3,049,200\n",
              "│    └─Conv2dNormActivation: 2-9                        [1, 1792, 7, 7]           --\n",
              "│    │    └─Conv2d: 3-36                                [1, 1792, 7, 7]           802,816\n",
              "│    │    └─BatchNorm2d: 3-37                           [1, 1792, 7, 7]           3,584\n",
              "│    │    └─SiLU: 3-38                                  [1, 1792, 7, 7]           --\n",
              "├─AdaptiveAvgPool2d: 1-2                                [1, 1792, 1, 1]           --\n",
              "├─Sequential: 1-3                                       [1, 4]                    --\n",
              "│    └─Linear: 2-10                                     [1, 512]                  918,016\n",
              "│    └─BatchNorm1d: 2-11                                [1, 512]                  1,024\n",
              "│    └─ReLU: 2-12                                       [1, 512]                  --\n",
              "│    └─Dropout: 2-13                                    [1, 512]                  --\n",
              "│    └─Linear: 2-14                                     [1, 4]                    2,052\n",
              "=========================================================================================================\n",
              "Total params: 18,469,708\n",
              "Trainable params: 3,572,468\n",
              "Non-trainable params: 14,897,240\n",
              "Total mult-adds (Units.GIGABYTES): 1.50\n",
              "=========================================================================================================\n",
              "Input size (MB): 0.60\n",
              "Forward/backward pass size (MB): 272.50\n",
              "Params size (MB): 73.88\n",
              "Estimated Total Size (MB): 346.98\n",
              "========================================================================================================="
            ]
          },
          "execution_count": 14,
          "metadata": {},
          "output_type": "execute_result"
        }
      ],
      "source": [
        "from torchinfo import summary\n",
        "\n",
        "summary(model_ft, input_size=(1, 3, 224, 224))"
      ]
    },
    {
      "cell_type": "code",
      "execution_count": null,
      "metadata": {},
      "outputs": [],
      "source": []
    },
    {
      "cell_type": "markdown",
      "metadata": {},
      "source": [
        "# VI/ Loss Function and Optimizer\n"
      ]
    },
    {
      "cell_type": "markdown",
      "metadata": {},
      "source": [
        "fonction expérimentale de pondération des classes pour contrebalancer le manque dans la distribution"
      ]
    },
    {
      "cell_type": "code",
      "execution_count": null,
      "metadata": {},
      "outputs": [],
      "source": [
        "# def weighted_mse_loss(predictions, labels, weight_vector):\n",
        "#     # get squared error on predictions\n",
        "#     squared_diff = (predictions - labels)**2\n",
        "\n",
        "#     # find which labels are positive or not (this will define which losses we weight)\n",
        "#     positive_label_mask = (labels > 0)\n",
        "    \n",
        "#     # set weight to 1 if mask == 0 and weight otherwise\n",
        "#     weights = torch.where(positive_label_mask == 1, weight_vector, 1)\n",
        "\n",
        "#     weighted_squared_diff = weights * squared_diff\n",
        "\n",
        "#     return torch.mean(weighted_squared_diff)"
      ]
    },
    {
      "cell_type": "markdown",
      "metadata": {},
      "source": [
        "--- Fonction de perte et Optimiseur ---"
      ]
    },
    {
      "cell_type": "code",
      "execution_count": null,
      "metadata": {
        "id": "PAV_C7MYUH2A"
      },
      "outputs": [],
      "source": [
        "criterion_emotions = nn.MSELoss()\n",
        "# criterion_emotions = weighted_mse_loss => to try\n",
        "\n",
        "# Only parameters that require gradients will be optimized\n",
        "optimizer_ft = optim.Adam(model_ft.parameters(), lr=LEARNING_RATE)\n",
        "\n",
        "# Learning rate scheduler (reduces LR after a certain number of epochs)\n",
        "exp_lr_scheduler = lr_scheduler.StepLR(optimizer_ft, step_size=7, gamma=0.1)"
      ]
    },
    {
      "cell_type": "markdown",
      "metadata": {},
      "source": [
        "# VII/ Training and assessment function"
      ]
    },
    {
      "cell_type": "code",
      "execution_count": null,
      "metadata": {},
      "outputs": [],
      "source": [
        "\n",
        "def train_model(model, \n",
        "                criterion_emotions, \n",
        "                optimizer, \n",
        "                train_loader, \n",
        "                val_loader, \n",
        "                device, \n",
        "                scheduler=None,\n",
        "                epochs=NUM_EPOCHS,\n",
        "                output_names=EMOTION_LABELS):\n",
        "    \n",
        "    since = time.time()\n",
        "    \n",
        "    history = {'train_loss': [],\n",
        "                'val_loss': [],\n",
        "                'val_MAE': [],\n",
        "                'val_MSE': [],\n",
        "                'val_RMSE': [],\n",
        "                'val_R2': []}\n",
        "\n",
        "    model.to(device)\n",
        "\n",
        "    for epoch in range(epochs):\n",
        "        print(f\"\\nEpoch {epoch+1}/{epochs}\")\n",
        "        print('-' * 30)\n",
        "\n",
        "        ### -------- TRAIN --------\n",
        "        model.train()\n",
        "        running_loss = 0.0\n",
        "\n",
        "\n",
        "        for inputs, labels in train_loader:\n",
        "            inputs = inputs.to(device)\n",
        "            labels = labels.to(device)\n",
        "\n",
        "            optimizer.zero_grad()\n",
        "            outputs = model(inputs)\n",
        "            loss = criterion_emotions(outputs, labels)\n",
        "            loss.backward()\n",
        "            optimizer.step()\n",
        "\n",
        "            # Accumulate loss\n",
        "            running_loss += loss.item() * inputs.size(0)\n",
        "            \n",
        "\n",
        "        epoch_loss = running_loss / len(train_loader.dataset)\n",
        "        history['train_loss'].append(epoch_loss)\n",
        "\n",
        "        ### -------- VAL --------\n",
        "        model.eval()\n",
        "        val_loss = 0.0\n",
        "        val_predictions = []\n",
        "        val_true_values = []\n",
        "        all_preds = []\n",
        "        all_labels = []\n",
        "\n",
        "        with torch.no_grad():\n",
        "            for inputs, labels in val_loader:\n",
        "                inputs = inputs.to(device)\n",
        "                labels = labels.to(device)\n",
        "\n",
        "                outputs = model(inputs)\n",
        "                loss = criterion_emotions(outputs, labels)\n",
        "                val_loss += loss.item() * inputs.size(0)\n",
        "\n",
        "                # Convert tensors to numpy to calculate sklearn metrics\n",
        "                val_predictions.extend(outputs.cpu().numpy())\n",
        "                val_true_values.extend(labels.cpu().numpy())\n",
        "\n",
        "                preds = torch.round(outputs)\n",
        "                preds = torch.clip(preds, 0, 3)\n",
        "\n",
        "                all_preds.append(preds.cpu())\n",
        "                all_labels.append(labels.cpu())\n",
        "\n",
        "        # Concatenation of all batches\n",
        "        all_preds = torch.cat(all_preds).numpy()\n",
        "        all_labels = torch.cat(all_labels).numpy()\n",
        "\n",
        "        # Convert lists to numpy array for sklearn\n",
        "        val_true_values_np = np.array(val_true_values)\n",
        "        val_predictions_np = np.array(val_predictions)\n",
        "\n",
        "        val_epoch_loss = val_loss / len(val_loader.dataset)\n",
        "        val_epoch_MAE = mean_absolute_error(val_true_values_np, val_predictions_np)\n",
        "        val_epoch_MSE = mean_squared_error(val_true_values_np, val_predictions_np)\n",
        "        val_epoch_RMSE = np.sqrt(mean_squared_error(val_true_values_np, val_predictions_np))\n",
        "        val_epoch_r2 = r2_score(val_true_values_np, val_predictions_np)\n",
        "        \n",
        "        history['val_loss'].append(val_epoch_loss)\n",
        "        history['val_MAE'].append(val_epoch_MAE)\n",
        "        history['val_MSE'].append(val_epoch_MSE)\n",
        "        history['val_RMSE'].append(val_epoch_RMSE)\n",
        "        history['val_R2'].append(val_epoch_r2)\n",
        "       \n",
        "        print(f\"Train Loss: {epoch_loss:.4f} | \"\n",
        "            f\"Val Loss: {val_epoch_loss:.4f} | \"\n",
        "            f\"Val MAE: {val_epoch_MAE:.4f} | \"\n",
        "            f\"Val MSE: {val_epoch_MSE:.4f} | \"\n",
        "            f\"Val RMSE: {val_epoch_RMSE:.4f} | \"\n",
        "            f\"Val R2: {val_epoch_r2:.4f} \\n \")\n",
        "        \n",
        "        # Displaying the multi-label classification report\n",
        "        print(\"\\n📊 Rapport de classification multilabels-multiouputs :\")\n",
        "        \n",
        "        target_names_classes = ['0', '1', '2', '3'] # Class names for the report\n",
        "\n",
        "        for i, names in enumerate(output_names):\n",
        "            print(f\"\\n--- Variable {names} ---\")\n",
        "            \n",
        "            # The real classes for the variable i\n",
        "            y_true_var_i = all_labels[:, i]\n",
        "            \n",
        "            # The classified predictions for variable i\n",
        "            y_pred_var_i = all_preds[:, i]\n",
        "            \n",
        "            # Check that the values are integers and within the expected range\n",
        "            if not np.all(np.isin(y_true_var_i, [0, 1, 2, 3])):\n",
        "                print(f\"Attention: y_true pour la variable {names} contient des valeurs hors de [0, 3] ou non entières après arrondi.\")\n",
        "            if not np.all(np.isin(y_pred_var_i, [0, 1, 2, 3])):\n",
        "                print(f\"Attention: y_pred pour la variable {names} contient des valeurs hors de [0, 3] ou non entières après arrondi.\")\n",
        "\n",
        "            # Generate and display the report.\n",
        "            print(classification_report(y_true_var_i, y_pred_var_i, target_names=target_names_classes, zero_division=0))\n",
        "        \n",
        "\n",
        "        if scheduler:\n",
        "            scheduler.step()\n",
        "\n",
        "    time_elapsed = time.time() - since\n",
        "    print(f\"\\n🕒 Entraînement terminé en {time_elapsed // 60:.0f}m {time_elapsed % 60:.0f}s\")\n",
        "\n",
        "    return history\n"
      ]
    },
    {
      "cell_type": "markdown",
      "metadata": {},
      "source": [
        "# VIII/ Training Start"
      ]
    },
    {
      "cell_type": "markdown",
      "metadata": {},
      "source": [
        "=> 15 epochs for the same results as us "
      ]
    },
    {
      "cell_type": "code",
      "execution_count": null,
      "metadata": {},
      "outputs": [
        {
          "name": "stdout",
          "output_type": "stream",
          "text": [
            "\n",
            "Début de l'entraînement...\n",
            "\n",
            "\n",
            "Epoch 1/2\n",
            "------------------------------\n",
            "Train Loss: 0.6709 | Val Loss: 0.4850 | Val MAE: 0.5484 | Val MSE: 0.4850 | Val RMSE: 0.6964 | Val R2: 0.0267 \n",
            " \n",
            "\n",
            "📊 Rapport de classification multilabels-multiouputs :\n",
            "\n",
            "--- Variable boredom ---\n",
            "              precision    recall  f1-score   support\n",
            "\n",
            "           0       0.57      0.28      0.37       658\n",
            "           1       0.32      0.75      0.45       486\n",
            "           2       0.55      0.17      0.26       371\n",
            "           3       0.00      0.00      0.00        69\n",
            "\n",
            "    accuracy                           0.39      1584\n",
            "   macro avg       0.36      0.30      0.27      1584\n",
            "weighted avg       0.46      0.39      0.35      1584\n",
            "\n",
            "\n",
            "--- Variable confusion ---\n",
            "              precision    recall  f1-score   support\n",
            "\n",
            "           0       0.76      0.77      0.77      1087\n",
            "           1       0.33      0.43      0.37       361\n",
            "           2       0.00      0.00      0.00       114\n",
            "           3       0.00      0.00      0.00        22\n",
            "\n",
            "    accuracy                           0.63      1584\n",
            "   macro avg       0.27      0.30      0.28      1584\n",
            "weighted avg       0.60      0.63      0.61      1584\n",
            "\n",
            "\n",
            "--- Variable engagement ---\n",
            "              precision    recall  f1-score   support\n",
            "\n",
            "           0       0.00      0.00      0.00        14\n",
            "           1       0.00      0.00      0.00        86\n",
            "           2       0.56      0.75      0.64       849\n",
            "           3       0.50      0.35      0.41       635\n",
            "\n",
            "    accuracy                           0.54      1584\n",
            "   macro avg       0.27      0.28      0.26      1584\n",
            "weighted avg       0.50      0.54      0.51      1584\n",
            "\n",
            "\n",
            "--- Variable frustration ---\n",
            "              precision    recall  f1-score   support\n",
            "\n",
            "           0       0.80      0.89      0.85      1235\n",
            "           1       0.21      0.16      0.18       268\n",
            "           2       0.00      0.00      0.00        60\n",
            "           3       0.00      0.00      0.00        21\n",
            "\n",
            "    accuracy                           0.72      1584\n",
            "   macro avg       0.25      0.26      0.26      1584\n",
            "weighted avg       0.66      0.72      0.69      1584\n",
            "\n",
            "\n",
            "Epoch 2/2\n",
            "------------------------------\n",
            "Train Loss: 0.5339 | Val Loss: 0.4922 | Val MAE: 0.5665 | Val MSE: 0.4922 | Val RMSE: 0.7016 | Val R2: -0.0014 \n",
            " \n",
            "\n",
            "📊 Rapport de classification multilabels-multiouputs :\n",
            "\n",
            "--- Variable boredom ---\n",
            "              precision    recall  f1-score   support\n",
            "\n",
            "           0       0.61      0.31      0.41       658\n",
            "           1       0.32      0.76      0.45       486\n",
            "           2       0.56      0.13      0.21       371\n",
            "           3       0.50      0.01      0.03        69\n",
            "\n",
            "    accuracy                           0.39      1584\n",
            "   macro avg       0.50      0.30      0.27      1584\n",
            "weighted avg       0.50      0.39      0.36      1584\n",
            "\n",
            "\n",
            "--- Variable confusion ---\n",
            "              precision    recall  f1-score   support\n",
            "\n",
            "           0       0.78      0.43      0.56      1087\n",
            "           1       0.26      0.70      0.38       361\n",
            "           2       0.33      0.01      0.02       114\n",
            "           3       0.00      0.00      0.00        22\n",
            "\n",
            "    accuracy                           0.46      1584\n",
            "   macro avg       0.34      0.28      0.24      1584\n",
            "weighted avg       0.62      0.46      0.47      1584\n",
            "\n",
            "\n",
            "--- Variable engagement ---\n",
            "              precision    recall  f1-score   support\n",
            "\n",
            "           0       0.00      0.00      0.00        14\n",
            "           1       0.07      0.02      0.04        86\n",
            "           2       0.55      0.86      0.67       849\n",
            "           3       0.52      0.19      0.27       635\n",
            "\n",
            "    accuracy                           0.54      1584\n",
            "   macro avg       0.29      0.27      0.25      1584\n",
            "weighted avg       0.51      0.54      0.47      1584\n",
            "\n",
            "\n",
            "--- Variable frustration ---\n",
            "              precision    recall  f1-score   support\n",
            "\n",
            "           0       0.82      0.86      0.84      1235\n",
            "           1       0.25      0.27      0.26       268\n",
            "           2       0.00      0.00      0.00        60\n",
            "           3       0.00      0.00      0.00        21\n",
            "\n",
            "    accuracy                           0.72      1584\n",
            "   macro avg       0.27      0.28      0.28      1584\n",
            "weighted avg       0.68      0.72      0.70      1584\n",
            "\n",
            "\n",
            "🕒 Entraînement terminé en 2m 45s\n"
          ]
        }
      ],
      "source": [
        "# print(\"\\nDébut de l'entraînement...\\n\")\n",
        "# history = train_model(model=model_ft,\n",
        "#                         criterion_emotions=criterion_emotions,\n",
        "#                         optimizer=optimizer_ft,\n",
        "#                         train_loader=train_loader,\n",
        "#                         val_loader=val_loader,\n",
        "#                         device=DEVICE,\n",
        "#                         scheduler=exp_lr_scheduler,\n",
        "#                         epochs=2,\n",
        "#                         output_names=EMOTION_LABELS)\n"
      ]
    },
    {
      "cell_type": "markdown",
      "metadata": {},
      "source": [
        "Visualisation"
      ]
    },
    {
      "cell_type": "code",
      "execution_count": 18,
      "metadata": {},
      "outputs": [
        {
          "data": {
            "application/vnd.plotly.v1+json": {
              "config": {
                "plotlyServerURL": "https://plot.ly"
              },
              "data": [
                {
                  "mode": "lines",
                  "name": "Training loss",
                  "type": "scatter",
                  "y": [
                    0.670920273908594,
                    0.5339475373066404
                  ]
                },
                {
                  "mode": "lines",
                  "name": "Validation loss",
                  "type": "scatter",
                  "y": [
                    0.4849553902943929,
                    0.49217461997812445
                  ]
                }
              ],
              "layout": {
                "template": {
                  "data": {
                    "bar": [
                      {
                        "error_x": {
                          "color": "#2a3f5f"
                        },
                        "error_y": {
                          "color": "#2a3f5f"
                        },
                        "marker": {
                          "line": {
                            "color": "#E5ECF6",
                            "width": 0.5
                          },
                          "pattern": {
                            "fillmode": "overlay",
                            "size": 10,
                            "solidity": 0.2
                          }
                        },
                        "type": "bar"
                      }
                    ],
                    "barpolar": [
                      {
                        "marker": {
                          "line": {
                            "color": "#E5ECF6",
                            "width": 0.5
                          },
                          "pattern": {
                            "fillmode": "overlay",
                            "size": 10,
                            "solidity": 0.2
                          }
                        },
                        "type": "barpolar"
                      }
                    ],
                    "carpet": [
                      {
                        "aaxis": {
                          "endlinecolor": "#2a3f5f",
                          "gridcolor": "white",
                          "linecolor": "white",
                          "minorgridcolor": "white",
                          "startlinecolor": "#2a3f5f"
                        },
                        "baxis": {
                          "endlinecolor": "#2a3f5f",
                          "gridcolor": "white",
                          "linecolor": "white",
                          "minorgridcolor": "white",
                          "startlinecolor": "#2a3f5f"
                        },
                        "type": "carpet"
                      }
                    ],
                    "choropleth": [
                      {
                        "colorbar": {
                          "outlinewidth": 0,
                          "ticks": ""
                        },
                        "type": "choropleth"
                      }
                    ],
                    "contour": [
                      {
                        "colorbar": {
                          "outlinewidth": 0,
                          "ticks": ""
                        },
                        "colorscale": [
                          [
                            0,
                            "#0d0887"
                          ],
                          [
                            0.1111111111111111,
                            "#46039f"
                          ],
                          [
                            0.2222222222222222,
                            "#7201a8"
                          ],
                          [
                            0.3333333333333333,
                            "#9c179e"
                          ],
                          [
                            0.4444444444444444,
                            "#bd3786"
                          ],
                          [
                            0.5555555555555556,
                            "#d8576b"
                          ],
                          [
                            0.6666666666666666,
                            "#ed7953"
                          ],
                          [
                            0.7777777777777778,
                            "#fb9f3a"
                          ],
                          [
                            0.8888888888888888,
                            "#fdca26"
                          ],
                          [
                            1,
                            "#f0f921"
                          ]
                        ],
                        "type": "contour"
                      }
                    ],
                    "contourcarpet": [
                      {
                        "colorbar": {
                          "outlinewidth": 0,
                          "ticks": ""
                        },
                        "type": "contourcarpet"
                      }
                    ],
                    "heatmap": [
                      {
                        "colorbar": {
                          "outlinewidth": 0,
                          "ticks": ""
                        },
                        "colorscale": [
                          [
                            0,
                            "#0d0887"
                          ],
                          [
                            0.1111111111111111,
                            "#46039f"
                          ],
                          [
                            0.2222222222222222,
                            "#7201a8"
                          ],
                          [
                            0.3333333333333333,
                            "#9c179e"
                          ],
                          [
                            0.4444444444444444,
                            "#bd3786"
                          ],
                          [
                            0.5555555555555556,
                            "#d8576b"
                          ],
                          [
                            0.6666666666666666,
                            "#ed7953"
                          ],
                          [
                            0.7777777777777778,
                            "#fb9f3a"
                          ],
                          [
                            0.8888888888888888,
                            "#fdca26"
                          ],
                          [
                            1,
                            "#f0f921"
                          ]
                        ],
                        "type": "heatmap"
                      }
                    ],
                    "histogram": [
                      {
                        "marker": {
                          "pattern": {
                            "fillmode": "overlay",
                            "size": 10,
                            "solidity": 0.2
                          }
                        },
                        "type": "histogram"
                      }
                    ],
                    "histogram2d": [
                      {
                        "colorbar": {
                          "outlinewidth": 0,
                          "ticks": ""
                        },
                        "colorscale": [
                          [
                            0,
                            "#0d0887"
                          ],
                          [
                            0.1111111111111111,
                            "#46039f"
                          ],
                          [
                            0.2222222222222222,
                            "#7201a8"
                          ],
                          [
                            0.3333333333333333,
                            "#9c179e"
                          ],
                          [
                            0.4444444444444444,
                            "#bd3786"
                          ],
                          [
                            0.5555555555555556,
                            "#d8576b"
                          ],
                          [
                            0.6666666666666666,
                            "#ed7953"
                          ],
                          [
                            0.7777777777777778,
                            "#fb9f3a"
                          ],
                          [
                            0.8888888888888888,
                            "#fdca26"
                          ],
                          [
                            1,
                            "#f0f921"
                          ]
                        ],
                        "type": "histogram2d"
                      }
                    ],
                    "histogram2dcontour": [
                      {
                        "colorbar": {
                          "outlinewidth": 0,
                          "ticks": ""
                        },
                        "colorscale": [
                          [
                            0,
                            "#0d0887"
                          ],
                          [
                            0.1111111111111111,
                            "#46039f"
                          ],
                          [
                            0.2222222222222222,
                            "#7201a8"
                          ],
                          [
                            0.3333333333333333,
                            "#9c179e"
                          ],
                          [
                            0.4444444444444444,
                            "#bd3786"
                          ],
                          [
                            0.5555555555555556,
                            "#d8576b"
                          ],
                          [
                            0.6666666666666666,
                            "#ed7953"
                          ],
                          [
                            0.7777777777777778,
                            "#fb9f3a"
                          ],
                          [
                            0.8888888888888888,
                            "#fdca26"
                          ],
                          [
                            1,
                            "#f0f921"
                          ]
                        ],
                        "type": "histogram2dcontour"
                      }
                    ],
                    "mesh3d": [
                      {
                        "colorbar": {
                          "outlinewidth": 0,
                          "ticks": ""
                        },
                        "type": "mesh3d"
                      }
                    ],
                    "parcoords": [
                      {
                        "line": {
                          "colorbar": {
                            "outlinewidth": 0,
                            "ticks": ""
                          }
                        },
                        "type": "parcoords"
                      }
                    ],
                    "pie": [
                      {
                        "automargin": true,
                        "type": "pie"
                      }
                    ],
                    "scatter": [
                      {
                        "fillpattern": {
                          "fillmode": "overlay",
                          "size": 10,
                          "solidity": 0.2
                        },
                        "type": "scatter"
                      }
                    ],
                    "scatter3d": [
                      {
                        "line": {
                          "colorbar": {
                            "outlinewidth": 0,
                            "ticks": ""
                          }
                        },
                        "marker": {
                          "colorbar": {
                            "outlinewidth": 0,
                            "ticks": ""
                          }
                        },
                        "type": "scatter3d"
                      }
                    ],
                    "scattercarpet": [
                      {
                        "marker": {
                          "colorbar": {
                            "outlinewidth": 0,
                            "ticks": ""
                          }
                        },
                        "type": "scattercarpet"
                      }
                    ],
                    "scattergeo": [
                      {
                        "marker": {
                          "colorbar": {
                            "outlinewidth": 0,
                            "ticks": ""
                          }
                        },
                        "type": "scattergeo"
                      }
                    ],
                    "scattergl": [
                      {
                        "marker": {
                          "colorbar": {
                            "outlinewidth": 0,
                            "ticks": ""
                          }
                        },
                        "type": "scattergl"
                      }
                    ],
                    "scattermap": [
                      {
                        "marker": {
                          "colorbar": {
                            "outlinewidth": 0,
                            "ticks": ""
                          }
                        },
                        "type": "scattermap"
                      }
                    ],
                    "scattermapbox": [
                      {
                        "marker": {
                          "colorbar": {
                            "outlinewidth": 0,
                            "ticks": ""
                          }
                        },
                        "type": "scattermapbox"
                      }
                    ],
                    "scatterpolar": [
                      {
                        "marker": {
                          "colorbar": {
                            "outlinewidth": 0,
                            "ticks": ""
                          }
                        },
                        "type": "scatterpolar"
                      }
                    ],
                    "scatterpolargl": [
                      {
                        "marker": {
                          "colorbar": {
                            "outlinewidth": 0,
                            "ticks": ""
                          }
                        },
                        "type": "scatterpolargl"
                      }
                    ],
                    "scatterternary": [
                      {
                        "marker": {
                          "colorbar": {
                            "outlinewidth": 0,
                            "ticks": ""
                          }
                        },
                        "type": "scatterternary"
                      }
                    ],
                    "surface": [
                      {
                        "colorbar": {
                          "outlinewidth": 0,
                          "ticks": ""
                        },
                        "colorscale": [
                          [
                            0,
                            "#0d0887"
                          ],
                          [
                            0.1111111111111111,
                            "#46039f"
                          ],
                          [
                            0.2222222222222222,
                            "#7201a8"
                          ],
                          [
                            0.3333333333333333,
                            "#9c179e"
                          ],
                          [
                            0.4444444444444444,
                            "#bd3786"
                          ],
                          [
                            0.5555555555555556,
                            "#d8576b"
                          ],
                          [
                            0.6666666666666666,
                            "#ed7953"
                          ],
                          [
                            0.7777777777777778,
                            "#fb9f3a"
                          ],
                          [
                            0.8888888888888888,
                            "#fdca26"
                          ],
                          [
                            1,
                            "#f0f921"
                          ]
                        ],
                        "type": "surface"
                      }
                    ],
                    "table": [
                      {
                        "cells": {
                          "fill": {
                            "color": "#EBF0F8"
                          },
                          "line": {
                            "color": "white"
                          }
                        },
                        "header": {
                          "fill": {
                            "color": "#C8D4E3"
                          },
                          "line": {
                            "color": "white"
                          }
                        },
                        "type": "table"
                      }
                    ]
                  },
                  "layout": {
                    "annotationdefaults": {
                      "arrowcolor": "#2a3f5f",
                      "arrowhead": 0,
                      "arrowwidth": 1
                    },
                    "autotypenumbers": "strict",
                    "coloraxis": {
                      "colorbar": {
                        "outlinewidth": 0,
                        "ticks": ""
                      }
                    },
                    "colorscale": {
                      "diverging": [
                        [
                          0,
                          "#8e0152"
                        ],
                        [
                          0.1,
                          "#c51b7d"
                        ],
                        [
                          0.2,
                          "#de77ae"
                        ],
                        [
                          0.3,
                          "#f1b6da"
                        ],
                        [
                          0.4,
                          "#fde0ef"
                        ],
                        [
                          0.5,
                          "#f7f7f7"
                        ],
                        [
                          0.6,
                          "#e6f5d0"
                        ],
                        [
                          0.7,
                          "#b8e186"
                        ],
                        [
                          0.8,
                          "#7fbc41"
                        ],
                        [
                          0.9,
                          "#4d9221"
                        ],
                        [
                          1,
                          "#276419"
                        ]
                      ],
                      "sequential": [
                        [
                          0,
                          "#0d0887"
                        ],
                        [
                          0.1111111111111111,
                          "#46039f"
                        ],
                        [
                          0.2222222222222222,
                          "#7201a8"
                        ],
                        [
                          0.3333333333333333,
                          "#9c179e"
                        ],
                        [
                          0.4444444444444444,
                          "#bd3786"
                        ],
                        [
                          0.5555555555555556,
                          "#d8576b"
                        ],
                        [
                          0.6666666666666666,
                          "#ed7953"
                        ],
                        [
                          0.7777777777777778,
                          "#fb9f3a"
                        ],
                        [
                          0.8888888888888888,
                          "#fdca26"
                        ],
                        [
                          1,
                          "#f0f921"
                        ]
                      ],
                      "sequentialminus": [
                        [
                          0,
                          "#0d0887"
                        ],
                        [
                          0.1111111111111111,
                          "#46039f"
                        ],
                        [
                          0.2222222222222222,
                          "#7201a8"
                        ],
                        [
                          0.3333333333333333,
                          "#9c179e"
                        ],
                        [
                          0.4444444444444444,
                          "#bd3786"
                        ],
                        [
                          0.5555555555555556,
                          "#d8576b"
                        ],
                        [
                          0.6666666666666666,
                          "#ed7953"
                        ],
                        [
                          0.7777777777777778,
                          "#fb9f3a"
                        ],
                        [
                          0.8888888888888888,
                          "#fdca26"
                        ],
                        [
                          1,
                          "#f0f921"
                        ]
                      ]
                    },
                    "colorway": [
                      "#636efa",
                      "#EF553B",
                      "#00cc96",
                      "#ab63fa",
                      "#FFA15A",
                      "#19d3f3",
                      "#FF6692",
                      "#B6E880",
                      "#FF97FF",
                      "#FECB52"
                    ],
                    "font": {
                      "color": "#2a3f5f"
                    },
                    "geo": {
                      "bgcolor": "white",
                      "lakecolor": "white",
                      "landcolor": "#E5ECF6",
                      "showlakes": true,
                      "showland": true,
                      "subunitcolor": "white"
                    },
                    "hoverlabel": {
                      "align": "left"
                    },
                    "hovermode": "closest",
                    "mapbox": {
                      "style": "light"
                    },
                    "paper_bgcolor": "white",
                    "plot_bgcolor": "#E5ECF6",
                    "polar": {
                      "angularaxis": {
                        "gridcolor": "white",
                        "linecolor": "white",
                        "ticks": ""
                      },
                      "bgcolor": "#E5ECF6",
                      "radialaxis": {
                        "gridcolor": "white",
                        "linecolor": "white",
                        "ticks": ""
                      }
                    },
                    "scene": {
                      "xaxis": {
                        "backgroundcolor": "#E5ECF6",
                        "gridcolor": "white",
                        "gridwidth": 2,
                        "linecolor": "white",
                        "showbackground": true,
                        "ticks": "",
                        "zerolinecolor": "white"
                      },
                      "yaxis": {
                        "backgroundcolor": "#E5ECF6",
                        "gridcolor": "white",
                        "gridwidth": 2,
                        "linecolor": "white",
                        "showbackground": true,
                        "ticks": "",
                        "zerolinecolor": "white"
                      },
                      "zaxis": {
                        "backgroundcolor": "#E5ECF6",
                        "gridcolor": "white",
                        "gridwidth": 2,
                        "linecolor": "white",
                        "showbackground": true,
                        "ticks": "",
                        "zerolinecolor": "white"
                      }
                    },
                    "shapedefaults": {
                      "line": {
                        "color": "#2a3f5f"
                      }
                    },
                    "ternary": {
                      "aaxis": {
                        "gridcolor": "white",
                        "linecolor": "white",
                        "ticks": ""
                      },
                      "baxis": {
                        "gridcolor": "white",
                        "linecolor": "white",
                        "ticks": ""
                      },
                      "bgcolor": "#E5ECF6",
                      "caxis": {
                        "gridcolor": "white",
                        "linecolor": "white",
                        "ticks": ""
                      }
                    },
                    "title": {
                      "x": 0.05
                    },
                    "xaxis": {
                      "automargin": true,
                      "gridcolor": "white",
                      "linecolor": "white",
                      "ticks": "",
                      "title": {
                        "standoff": 15
                      },
                      "zerolinecolor": "white",
                      "zerolinewidth": 2
                    },
                    "yaxis": {
                      "automargin": true,
                      "gridcolor": "white",
                      "linecolor": "white",
                      "ticks": "",
                      "title": {
                        "standoff": 15
                      },
                      "zerolinecolor": "white",
                      "zerolinewidth": 2
                    }
                  }
                },
                "title": {
                  "text": "Training and val loss across epochs"
                },
                "xaxis": {
                  "title": {
                    "text": "epochs"
                  }
                },
                "yaxis": {
                  "title": {
                    "text": "MSELoss()"
                  }
                }
              }
            }
          },
          "metadata": {},
          "output_type": "display_data"
        }
      ],
      "source": [
        "from plotly import graph_objects as go\n",
        "\n",
        "fig = go.Figure(data=[\n",
        "                      go.Scatter(\n",
        "                          y=history[\"train_loss\"],\n",
        "                          name=\"Training loss\",\n",
        "                          mode=\"lines\"\n",
        "                          ),\n",
        "                      go.Scatter(\n",
        "                          y=history[\"val_loss\"],\n",
        "                          name=\"Validation loss\",\n",
        "                          mode=\"lines\"\n",
        "                          )\n",
        "])\n",
        "fig.update_layout(\n",
        "    title='Training and val loss across epochs',\n",
        "    xaxis_title='epochs',\n",
        "    yaxis_title='MSELoss()'    \n",
        ")\n",
        "fig.show()"
      ]
    },
    {
      "cell_type": "code",
      "execution_count": 19,
      "metadata": {},
      "outputs": [
        {
          "data": {
            "application/vnd.plotly.v1+json": {
              "config": {
                "plotlyServerURL": "https://plot.ly"
              },
              "data": [
                {
                  "mode": "lines",
                  "name": "val_MAE",
                  "type": "scatter",
                  "y": [
                    0.5483531951904297,
                    0.5665227174758911
                  ]
                },
                {
                  "mode": "lines",
                  "name": "val_MSE",
                  "type": "scatter",
                  "y": [
                    0.48495540022850037,
                    0.49217450618743896
                  ]
                },
                {
                  "mode": "lines",
                  "name": "val_RMSE",
                  "type": "scatter",
                  "y": [
                    0.6963873923532077,
                    0.7015514993123734
                  ]
                },
                {
                  "mode": "lines",
                  "name": "val_R2",
                  "type": "scatter",
                  "y": [
                    0.026714667677879333,
                    -0.0014479607343673706
                  ]
                }
              ],
              "layout": {
                "template": {
                  "data": {
                    "bar": [
                      {
                        "error_x": {
                          "color": "#2a3f5f"
                        },
                        "error_y": {
                          "color": "#2a3f5f"
                        },
                        "marker": {
                          "line": {
                            "color": "#E5ECF6",
                            "width": 0.5
                          },
                          "pattern": {
                            "fillmode": "overlay",
                            "size": 10,
                            "solidity": 0.2
                          }
                        },
                        "type": "bar"
                      }
                    ],
                    "barpolar": [
                      {
                        "marker": {
                          "line": {
                            "color": "#E5ECF6",
                            "width": 0.5
                          },
                          "pattern": {
                            "fillmode": "overlay",
                            "size": 10,
                            "solidity": 0.2
                          }
                        },
                        "type": "barpolar"
                      }
                    ],
                    "carpet": [
                      {
                        "aaxis": {
                          "endlinecolor": "#2a3f5f",
                          "gridcolor": "white",
                          "linecolor": "white",
                          "minorgridcolor": "white",
                          "startlinecolor": "#2a3f5f"
                        },
                        "baxis": {
                          "endlinecolor": "#2a3f5f",
                          "gridcolor": "white",
                          "linecolor": "white",
                          "minorgridcolor": "white",
                          "startlinecolor": "#2a3f5f"
                        },
                        "type": "carpet"
                      }
                    ],
                    "choropleth": [
                      {
                        "colorbar": {
                          "outlinewidth": 0,
                          "ticks": ""
                        },
                        "type": "choropleth"
                      }
                    ],
                    "contour": [
                      {
                        "colorbar": {
                          "outlinewidth": 0,
                          "ticks": ""
                        },
                        "colorscale": [
                          [
                            0,
                            "#0d0887"
                          ],
                          [
                            0.1111111111111111,
                            "#46039f"
                          ],
                          [
                            0.2222222222222222,
                            "#7201a8"
                          ],
                          [
                            0.3333333333333333,
                            "#9c179e"
                          ],
                          [
                            0.4444444444444444,
                            "#bd3786"
                          ],
                          [
                            0.5555555555555556,
                            "#d8576b"
                          ],
                          [
                            0.6666666666666666,
                            "#ed7953"
                          ],
                          [
                            0.7777777777777778,
                            "#fb9f3a"
                          ],
                          [
                            0.8888888888888888,
                            "#fdca26"
                          ],
                          [
                            1,
                            "#f0f921"
                          ]
                        ],
                        "type": "contour"
                      }
                    ],
                    "contourcarpet": [
                      {
                        "colorbar": {
                          "outlinewidth": 0,
                          "ticks": ""
                        },
                        "type": "contourcarpet"
                      }
                    ],
                    "heatmap": [
                      {
                        "colorbar": {
                          "outlinewidth": 0,
                          "ticks": ""
                        },
                        "colorscale": [
                          [
                            0,
                            "#0d0887"
                          ],
                          [
                            0.1111111111111111,
                            "#46039f"
                          ],
                          [
                            0.2222222222222222,
                            "#7201a8"
                          ],
                          [
                            0.3333333333333333,
                            "#9c179e"
                          ],
                          [
                            0.4444444444444444,
                            "#bd3786"
                          ],
                          [
                            0.5555555555555556,
                            "#d8576b"
                          ],
                          [
                            0.6666666666666666,
                            "#ed7953"
                          ],
                          [
                            0.7777777777777778,
                            "#fb9f3a"
                          ],
                          [
                            0.8888888888888888,
                            "#fdca26"
                          ],
                          [
                            1,
                            "#f0f921"
                          ]
                        ],
                        "type": "heatmap"
                      }
                    ],
                    "histogram": [
                      {
                        "marker": {
                          "pattern": {
                            "fillmode": "overlay",
                            "size": 10,
                            "solidity": 0.2
                          }
                        },
                        "type": "histogram"
                      }
                    ],
                    "histogram2d": [
                      {
                        "colorbar": {
                          "outlinewidth": 0,
                          "ticks": ""
                        },
                        "colorscale": [
                          [
                            0,
                            "#0d0887"
                          ],
                          [
                            0.1111111111111111,
                            "#46039f"
                          ],
                          [
                            0.2222222222222222,
                            "#7201a8"
                          ],
                          [
                            0.3333333333333333,
                            "#9c179e"
                          ],
                          [
                            0.4444444444444444,
                            "#bd3786"
                          ],
                          [
                            0.5555555555555556,
                            "#d8576b"
                          ],
                          [
                            0.6666666666666666,
                            "#ed7953"
                          ],
                          [
                            0.7777777777777778,
                            "#fb9f3a"
                          ],
                          [
                            0.8888888888888888,
                            "#fdca26"
                          ],
                          [
                            1,
                            "#f0f921"
                          ]
                        ],
                        "type": "histogram2d"
                      }
                    ],
                    "histogram2dcontour": [
                      {
                        "colorbar": {
                          "outlinewidth": 0,
                          "ticks": ""
                        },
                        "colorscale": [
                          [
                            0,
                            "#0d0887"
                          ],
                          [
                            0.1111111111111111,
                            "#46039f"
                          ],
                          [
                            0.2222222222222222,
                            "#7201a8"
                          ],
                          [
                            0.3333333333333333,
                            "#9c179e"
                          ],
                          [
                            0.4444444444444444,
                            "#bd3786"
                          ],
                          [
                            0.5555555555555556,
                            "#d8576b"
                          ],
                          [
                            0.6666666666666666,
                            "#ed7953"
                          ],
                          [
                            0.7777777777777778,
                            "#fb9f3a"
                          ],
                          [
                            0.8888888888888888,
                            "#fdca26"
                          ],
                          [
                            1,
                            "#f0f921"
                          ]
                        ],
                        "type": "histogram2dcontour"
                      }
                    ],
                    "mesh3d": [
                      {
                        "colorbar": {
                          "outlinewidth": 0,
                          "ticks": ""
                        },
                        "type": "mesh3d"
                      }
                    ],
                    "parcoords": [
                      {
                        "line": {
                          "colorbar": {
                            "outlinewidth": 0,
                            "ticks": ""
                          }
                        },
                        "type": "parcoords"
                      }
                    ],
                    "pie": [
                      {
                        "automargin": true,
                        "type": "pie"
                      }
                    ],
                    "scatter": [
                      {
                        "fillpattern": {
                          "fillmode": "overlay",
                          "size": 10,
                          "solidity": 0.2
                        },
                        "type": "scatter"
                      }
                    ],
                    "scatter3d": [
                      {
                        "line": {
                          "colorbar": {
                            "outlinewidth": 0,
                            "ticks": ""
                          }
                        },
                        "marker": {
                          "colorbar": {
                            "outlinewidth": 0,
                            "ticks": ""
                          }
                        },
                        "type": "scatter3d"
                      }
                    ],
                    "scattercarpet": [
                      {
                        "marker": {
                          "colorbar": {
                            "outlinewidth": 0,
                            "ticks": ""
                          }
                        },
                        "type": "scattercarpet"
                      }
                    ],
                    "scattergeo": [
                      {
                        "marker": {
                          "colorbar": {
                            "outlinewidth": 0,
                            "ticks": ""
                          }
                        },
                        "type": "scattergeo"
                      }
                    ],
                    "scattergl": [
                      {
                        "marker": {
                          "colorbar": {
                            "outlinewidth": 0,
                            "ticks": ""
                          }
                        },
                        "type": "scattergl"
                      }
                    ],
                    "scattermap": [
                      {
                        "marker": {
                          "colorbar": {
                            "outlinewidth": 0,
                            "ticks": ""
                          }
                        },
                        "type": "scattermap"
                      }
                    ],
                    "scattermapbox": [
                      {
                        "marker": {
                          "colorbar": {
                            "outlinewidth": 0,
                            "ticks": ""
                          }
                        },
                        "type": "scattermapbox"
                      }
                    ],
                    "scatterpolar": [
                      {
                        "marker": {
                          "colorbar": {
                            "outlinewidth": 0,
                            "ticks": ""
                          }
                        },
                        "type": "scatterpolar"
                      }
                    ],
                    "scatterpolargl": [
                      {
                        "marker": {
                          "colorbar": {
                            "outlinewidth": 0,
                            "ticks": ""
                          }
                        },
                        "type": "scatterpolargl"
                      }
                    ],
                    "scatterternary": [
                      {
                        "marker": {
                          "colorbar": {
                            "outlinewidth": 0,
                            "ticks": ""
                          }
                        },
                        "type": "scatterternary"
                      }
                    ],
                    "surface": [
                      {
                        "colorbar": {
                          "outlinewidth": 0,
                          "ticks": ""
                        },
                        "colorscale": [
                          [
                            0,
                            "#0d0887"
                          ],
                          [
                            0.1111111111111111,
                            "#46039f"
                          ],
                          [
                            0.2222222222222222,
                            "#7201a8"
                          ],
                          [
                            0.3333333333333333,
                            "#9c179e"
                          ],
                          [
                            0.4444444444444444,
                            "#bd3786"
                          ],
                          [
                            0.5555555555555556,
                            "#d8576b"
                          ],
                          [
                            0.6666666666666666,
                            "#ed7953"
                          ],
                          [
                            0.7777777777777778,
                            "#fb9f3a"
                          ],
                          [
                            0.8888888888888888,
                            "#fdca26"
                          ],
                          [
                            1,
                            "#f0f921"
                          ]
                        ],
                        "type": "surface"
                      }
                    ],
                    "table": [
                      {
                        "cells": {
                          "fill": {
                            "color": "#EBF0F8"
                          },
                          "line": {
                            "color": "white"
                          }
                        },
                        "header": {
                          "fill": {
                            "color": "#C8D4E3"
                          },
                          "line": {
                            "color": "white"
                          }
                        },
                        "type": "table"
                      }
                    ]
                  },
                  "layout": {
                    "annotationdefaults": {
                      "arrowcolor": "#2a3f5f",
                      "arrowhead": 0,
                      "arrowwidth": 1
                    },
                    "autotypenumbers": "strict",
                    "coloraxis": {
                      "colorbar": {
                        "outlinewidth": 0,
                        "ticks": ""
                      }
                    },
                    "colorscale": {
                      "diverging": [
                        [
                          0,
                          "#8e0152"
                        ],
                        [
                          0.1,
                          "#c51b7d"
                        ],
                        [
                          0.2,
                          "#de77ae"
                        ],
                        [
                          0.3,
                          "#f1b6da"
                        ],
                        [
                          0.4,
                          "#fde0ef"
                        ],
                        [
                          0.5,
                          "#f7f7f7"
                        ],
                        [
                          0.6,
                          "#e6f5d0"
                        ],
                        [
                          0.7,
                          "#b8e186"
                        ],
                        [
                          0.8,
                          "#7fbc41"
                        ],
                        [
                          0.9,
                          "#4d9221"
                        ],
                        [
                          1,
                          "#276419"
                        ]
                      ],
                      "sequential": [
                        [
                          0,
                          "#0d0887"
                        ],
                        [
                          0.1111111111111111,
                          "#46039f"
                        ],
                        [
                          0.2222222222222222,
                          "#7201a8"
                        ],
                        [
                          0.3333333333333333,
                          "#9c179e"
                        ],
                        [
                          0.4444444444444444,
                          "#bd3786"
                        ],
                        [
                          0.5555555555555556,
                          "#d8576b"
                        ],
                        [
                          0.6666666666666666,
                          "#ed7953"
                        ],
                        [
                          0.7777777777777778,
                          "#fb9f3a"
                        ],
                        [
                          0.8888888888888888,
                          "#fdca26"
                        ],
                        [
                          1,
                          "#f0f921"
                        ]
                      ],
                      "sequentialminus": [
                        [
                          0,
                          "#0d0887"
                        ],
                        [
                          0.1111111111111111,
                          "#46039f"
                        ],
                        [
                          0.2222222222222222,
                          "#7201a8"
                        ],
                        [
                          0.3333333333333333,
                          "#9c179e"
                        ],
                        [
                          0.4444444444444444,
                          "#bd3786"
                        ],
                        [
                          0.5555555555555556,
                          "#d8576b"
                        ],
                        [
                          0.6666666666666666,
                          "#ed7953"
                        ],
                        [
                          0.7777777777777778,
                          "#fb9f3a"
                        ],
                        [
                          0.8888888888888888,
                          "#fdca26"
                        ],
                        [
                          1,
                          "#f0f921"
                        ]
                      ]
                    },
                    "colorway": [
                      "#636efa",
                      "#EF553B",
                      "#00cc96",
                      "#ab63fa",
                      "#FFA15A",
                      "#19d3f3",
                      "#FF6692",
                      "#B6E880",
                      "#FF97FF",
                      "#FECB52"
                    ],
                    "font": {
                      "color": "#2a3f5f"
                    },
                    "geo": {
                      "bgcolor": "white",
                      "lakecolor": "white",
                      "landcolor": "#E5ECF6",
                      "showlakes": true,
                      "showland": true,
                      "subunitcolor": "white"
                    },
                    "hoverlabel": {
                      "align": "left"
                    },
                    "hovermode": "closest",
                    "mapbox": {
                      "style": "light"
                    },
                    "paper_bgcolor": "white",
                    "plot_bgcolor": "#E5ECF6",
                    "polar": {
                      "angularaxis": {
                        "gridcolor": "white",
                        "linecolor": "white",
                        "ticks": ""
                      },
                      "bgcolor": "#E5ECF6",
                      "radialaxis": {
                        "gridcolor": "white",
                        "linecolor": "white",
                        "ticks": ""
                      }
                    },
                    "scene": {
                      "xaxis": {
                        "backgroundcolor": "#E5ECF6",
                        "gridcolor": "white",
                        "gridwidth": 2,
                        "linecolor": "white",
                        "showbackground": true,
                        "ticks": "",
                        "zerolinecolor": "white"
                      },
                      "yaxis": {
                        "backgroundcolor": "#E5ECF6",
                        "gridcolor": "white",
                        "gridwidth": 2,
                        "linecolor": "white",
                        "showbackground": true,
                        "ticks": "",
                        "zerolinecolor": "white"
                      },
                      "zaxis": {
                        "backgroundcolor": "#E5ECF6",
                        "gridcolor": "white",
                        "gridwidth": 2,
                        "linecolor": "white",
                        "showbackground": true,
                        "ticks": "",
                        "zerolinecolor": "white"
                      }
                    },
                    "shapedefaults": {
                      "line": {
                        "color": "#2a3f5f"
                      }
                    },
                    "ternary": {
                      "aaxis": {
                        "gridcolor": "white",
                        "linecolor": "white",
                        "ticks": ""
                      },
                      "baxis": {
                        "gridcolor": "white",
                        "linecolor": "white",
                        "ticks": ""
                      },
                      "bgcolor": "#E5ECF6",
                      "caxis": {
                        "gridcolor": "white",
                        "linecolor": "white",
                        "ticks": ""
                      }
                    },
                    "title": {
                      "x": 0.05
                    },
                    "xaxis": {
                      "automargin": true,
                      "gridcolor": "white",
                      "linecolor": "white",
                      "ticks": "",
                      "title": {
                        "standoff": 15
                      },
                      "zerolinecolor": "white",
                      "zerolinewidth": 2
                    },
                    "yaxis": {
                      "automargin": true,
                      "gridcolor": "white",
                      "linecolor": "white",
                      "ticks": "",
                      "title": {
                        "standoff": 15
                      },
                      "zerolinecolor": "white",
                      "zerolinewidth": 2
                    }
                  }
                },
                "title": {
                  "text": "Score across epochs"
                },
                "xaxis": {
                  "title": {
                    "text": "epochs"
                  }
                },
                "yaxis": {
                  "title": {
                    "text": "Score"
                  }
                }
              }
            }
          },
          "metadata": {},
          "output_type": "display_data"
        }
      ],
      "source": [
        "from plotly import graph_objects as go\n",
        "\n",
        "fig = go.Figure(data=[\n",
        "                      go.Scatter(\n",
        "                          y=history[\"val_MAE\"],\n",
        "                          name=\"val_MAE\",\n",
        "                          mode=\"lines\"\n",
        "                          ),\n",
        "                      go.Scatter(\n",
        "                          y=history[\"val_MSE\"],\n",
        "                          name=\"val_MSE\",\n",
        "                          mode=\"lines\"\n",
        "                          ),\n",
        "                          go.Scatter(\n",
        "                          y=history[\"val_RMSE\"],\n",
        "                          name=\"val_RMSE\",\n",
        "                          mode=\"lines\"\n",
        "                          ),\n",
        "                      go.Scatter(\n",
        "                          y=history[\"val_R2\"],\n",
        "                          name=\"val_R2\",\n",
        "                          mode=\"lines\"\n",
        "                          )\n",
        "])\n",
        "fig.update_layout(\n",
        "    title='Score across epochs',\n",
        "    xaxis_title='epochs',\n",
        "    yaxis_title='Score'    \n",
        ")\n",
        "fig.show()"
      ]
    },
    {
      "cell_type": "markdown",
      "metadata": {},
      "source": [
        "# IX/ Model registration + export"
      ]
    },
    {
      "cell_type": "code",
      "execution_count": null,
      "metadata": {},
      "outputs": [
        {
          "name": "stdout",
          "output_type": "stream",
          "text": [
            "✅ Modèle exporté au format ONNX : daisee_model.onnx\n"
          ]
        }
      ],
      "source": [
        "# # Backup path\n",
        "# onnx_export_path = \"daisee_model.onnx\"\n",
        "\n",
        "# # Dummy input — must match the size expected by your model\n",
        "# dummy_input = torch.randn(1, 3, 224, 224, device=DEVICE)\n",
        "\n",
        "# # Export ONNX\n",
        "# torch.onnx.export(\n",
        "#     model_ft,                  \n",
        "#     dummy_input,               \n",
        "#     onnx_export_path,          \n",
        "#     input_names=['input'],     \n",
        "#     output_names=['output'],   \n",
        "#     dynamic_axes={\n",
        "#         'input': {0: 'batch_size'},\n",
        "#         'output': {0: 'batch_size'}\n",
        "#     },\n",
        "#     opset_version=11,          # ONNX opset version (11 is safe for compatibility)\n",
        "#     do_constant_folding=True   # Optimization for constants\n",
        "# )\n",
        "\n",
        "# print(f\"✅ Modèle exporté au format ONNX : {onnx_export_path}\")\n"
      ]
    }
  ],
  "metadata": {
    "colab": {
      "provenance": []
    },
    "kernelspec": {
      "display_name": "dl_project_py311",
      "language": "python",
      "name": "python3"
    },
    "language_info": {
      "codemirror_mode": {
        "name": "ipython",
        "version": 3
      },
      "file_extension": ".py",
      "mimetype": "text/x-python",
      "name": "python",
      "nbconvert_exporter": "python",
      "pygments_lexer": "ipython3",
      "version": "3.11.0"
    }
  },
  "nbformat": 4,
  "nbformat_minor": 0
}
